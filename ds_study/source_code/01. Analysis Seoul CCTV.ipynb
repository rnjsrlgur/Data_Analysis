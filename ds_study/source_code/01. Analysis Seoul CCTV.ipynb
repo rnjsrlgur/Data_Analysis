{
 "cells": [
  {
   "cell_type": "markdown",
   "id": "e6d8afda",
   "metadata": {},
   "source": [
    "# 01. Anaysis Seoul CCTV"
   ]
  },
  {
   "cell_type": "markdown",
   "id": "9587092c",
   "metadata": {},
   "source": [
    "## 1. 데이터 읽기"
   ]
  },
  {
   "cell_type": "code",
   "execution_count": 188,
   "id": "c42fa948",
   "metadata": {},
   "outputs": [],
   "source": [
    "import pandas as pd"
   ]
  },
  {
   "cell_type": "code",
   "execution_count": 189,
   "id": "4cb12527",
   "metadata": {},
   "outputs": [],
   "source": [
    "CCTV_Seoul = pd.read_csv(\"../data/01. Seoul_CCTV.csv\", encoding=\"utf-8\")"
   ]
  },
  {
   "cell_type": "code",
   "execution_count": 190,
   "id": "b8cc206c",
   "metadata": {},
   "outputs": [
    {
     "data": {
      "text/html": [
       "<div>\n",
       "<style scoped>\n",
       "    .dataframe tbody tr th:only-of-type {\n",
       "        vertical-align: middle;\n",
       "    }\n",
       "\n",
       "    .dataframe tbody tr th {\n",
       "        vertical-align: top;\n",
       "    }\n",
       "\n",
       "    .dataframe thead th {\n",
       "        text-align: right;\n",
       "    }\n",
       "</style>\n",
       "<table border=\"1\" class=\"dataframe\">\n",
       "  <thead>\n",
       "    <tr style=\"text-align: right;\">\n",
       "      <th></th>\n",
       "      <th>기관명</th>\n",
       "      <th>소계</th>\n",
       "      <th>2013년도 이전</th>\n",
       "      <th>2014년</th>\n",
       "      <th>2015년</th>\n",
       "      <th>2016년</th>\n",
       "    </tr>\n",
       "  </thead>\n",
       "  <tbody>\n",
       "    <tr>\n",
       "      <th>0</th>\n",
       "      <td>강남구</td>\n",
       "      <td>3238</td>\n",
       "      <td>1292</td>\n",
       "      <td>430</td>\n",
       "      <td>584</td>\n",
       "      <td>932</td>\n",
       "    </tr>\n",
       "    <tr>\n",
       "      <th>1</th>\n",
       "      <td>강동구</td>\n",
       "      <td>1010</td>\n",
       "      <td>379</td>\n",
       "      <td>99</td>\n",
       "      <td>155</td>\n",
       "      <td>377</td>\n",
       "    </tr>\n",
       "    <tr>\n",
       "      <th>2</th>\n",
       "      <td>강북구</td>\n",
       "      <td>831</td>\n",
       "      <td>369</td>\n",
       "      <td>120</td>\n",
       "      <td>138</td>\n",
       "      <td>204</td>\n",
       "    </tr>\n",
       "    <tr>\n",
       "      <th>3</th>\n",
       "      <td>강서구</td>\n",
       "      <td>911</td>\n",
       "      <td>388</td>\n",
       "      <td>258</td>\n",
       "      <td>184</td>\n",
       "      <td>81</td>\n",
       "    </tr>\n",
       "    <tr>\n",
       "      <th>4</th>\n",
       "      <td>관악구</td>\n",
       "      <td>2109</td>\n",
       "      <td>846</td>\n",
       "      <td>260</td>\n",
       "      <td>390</td>\n",
       "      <td>613</td>\n",
       "    </tr>\n",
       "  </tbody>\n",
       "</table>\n",
       "</div>"
      ],
      "text/plain": [
       "   기관명    소계  2013년도 이전  2014년  2015년  2016년\n",
       "0  강남구  3238       1292    430    584    932\n",
       "1  강동구  1010        379     99    155    377\n",
       "2  강북구   831        369    120    138    204\n",
       "3  강서구   911        388    258    184     81\n",
       "4  관악구  2109        846    260    390    613"
      ]
     },
     "execution_count": 190,
     "metadata": {},
     "output_type": "execute_result"
    }
   ],
   "source": [
    "CCTV_Seoul.head()"
   ]
  },
  {
   "cell_type": "code",
   "execution_count": 191,
   "id": "aeb2366c",
   "metadata": {},
   "outputs": [
    {
     "data": {
      "text/html": [
       "<div>\n",
       "<style scoped>\n",
       "    .dataframe tbody tr th:only-of-type {\n",
       "        vertical-align: middle;\n",
       "    }\n",
       "\n",
       "    .dataframe tbody tr th {\n",
       "        vertical-align: top;\n",
       "    }\n",
       "\n",
       "    .dataframe thead th {\n",
       "        text-align: right;\n",
       "    }\n",
       "</style>\n",
       "<table border=\"1\" class=\"dataframe\">\n",
       "  <thead>\n",
       "    <tr style=\"text-align: right;\">\n",
       "      <th></th>\n",
       "      <th>기관명</th>\n",
       "      <th>소계</th>\n",
       "      <th>2013년도 이전</th>\n",
       "      <th>2014년</th>\n",
       "      <th>2015년</th>\n",
       "      <th>2016년</th>\n",
       "    </tr>\n",
       "  </thead>\n",
       "  <tbody>\n",
       "    <tr>\n",
       "      <th>20</th>\n",
       "      <td>용산구</td>\n",
       "      <td>2096</td>\n",
       "      <td>1368</td>\n",
       "      <td>218</td>\n",
       "      <td>112</td>\n",
       "      <td>398</td>\n",
       "    </tr>\n",
       "    <tr>\n",
       "      <th>21</th>\n",
       "      <td>은평구</td>\n",
       "      <td>2108</td>\n",
       "      <td>1138</td>\n",
       "      <td>224</td>\n",
       "      <td>278</td>\n",
       "      <td>468</td>\n",
       "    </tr>\n",
       "    <tr>\n",
       "      <th>22</th>\n",
       "      <td>종로구</td>\n",
       "      <td>1619</td>\n",
       "      <td>464</td>\n",
       "      <td>314</td>\n",
       "      <td>211</td>\n",
       "      <td>630</td>\n",
       "    </tr>\n",
       "    <tr>\n",
       "      <th>23</th>\n",
       "      <td>중구</td>\n",
       "      <td>1023</td>\n",
       "      <td>413</td>\n",
       "      <td>190</td>\n",
       "      <td>72</td>\n",
       "      <td>348</td>\n",
       "    </tr>\n",
       "    <tr>\n",
       "      <th>24</th>\n",
       "      <td>중랑구</td>\n",
       "      <td>916</td>\n",
       "      <td>509</td>\n",
       "      <td>121</td>\n",
       "      <td>177</td>\n",
       "      <td>109</td>\n",
       "    </tr>\n",
       "  </tbody>\n",
       "</table>\n",
       "</div>"
      ],
      "text/plain": [
       "    기관명    소계  2013년도 이전  2014년  2015년  2016년\n",
       "20  용산구  2096       1368    218    112    398\n",
       "21  은평구  2108       1138    224    278    468\n",
       "22  종로구  1619        464    314    211    630\n",
       "23   중구  1023        413    190     72    348\n",
       "24  중랑구   916        509    121    177    109"
      ]
     },
     "execution_count": 191,
     "metadata": {},
     "output_type": "execute_result"
    }
   ],
   "source": [
    "CCTV_Seoul.tail()"
   ]
  },
  {
   "cell_type": "code",
   "execution_count": 192,
   "id": "f75c5e02",
   "metadata": {},
   "outputs": [
    {
     "data": {
      "text/plain": [
       "Index(['기관명', '소계', '2013년도 이전', '2014년', '2015년', '2016년'], dtype='object')"
      ]
     },
     "execution_count": 192,
     "metadata": {},
     "output_type": "execute_result"
    }
   ],
   "source": [
    "CCTV_Seoul.columns"
   ]
  },
  {
   "cell_type": "code",
   "execution_count": 193,
   "id": "567da0f5",
   "metadata": {},
   "outputs": [
    {
     "data": {
      "text/plain": [
       "'기관명'"
      ]
     },
     "execution_count": 193,
     "metadata": {},
     "output_type": "execute_result"
    }
   ],
   "source": [
    "CCTV_Seoul.columns[0]"
   ]
  },
  {
   "cell_type": "code",
   "execution_count": 194,
   "id": "03f8d3cb",
   "metadata": {},
   "outputs": [],
   "source": [
    "CCTV_Seoul.rename(columns={CCTV_Seoul.columns[0]:\"구별\"}, inplace=True)# 원본까지 적용"
   ]
  },
  {
   "cell_type": "code",
   "execution_count": 195,
   "id": "6afa47f4",
   "metadata": {},
   "outputs": [
    {
     "data": {
      "text/plain": [
       "'구별'"
      ]
     },
     "execution_count": 195,
     "metadata": {},
     "output_type": "execute_result"
    }
   ],
   "source": [
    "CCTV_Seoul.columns[0]"
   ]
  },
  {
   "cell_type": "code",
   "execution_count": 196,
   "id": "fd3f8839",
   "metadata": {},
   "outputs": [],
   "source": [
    "pop_Seoul = pd.read_excel(\"../data/01. Seoul_Population.xls\", header=2, usecols=\"B, D, G, J, N\")"
   ]
  },
  {
   "cell_type": "code",
   "execution_count": 197,
   "id": "b786e3d4",
   "metadata": {},
   "outputs": [
    {
     "data": {
      "text/html": [
       "<div>\n",
       "<style scoped>\n",
       "    .dataframe tbody tr th:only-of-type {\n",
       "        vertical-align: middle;\n",
       "    }\n",
       "\n",
       "    .dataframe tbody tr th {\n",
       "        vertical-align: top;\n",
       "    }\n",
       "\n",
       "    .dataframe thead th {\n",
       "        text-align: right;\n",
       "    }\n",
       "</style>\n",
       "<table border=\"1\" class=\"dataframe\">\n",
       "  <thead>\n",
       "    <tr style=\"text-align: right;\">\n",
       "      <th></th>\n",
       "      <th>자치구</th>\n",
       "      <th>계</th>\n",
       "      <th>계.1</th>\n",
       "      <th>계.2</th>\n",
       "      <th>65세이상고령자</th>\n",
       "    </tr>\n",
       "  </thead>\n",
       "  <tbody>\n",
       "    <tr>\n",
       "      <th>0</th>\n",
       "      <td>합계</td>\n",
       "      <td>10124579</td>\n",
       "      <td>9857426</td>\n",
       "      <td>267153</td>\n",
       "      <td>1365126</td>\n",
       "    </tr>\n",
       "    <tr>\n",
       "      <th>1</th>\n",
       "      <td>종로구</td>\n",
       "      <td>164257</td>\n",
       "      <td>154770</td>\n",
       "      <td>9487</td>\n",
       "      <td>26182</td>\n",
       "    </tr>\n",
       "    <tr>\n",
       "      <th>2</th>\n",
       "      <td>중구</td>\n",
       "      <td>134593</td>\n",
       "      <td>125709</td>\n",
       "      <td>8884</td>\n",
       "      <td>21384</td>\n",
       "    </tr>\n",
       "    <tr>\n",
       "      <th>3</th>\n",
       "      <td>용산구</td>\n",
       "      <td>244444</td>\n",
       "      <td>229161</td>\n",
       "      <td>15283</td>\n",
       "      <td>36882</td>\n",
       "    </tr>\n",
       "    <tr>\n",
       "      <th>4</th>\n",
       "      <td>성동구</td>\n",
       "      <td>312711</td>\n",
       "      <td>304808</td>\n",
       "      <td>7903</td>\n",
       "      <td>41273</td>\n",
       "    </tr>\n",
       "  </tbody>\n",
       "</table>\n",
       "</div>"
      ],
      "text/plain": [
       "   자치구         계      계.1     계.2  65세이상고령자\n",
       "0   합계  10124579  9857426  267153   1365126\n",
       "1  종로구    164257   154770    9487     26182\n",
       "2   중구    134593   125709    8884     21384\n",
       "3  용산구    244444   229161   15283     36882\n",
       "4  성동구    312711   304808    7903     41273"
      ]
     },
     "execution_count": 197,
     "metadata": {},
     "output_type": "execute_result"
    }
   ],
   "source": [
    "pop_Seoul.head()"
   ]
  },
  {
   "cell_type": "code",
   "execution_count": 198,
   "id": "96affe2a",
   "metadata": {},
   "outputs": [
    {
     "data": {
      "text/html": [
       "<div>\n",
       "<style scoped>\n",
       "    .dataframe tbody tr th:only-of-type {\n",
       "        vertical-align: middle;\n",
       "    }\n",
       "\n",
       "    .dataframe tbody tr th {\n",
       "        vertical-align: top;\n",
       "    }\n",
       "\n",
       "    .dataframe thead th {\n",
       "        text-align: right;\n",
       "    }\n",
       "</style>\n",
       "<table border=\"1\" class=\"dataframe\">\n",
       "  <thead>\n",
       "    <tr style=\"text-align: right;\">\n",
       "      <th></th>\n",
       "      <th>구별</th>\n",
       "      <th>인구수</th>\n",
       "      <th>한국인</th>\n",
       "      <th>외국인</th>\n",
       "      <th>고령자</th>\n",
       "    </tr>\n",
       "  </thead>\n",
       "  <tbody>\n",
       "    <tr>\n",
       "      <th>0</th>\n",
       "      <td>합계</td>\n",
       "      <td>10124579</td>\n",
       "      <td>9857426</td>\n",
       "      <td>267153</td>\n",
       "      <td>1365126</td>\n",
       "    </tr>\n",
       "    <tr>\n",
       "      <th>1</th>\n",
       "      <td>종로구</td>\n",
       "      <td>164257</td>\n",
       "      <td>154770</td>\n",
       "      <td>9487</td>\n",
       "      <td>26182</td>\n",
       "    </tr>\n",
       "    <tr>\n",
       "      <th>2</th>\n",
       "      <td>중구</td>\n",
       "      <td>134593</td>\n",
       "      <td>125709</td>\n",
       "      <td>8884</td>\n",
       "      <td>21384</td>\n",
       "    </tr>\n",
       "    <tr>\n",
       "      <th>3</th>\n",
       "      <td>용산구</td>\n",
       "      <td>244444</td>\n",
       "      <td>229161</td>\n",
       "      <td>15283</td>\n",
       "      <td>36882</td>\n",
       "    </tr>\n",
       "    <tr>\n",
       "      <th>4</th>\n",
       "      <td>성동구</td>\n",
       "      <td>312711</td>\n",
       "      <td>304808</td>\n",
       "      <td>7903</td>\n",
       "      <td>41273</td>\n",
       "    </tr>\n",
       "  </tbody>\n",
       "</table>\n",
       "</div>"
      ],
      "text/plain": [
       "    구별       인구수      한국인     외국인      고령자\n",
       "0   합계  10124579  9857426  267153  1365126\n",
       "1  종로구    164257   154770    9487    26182\n",
       "2   중구    134593   125709    8884    21384\n",
       "3  용산구    244444   229161   15283    36882\n",
       "4  성동구    312711   304808    7903    41273"
      ]
     },
     "execution_count": 198,
     "metadata": {},
     "output_type": "execute_result"
    }
   ],
   "source": [
    "pop_Seoul.rename(\n",
    "    columns={\n",
    "        pop_Seoul.columns[0]: \"구별\",\n",
    "        pop_Seoul.columns[1]: \"인구수\",\n",
    "        pop_Seoul.columns[2]: \"한국인\",\n",
    "        pop_Seoul.columns[3]: \"외국인\",\n",
    "        pop_Seoul.columns[4]: \"고령자\",\n",
    "    },\n",
    "    inplace=True,\n",
    ")\n",
    "\n",
    "pop_Seoul.head()"
   ]
  },
  {
   "cell_type": "markdown",
   "id": "b6fa724e",
   "metadata": {},
   "source": [
    "---"
   ]
  },
  {
   "cell_type": "markdown",
   "id": "59b7102e",
   "metadata": {},
   "source": [
    "## pandas 기초\n",
    "- Python에서 R 만큼의 강력한 데이터 핸들링 성능을 제공하는 모듈\n",
    "- 단일 프로세스에서는 최대 효율\n",
    "- 코딩 가능하고 응용 가능한 엑셀로 받아들여도 됨\n"
   ]
  },
  {
   "cell_type": "markdown",
   "id": "0995cbbe",
   "metadata": {},
   "source": [
    "### Series\n",
    "- index와 value로 이루어져 있다.\n",
    "- 한 가지 데이터 타입만 가질 수 있다."
   ]
  },
  {
   "cell_type": "code",
   "execution_count": 199,
   "id": "8c65da50",
   "metadata": {},
   "outputs": [],
   "source": [
    "import pandas as pd\n",
    "import numpy as np"
   ]
  },
  {
   "cell_type": "markdown",
   "id": "05e0f365",
   "metadata": {},
   "source": [
    "- pandas는 통상 pd\n",
    "- numpy는 통상 np"
   ]
  },
  {
   "cell_type": "code",
   "execution_count": 200,
   "id": "f55dad39",
   "metadata": {},
   "outputs": [
    {
     "data": {
      "text/plain": [
       "0    1\n",
       "1    2\n",
       "2    3\n",
       "3    4\n",
       "dtype: int64"
      ]
     },
     "execution_count": 200,
     "metadata": {},
     "output_type": "execute_result"
    }
   ],
   "source": [
    "pd.Series([1, 2, 3, 4])"
   ]
  },
  {
   "cell_type": "code",
   "execution_count": 201,
   "id": "3d0d4426",
   "metadata": {},
   "outputs": [
    {
     "data": {
      "text/plain": [
       "0    1.0\n",
       "1    2.0\n",
       "2    3.0\n",
       "3    4.0\n",
       "dtype: float64"
      ]
     },
     "execution_count": 201,
     "metadata": {},
     "output_type": "execute_result"
    }
   ],
   "source": [
    "pd.Series([1, 2, 3, 4], dtype=np.float64)"
   ]
  },
  {
   "cell_type": "code",
   "execution_count": 202,
   "id": "f3aa0061",
   "metadata": {},
   "outputs": [
    {
     "data": {
      "text/plain": [
       "0    1\n",
       "1    2\n",
       "2    3\n",
       "3    4\n",
       "dtype: object"
      ]
     },
     "execution_count": 202,
     "metadata": {},
     "output_type": "execute_result"
    }
   ],
   "source": [
    "pd.Series([1, 2, 3, 4], dtype=str)"
   ]
  },
  {
   "cell_type": "code",
   "execution_count": 203,
   "id": "fc5a1416",
   "metadata": {},
   "outputs": [
    {
     "data": {
      "text/plain": [
       "0    1\n",
       "1    2\n",
       "2    3\n",
       "dtype: int32"
      ]
     },
     "execution_count": 203,
     "metadata": {},
     "output_type": "execute_result"
    }
   ],
   "source": [
    "pd.Series(np.array([1, 2, 3]))"
   ]
  },
  {
   "cell_type": "code",
   "execution_count": 204,
   "id": "1f0bd171",
   "metadata": {},
   "outputs": [
    {
     "data": {
      "text/plain": [
       "key    value\n",
       "dtype: object"
      ]
     },
     "execution_count": 204,
     "metadata": {},
     "output_type": "execute_result"
    }
   ],
   "source": [
    "pd.Series({\"key\":\"value\"})"
   ]
  },
  {
   "cell_type": "code",
   "execution_count": 205,
   "id": "5da676ef",
   "metadata": {},
   "outputs": [],
   "source": [
    "data = pd.Series([1, 2, 3, 4, 5])"
   ]
  },
  {
   "cell_type": "code",
   "execution_count": 206,
   "id": "589ddbb2",
   "metadata": {},
   "outputs": [
    {
     "data": {
      "text/plain": [
       "0    1\n",
       "1    0\n",
       "2    1\n",
       "3    0\n",
       "4    1\n",
       "dtype: int64"
      ]
     },
     "execution_count": 206,
     "metadata": {},
     "output_type": "execute_result"
    }
   ],
   "source": [
    "# 짝수를 찾고 싶다\n",
    "data % 2"
   ]
  },
  {
   "cell_type": "markdown",
   "id": "463662fb",
   "metadata": {},
   "source": [
    "### 날짜 데이터"
   ]
  },
  {
   "cell_type": "code",
   "execution_count": 207,
   "id": "46a61618",
   "metadata": {},
   "outputs": [],
   "source": [
    "dates = pd.date_range(\"20230509\", periods=6)"
   ]
  },
  {
   "cell_type": "markdown",
   "id": "5f8ae912",
   "metadata": {},
   "source": [
    "### DataFrame\n",
    "- pd.DataFrame()\n",
    "    - index, value, column"
   ]
  },
  {
   "cell_type": "code",
   "execution_count": 208,
   "id": "d9f55828",
   "metadata": {},
   "outputs": [
    {
     "data": {
      "text/plain": [
       "array([[ 0.7841657 , -0.06875472, -0.09970314,  0.57471789],\n",
       "       [-0.46811188,  1.39089247, -1.9673304 , -0.55436007],\n",
       "       [-0.62223233, -0.7009664 , -0.65322921, -1.21984065],\n",
       "       [ 0.58721663, -0.17355115,  0.35523423,  1.97373443],\n",
       "       [-0.78416727,  0.53247849, -0.14737182, -1.14551526],\n",
       "       [-0.29019014, -0.26330928, -1.30942631, -1.37128115]])"
      ]
     },
     "execution_count": 208,
     "metadata": {},
     "output_type": "execute_result"
    }
   ],
   "source": [
    "# 표준 정규분포에서 샘플링한 난수 생성\n",
    "data = np.random.randn(6, 4)\n",
    "data"
   ]
  },
  {
   "cell_type": "code",
   "execution_count": 209,
   "id": "87042a45",
   "metadata": {
    "scrolled": true
   },
   "outputs": [
    {
     "data": {
      "text/html": [
       "<div>\n",
       "<style scoped>\n",
       "    .dataframe tbody tr th:only-of-type {\n",
       "        vertical-align: middle;\n",
       "    }\n",
       "\n",
       "    .dataframe tbody tr th {\n",
       "        vertical-align: top;\n",
       "    }\n",
       "\n",
       "    .dataframe thead th {\n",
       "        text-align: right;\n",
       "    }\n",
       "</style>\n",
       "<table border=\"1\" class=\"dataframe\">\n",
       "  <thead>\n",
       "    <tr style=\"text-align: right;\">\n",
       "      <th></th>\n",
       "      <th>A</th>\n",
       "      <th>B</th>\n",
       "      <th>C</th>\n",
       "      <th>D</th>\n",
       "    </tr>\n",
       "  </thead>\n",
       "  <tbody>\n",
       "    <tr>\n",
       "      <th>2023-05-09</th>\n",
       "      <td>0.784166</td>\n",
       "      <td>-0.068755</td>\n",
       "      <td>-0.099703</td>\n",
       "      <td>0.574718</td>\n",
       "    </tr>\n",
       "    <tr>\n",
       "      <th>2023-05-10</th>\n",
       "      <td>-0.468112</td>\n",
       "      <td>1.390892</td>\n",
       "      <td>-1.967330</td>\n",
       "      <td>-0.554360</td>\n",
       "    </tr>\n",
       "    <tr>\n",
       "      <th>2023-05-11</th>\n",
       "      <td>-0.622232</td>\n",
       "      <td>-0.700966</td>\n",
       "      <td>-0.653229</td>\n",
       "      <td>-1.219841</td>\n",
       "    </tr>\n",
       "    <tr>\n",
       "      <th>2023-05-12</th>\n",
       "      <td>0.587217</td>\n",
       "      <td>-0.173551</td>\n",
       "      <td>0.355234</td>\n",
       "      <td>1.973734</td>\n",
       "    </tr>\n",
       "    <tr>\n",
       "      <th>2023-05-13</th>\n",
       "      <td>-0.784167</td>\n",
       "      <td>0.532478</td>\n",
       "      <td>-0.147372</td>\n",
       "      <td>-1.145515</td>\n",
       "    </tr>\n",
       "    <tr>\n",
       "      <th>2023-05-14</th>\n",
       "      <td>-0.290190</td>\n",
       "      <td>-0.263309</td>\n",
       "      <td>-1.309426</td>\n",
       "      <td>-1.371281</td>\n",
       "    </tr>\n",
       "  </tbody>\n",
       "</table>\n",
       "</div>"
      ],
      "text/plain": [
       "                   A         B         C         D\n",
       "2023-05-09  0.784166 -0.068755 -0.099703  0.574718\n",
       "2023-05-10 -0.468112  1.390892 -1.967330 -0.554360\n",
       "2023-05-11 -0.622232 -0.700966 -0.653229 -1.219841\n",
       "2023-05-12  0.587217 -0.173551  0.355234  1.973734\n",
       "2023-05-13 -0.784167  0.532478 -0.147372 -1.145515\n",
       "2023-05-14 -0.290190 -0.263309 -1.309426 -1.371281"
      ]
     },
     "execution_count": 209,
     "metadata": {},
     "output_type": "execute_result"
    }
   ],
   "source": [
    "df = pd.DataFrame(data, index=dates, columns=['A', 'B', 'C', 'D'])\n",
    "df"
   ]
  },
  {
   "cell_type": "code",
   "execution_count": 210,
   "id": "63d5673a",
   "metadata": {},
   "outputs": [
    {
     "data": {
      "text/html": [
       "<div>\n",
       "<style scoped>\n",
       "    .dataframe tbody tr th:only-of-type {\n",
       "        vertical-align: middle;\n",
       "    }\n",
       "\n",
       "    .dataframe tbody tr th {\n",
       "        vertical-align: top;\n",
       "    }\n",
       "\n",
       "    .dataframe thead th {\n",
       "        text-align: right;\n",
       "    }\n",
       "</style>\n",
       "<table border=\"1\" class=\"dataframe\">\n",
       "  <thead>\n",
       "    <tr style=\"text-align: right;\">\n",
       "      <th></th>\n",
       "      <th>A</th>\n",
       "      <th>B</th>\n",
       "      <th>C</th>\n",
       "      <th>D</th>\n",
       "    </tr>\n",
       "  </thead>\n",
       "  <tbody>\n",
       "    <tr>\n",
       "      <th>2023-05-09</th>\n",
       "      <td>0.784166</td>\n",
       "      <td>-0.068755</td>\n",
       "      <td>-0.099703</td>\n",
       "      <td>0.574718</td>\n",
       "    </tr>\n",
       "    <tr>\n",
       "      <th>2023-05-10</th>\n",
       "      <td>-0.468112</td>\n",
       "      <td>1.390892</td>\n",
       "      <td>-1.967330</td>\n",
       "      <td>-0.554360</td>\n",
       "    </tr>\n",
       "    <tr>\n",
       "      <th>2023-05-11</th>\n",
       "      <td>-0.622232</td>\n",
       "      <td>-0.700966</td>\n",
       "      <td>-0.653229</td>\n",
       "      <td>-1.219841</td>\n",
       "    </tr>\n",
       "    <tr>\n",
       "      <th>2023-05-12</th>\n",
       "      <td>0.587217</td>\n",
       "      <td>-0.173551</td>\n",
       "      <td>0.355234</td>\n",
       "      <td>1.973734</td>\n",
       "    </tr>\n",
       "    <tr>\n",
       "      <th>2023-05-13</th>\n",
       "      <td>-0.784167</td>\n",
       "      <td>0.532478</td>\n",
       "      <td>-0.147372</td>\n",
       "      <td>-1.145515</td>\n",
       "    </tr>\n",
       "  </tbody>\n",
       "</table>\n",
       "</div>"
      ],
      "text/plain": [
       "                   A         B         C         D\n",
       "2023-05-09  0.784166 -0.068755 -0.099703  0.574718\n",
       "2023-05-10 -0.468112  1.390892 -1.967330 -0.554360\n",
       "2023-05-11 -0.622232 -0.700966 -0.653229 -1.219841\n",
       "2023-05-12  0.587217 -0.173551  0.355234  1.973734\n",
       "2023-05-13 -0.784167  0.532478 -0.147372 -1.145515"
      ]
     },
     "execution_count": 210,
     "metadata": {},
     "output_type": "execute_result"
    }
   ],
   "source": [
    "df.head()"
   ]
  },
  {
   "cell_type": "code",
   "execution_count": 211,
   "id": "56ea9c5c",
   "metadata": {},
   "outputs": [
    {
     "data": {
      "text/plain": [
       "DatetimeIndex(['2023-05-09', '2023-05-10', '2023-05-11', '2023-05-12',\n",
       "               '2023-05-13', '2023-05-14'],\n",
       "              dtype='datetime64[ns]', freq='D')"
      ]
     },
     "execution_count": 211,
     "metadata": {},
     "output_type": "execute_result"
    }
   ],
   "source": [
    "df.index"
   ]
  },
  {
   "cell_type": "markdown",
   "id": "1d12f746",
   "metadata": {},
   "source": [
    "- df.info() : 데이터프레임의 기본 정보 확인"
   ]
  },
  {
   "cell_type": "code",
   "execution_count": 212,
   "id": "c5f3cef6",
   "metadata": {},
   "outputs": [
    {
     "name": "stdout",
     "output_type": "stream",
     "text": [
      "<class 'pandas.core.frame.DataFrame'>\n",
      "DatetimeIndex: 6 entries, 2023-05-09 to 2023-05-14\n",
      "Freq: D\n",
      "Data columns (total 4 columns):\n",
      " #   Column  Non-Null Count  Dtype  \n",
      "---  ------  --------------  -----  \n",
      " 0   A       6 non-null      float64\n",
      " 1   B       6 non-null      float64\n",
      " 2   C       6 non-null      float64\n",
      " 3   D       6 non-null      float64\n",
      "dtypes: float64(4)\n",
      "memory usage: 240.0 bytes\n"
     ]
    }
   ],
   "source": [
    "df.info()"
   ]
  },
  {
   "cell_type": "markdown",
   "id": "6cb97b67",
   "metadata": {},
   "source": [
    "df.describe() : 데이터 프레임의 기술통계 정보 확인"
   ]
  },
  {
   "cell_type": "code",
   "execution_count": 213,
   "id": "72bd1502",
   "metadata": {},
   "outputs": [
    {
     "data": {
      "text/html": [
       "<div>\n",
       "<style scoped>\n",
       "    .dataframe tbody tr th:only-of-type {\n",
       "        vertical-align: middle;\n",
       "    }\n",
       "\n",
       "    .dataframe tbody tr th {\n",
       "        vertical-align: top;\n",
       "    }\n",
       "\n",
       "    .dataframe thead th {\n",
       "        text-align: right;\n",
       "    }\n",
       "</style>\n",
       "<table border=\"1\" class=\"dataframe\">\n",
       "  <thead>\n",
       "    <tr style=\"text-align: right;\">\n",
       "      <th></th>\n",
       "      <th>A</th>\n",
       "      <th>B</th>\n",
       "      <th>C</th>\n",
       "      <th>D</th>\n",
       "    </tr>\n",
       "  </thead>\n",
       "  <tbody>\n",
       "    <tr>\n",
       "      <th>count</th>\n",
       "      <td>6.000000</td>\n",
       "      <td>6.000000</td>\n",
       "      <td>6.000000</td>\n",
       "      <td>6.000000</td>\n",
       "    </tr>\n",
       "    <tr>\n",
       "      <th>mean</th>\n",
       "      <td>-0.132220</td>\n",
       "      <td>0.119465</td>\n",
       "      <td>-0.636971</td>\n",
       "      <td>-0.290424</td>\n",
       "    </tr>\n",
       "    <tr>\n",
       "      <th>std</th>\n",
       "      <td>0.657309</td>\n",
       "      <td>0.738650</td>\n",
       "      <td>0.864309</td>\n",
       "      <td>1.319681</td>\n",
       "    </tr>\n",
       "    <tr>\n",
       "      <th>min</th>\n",
       "      <td>-0.784167</td>\n",
       "      <td>-0.700966</td>\n",
       "      <td>-1.967330</td>\n",
       "      <td>-1.371281</td>\n",
       "    </tr>\n",
       "    <tr>\n",
       "      <th>25%</th>\n",
       "      <td>-0.583702</td>\n",
       "      <td>-0.240870</td>\n",
       "      <td>-1.145377</td>\n",
       "      <td>-1.201259</td>\n",
       "    </tr>\n",
       "    <tr>\n",
       "      <th>50%</th>\n",
       "      <td>-0.379151</td>\n",
       "      <td>-0.121153</td>\n",
       "      <td>-0.400301</td>\n",
       "      <td>-0.849938</td>\n",
       "    </tr>\n",
       "    <tr>\n",
       "      <th>75%</th>\n",
       "      <td>0.367865</td>\n",
       "      <td>0.382170</td>\n",
       "      <td>-0.111620</td>\n",
       "      <td>0.292448</td>\n",
       "    </tr>\n",
       "    <tr>\n",
       "      <th>max</th>\n",
       "      <td>0.784166</td>\n",
       "      <td>1.390892</td>\n",
       "      <td>0.355234</td>\n",
       "      <td>1.973734</td>\n",
       "    </tr>\n",
       "  </tbody>\n",
       "</table>\n",
       "</div>"
      ],
      "text/plain": [
       "              A         B         C         D\n",
       "count  6.000000  6.000000  6.000000  6.000000\n",
       "mean  -0.132220  0.119465 -0.636971 -0.290424\n",
       "std    0.657309  0.738650  0.864309  1.319681\n",
       "min   -0.784167 -0.700966 -1.967330 -1.371281\n",
       "25%   -0.583702 -0.240870 -1.145377 -1.201259\n",
       "50%   -0.379151 -0.121153 -0.400301 -0.849938\n",
       "75%    0.367865  0.382170 -0.111620  0.292448\n",
       "max    0.784166  1.390892  0.355234  1.973734"
      ]
     },
     "execution_count": 213,
     "metadata": {},
     "output_type": "execute_result"
    }
   ],
   "source": [
    "df.describe()"
   ]
  },
  {
   "cell_type": "markdown",
   "id": "2e09cc22",
   "metadata": {},
   "source": [
    "### 데이터 정렬\n",
    "- sort_value()\n",
    "- 특정 컬럼(열)을 기준으로 데이터를 정렬"
   ]
  },
  {
   "cell_type": "code",
   "execution_count": 214,
   "id": "9b53ae76",
   "metadata": {},
   "outputs": [
    {
     "data": {
      "text/html": [
       "<div>\n",
       "<style scoped>\n",
       "    .dataframe tbody tr th:only-of-type {\n",
       "        vertical-align: middle;\n",
       "    }\n",
       "\n",
       "    .dataframe tbody tr th {\n",
       "        vertical-align: top;\n",
       "    }\n",
       "\n",
       "    .dataframe thead th {\n",
       "        text-align: right;\n",
       "    }\n",
       "</style>\n",
       "<table border=\"1\" class=\"dataframe\">\n",
       "  <thead>\n",
       "    <tr style=\"text-align: right;\">\n",
       "      <th></th>\n",
       "      <th>A</th>\n",
       "      <th>B</th>\n",
       "      <th>C</th>\n",
       "      <th>D</th>\n",
       "    </tr>\n",
       "  </thead>\n",
       "  <tbody>\n",
       "    <tr>\n",
       "      <th>2023-05-09</th>\n",
       "      <td>0.784166</td>\n",
       "      <td>-0.068755</td>\n",
       "      <td>-0.099703</td>\n",
       "      <td>0.574718</td>\n",
       "    </tr>\n",
       "    <tr>\n",
       "      <th>2023-05-10</th>\n",
       "      <td>-0.468112</td>\n",
       "      <td>1.390892</td>\n",
       "      <td>-1.967330</td>\n",
       "      <td>-0.554360</td>\n",
       "    </tr>\n",
       "    <tr>\n",
       "      <th>2023-05-11</th>\n",
       "      <td>-0.622232</td>\n",
       "      <td>-0.700966</td>\n",
       "      <td>-0.653229</td>\n",
       "      <td>-1.219841</td>\n",
       "    </tr>\n",
       "    <tr>\n",
       "      <th>2023-05-12</th>\n",
       "      <td>0.587217</td>\n",
       "      <td>-0.173551</td>\n",
       "      <td>0.355234</td>\n",
       "      <td>1.973734</td>\n",
       "    </tr>\n",
       "    <tr>\n",
       "      <th>2023-05-13</th>\n",
       "      <td>-0.784167</td>\n",
       "      <td>0.532478</td>\n",
       "      <td>-0.147372</td>\n",
       "      <td>-1.145515</td>\n",
       "    </tr>\n",
       "    <tr>\n",
       "      <th>2023-05-14</th>\n",
       "      <td>-0.290190</td>\n",
       "      <td>-0.263309</td>\n",
       "      <td>-1.309426</td>\n",
       "      <td>-1.371281</td>\n",
       "    </tr>\n",
       "  </tbody>\n",
       "</table>\n",
       "</div>"
      ],
      "text/plain": [
       "                   A         B         C         D\n",
       "2023-05-09  0.784166 -0.068755 -0.099703  0.574718\n",
       "2023-05-10 -0.468112  1.390892 -1.967330 -0.554360\n",
       "2023-05-11 -0.622232 -0.700966 -0.653229 -1.219841\n",
       "2023-05-12  0.587217 -0.173551  0.355234  1.973734\n",
       "2023-05-13 -0.784167  0.532478 -0.147372 -1.145515\n",
       "2023-05-14 -0.290190 -0.263309 -1.309426 -1.371281"
      ]
     },
     "execution_count": 214,
     "metadata": {},
     "output_type": "execute_result"
    }
   ],
   "source": [
    "df"
   ]
  },
  {
   "cell_type": "code",
   "execution_count": 215,
   "id": "df8e9294",
   "metadata": {},
   "outputs": [],
   "source": [
    "df.sort_values(by='B', ascending=False, inplace=True)"
   ]
  },
  {
   "cell_type": "code",
   "execution_count": 216,
   "id": "80957a69",
   "metadata": {},
   "outputs": [
    {
     "data": {
      "text/html": [
       "<div>\n",
       "<style scoped>\n",
       "    .dataframe tbody tr th:only-of-type {\n",
       "        vertical-align: middle;\n",
       "    }\n",
       "\n",
       "    .dataframe tbody tr th {\n",
       "        vertical-align: top;\n",
       "    }\n",
       "\n",
       "    .dataframe thead th {\n",
       "        text-align: right;\n",
       "    }\n",
       "</style>\n",
       "<table border=\"1\" class=\"dataframe\">\n",
       "  <thead>\n",
       "    <tr style=\"text-align: right;\">\n",
       "      <th></th>\n",
       "      <th>A</th>\n",
       "      <th>B</th>\n",
       "      <th>C</th>\n",
       "      <th>D</th>\n",
       "    </tr>\n",
       "  </thead>\n",
       "  <tbody>\n",
       "    <tr>\n",
       "      <th>2023-05-10</th>\n",
       "      <td>-0.468112</td>\n",
       "      <td>1.390892</td>\n",
       "      <td>-1.967330</td>\n",
       "      <td>-0.554360</td>\n",
       "    </tr>\n",
       "    <tr>\n",
       "      <th>2023-05-13</th>\n",
       "      <td>-0.784167</td>\n",
       "      <td>0.532478</td>\n",
       "      <td>-0.147372</td>\n",
       "      <td>-1.145515</td>\n",
       "    </tr>\n",
       "    <tr>\n",
       "      <th>2023-05-09</th>\n",
       "      <td>0.784166</td>\n",
       "      <td>-0.068755</td>\n",
       "      <td>-0.099703</td>\n",
       "      <td>0.574718</td>\n",
       "    </tr>\n",
       "    <tr>\n",
       "      <th>2023-05-12</th>\n",
       "      <td>0.587217</td>\n",
       "      <td>-0.173551</td>\n",
       "      <td>0.355234</td>\n",
       "      <td>1.973734</td>\n",
       "    </tr>\n",
       "    <tr>\n",
       "      <th>2023-05-14</th>\n",
       "      <td>-0.290190</td>\n",
       "      <td>-0.263309</td>\n",
       "      <td>-1.309426</td>\n",
       "      <td>-1.371281</td>\n",
       "    </tr>\n",
       "    <tr>\n",
       "      <th>2023-05-11</th>\n",
       "      <td>-0.622232</td>\n",
       "      <td>-0.700966</td>\n",
       "      <td>-0.653229</td>\n",
       "      <td>-1.219841</td>\n",
       "    </tr>\n",
       "  </tbody>\n",
       "</table>\n",
       "</div>"
      ],
      "text/plain": [
       "                   A         B         C         D\n",
       "2023-05-10 -0.468112  1.390892 -1.967330 -0.554360\n",
       "2023-05-13 -0.784167  0.532478 -0.147372 -1.145515\n",
       "2023-05-09  0.784166 -0.068755 -0.099703  0.574718\n",
       "2023-05-12  0.587217 -0.173551  0.355234  1.973734\n",
       "2023-05-14 -0.290190 -0.263309 -1.309426 -1.371281\n",
       "2023-05-11 -0.622232 -0.700966 -0.653229 -1.219841"
      ]
     },
     "execution_count": 216,
     "metadata": {},
     "output_type": "execute_result"
    }
   ],
   "source": [
    "df"
   ]
  },
  {
   "cell_type": "markdown",
   "id": "2a4d42f7",
   "metadata": {},
   "source": [
    "### 데이터 선택"
   ]
  },
  {
   "cell_type": "code",
   "execution_count": 217,
   "id": "a62dcc99",
   "metadata": {},
   "outputs": [
    {
     "data": {
      "text/html": [
       "<div>\n",
       "<style scoped>\n",
       "    .dataframe tbody tr th:only-of-type {\n",
       "        vertical-align: middle;\n",
       "    }\n",
       "\n",
       "    .dataframe tbody tr th {\n",
       "        vertical-align: top;\n",
       "    }\n",
       "\n",
       "    .dataframe thead th {\n",
       "        text-align: right;\n",
       "    }\n",
       "</style>\n",
       "<table border=\"1\" class=\"dataframe\">\n",
       "  <thead>\n",
       "    <tr style=\"text-align: right;\">\n",
       "      <th></th>\n",
       "      <th>A</th>\n",
       "      <th>B</th>\n",
       "      <th>C</th>\n",
       "      <th>D</th>\n",
       "    </tr>\n",
       "  </thead>\n",
       "  <tbody>\n",
       "    <tr>\n",
       "      <th>2023-05-10</th>\n",
       "      <td>-0.468112</td>\n",
       "      <td>1.390892</td>\n",
       "      <td>-1.967330</td>\n",
       "      <td>-0.554360</td>\n",
       "    </tr>\n",
       "    <tr>\n",
       "      <th>2023-05-13</th>\n",
       "      <td>-0.784167</td>\n",
       "      <td>0.532478</td>\n",
       "      <td>-0.147372</td>\n",
       "      <td>-1.145515</td>\n",
       "    </tr>\n",
       "    <tr>\n",
       "      <th>2023-05-09</th>\n",
       "      <td>0.784166</td>\n",
       "      <td>-0.068755</td>\n",
       "      <td>-0.099703</td>\n",
       "      <td>0.574718</td>\n",
       "    </tr>\n",
       "    <tr>\n",
       "      <th>2023-05-12</th>\n",
       "      <td>0.587217</td>\n",
       "      <td>-0.173551</td>\n",
       "      <td>0.355234</td>\n",
       "      <td>1.973734</td>\n",
       "    </tr>\n",
       "    <tr>\n",
       "      <th>2023-05-14</th>\n",
       "      <td>-0.290190</td>\n",
       "      <td>-0.263309</td>\n",
       "      <td>-1.309426</td>\n",
       "      <td>-1.371281</td>\n",
       "    </tr>\n",
       "    <tr>\n",
       "      <th>2023-05-11</th>\n",
       "      <td>-0.622232</td>\n",
       "      <td>-0.700966</td>\n",
       "      <td>-0.653229</td>\n",
       "      <td>-1.219841</td>\n",
       "    </tr>\n",
       "  </tbody>\n",
       "</table>\n",
       "</div>"
      ],
      "text/plain": [
       "                   A         B         C         D\n",
       "2023-05-10 -0.468112  1.390892 -1.967330 -0.554360\n",
       "2023-05-13 -0.784167  0.532478 -0.147372 -1.145515\n",
       "2023-05-09  0.784166 -0.068755 -0.099703  0.574718\n",
       "2023-05-12  0.587217 -0.173551  0.355234  1.973734\n",
       "2023-05-14 -0.290190 -0.263309 -1.309426 -1.371281\n",
       "2023-05-11 -0.622232 -0.700966 -0.653229 -1.219841"
      ]
     },
     "execution_count": 217,
     "metadata": {},
     "output_type": "execute_result"
    }
   ],
   "source": [
    "df"
   ]
  },
  {
   "cell_type": "code",
   "execution_count": 218,
   "id": "fa23f931",
   "metadata": {},
   "outputs": [
    {
     "data": {
      "text/plain": [
       "2023-05-10   -0.468112\n",
       "2023-05-13   -0.784167\n",
       "2023-05-09    0.784166\n",
       "2023-05-12    0.587217\n",
       "2023-05-14   -0.290190\n",
       "2023-05-11   -0.622232\n",
       "Name: A, dtype: float64"
      ]
     },
     "execution_count": 218,
     "metadata": {},
     "output_type": "execute_result"
    }
   ],
   "source": [
    "# 한 개 컬럼 선택\n",
    "df['A']"
   ]
  },
  {
   "cell_type": "code",
   "execution_count": 219,
   "id": "2c9a147c",
   "metadata": {},
   "outputs": [
    {
     "data": {
      "text/plain": [
       "2023-05-10   -0.468112\n",
       "2023-05-13   -0.784167\n",
       "2023-05-09    0.784166\n",
       "2023-05-12    0.587217\n",
       "2023-05-14   -0.290190\n",
       "2023-05-11   -0.622232\n",
       "Name: A, dtype: float64"
      ]
     },
     "execution_count": 219,
     "metadata": {},
     "output_type": "execute_result"
    }
   ],
   "source": [
    "df.A # 컬럼이 영문인 경우만 가능, 숫자인 경우 불가능"
   ]
  },
  {
   "cell_type": "code",
   "execution_count": 220,
   "id": "252f7d53",
   "metadata": {},
   "outputs": [
    {
     "data": {
      "text/html": [
       "<div>\n",
       "<style scoped>\n",
       "    .dataframe tbody tr th:only-of-type {\n",
       "        vertical-align: middle;\n",
       "    }\n",
       "\n",
       "    .dataframe tbody tr th {\n",
       "        vertical-align: top;\n",
       "    }\n",
       "\n",
       "    .dataframe thead th {\n",
       "        text-align: right;\n",
       "    }\n",
       "</style>\n",
       "<table border=\"1\" class=\"dataframe\">\n",
       "  <thead>\n",
       "    <tr style=\"text-align: right;\">\n",
       "      <th></th>\n",
       "      <th>A</th>\n",
       "      <th>B</th>\n",
       "      <th>C</th>\n",
       "      <th>D</th>\n",
       "    </tr>\n",
       "  </thead>\n",
       "  <tbody>\n",
       "    <tr>\n",
       "      <th>2023-05-09</th>\n",
       "      <td>0.784166</td>\n",
       "      <td>-0.068755</td>\n",
       "      <td>-0.099703</td>\n",
       "      <td>0.574718</td>\n",
       "    </tr>\n",
       "    <tr>\n",
       "      <th>2023-05-10</th>\n",
       "      <td>-0.468112</td>\n",
       "      <td>1.390892</td>\n",
       "      <td>-1.967330</td>\n",
       "      <td>-0.554360</td>\n",
       "    </tr>\n",
       "    <tr>\n",
       "      <th>2023-05-11</th>\n",
       "      <td>-0.622232</td>\n",
       "      <td>-0.700966</td>\n",
       "      <td>-0.653229</td>\n",
       "      <td>-1.219841</td>\n",
       "    </tr>\n",
       "    <tr>\n",
       "      <th>2023-05-12</th>\n",
       "      <td>0.587217</td>\n",
       "      <td>-0.173551</td>\n",
       "      <td>0.355234</td>\n",
       "      <td>1.973734</td>\n",
       "    </tr>\n",
       "    <tr>\n",
       "      <th>2023-05-13</th>\n",
       "      <td>-0.784167</td>\n",
       "      <td>0.532478</td>\n",
       "      <td>-0.147372</td>\n",
       "      <td>-1.145515</td>\n",
       "    </tr>\n",
       "    <tr>\n",
       "      <th>2023-05-14</th>\n",
       "      <td>-0.290190</td>\n",
       "      <td>-0.263309</td>\n",
       "      <td>-1.309426</td>\n",
       "      <td>-1.371281</td>\n",
       "    </tr>\n",
       "  </tbody>\n",
       "</table>\n",
       "</div>"
      ],
      "text/plain": [
       "                   A         B         C         D\n",
       "2023-05-09  0.784166 -0.068755 -0.099703  0.574718\n",
       "2023-05-10 -0.468112  1.390892 -1.967330 -0.554360\n",
       "2023-05-11 -0.622232 -0.700966 -0.653229 -1.219841\n",
       "2023-05-12  0.587217 -0.173551  0.355234  1.973734\n",
       "2023-05-13 -0.784167  0.532478 -0.147372 -1.145515\n",
       "2023-05-14 -0.290190 -0.263309 -1.309426 -1.371281"
      ]
     },
     "execution_count": 220,
     "metadata": {},
     "output_type": "execute_result"
    }
   ],
   "source": [
    "df = pd.DataFrame(data, index=dates, columns=[\"A\", \"B\", \"C\", \"D\"])\n",
    "df"
   ]
  },
  {
   "cell_type": "code",
   "execution_count": 221,
   "id": "8aaea0c7",
   "metadata": {},
   "outputs": [
    {
     "data": {
      "text/plain": [
       "2023-05-09    0.574718\n",
       "2023-05-10   -0.554360\n",
       "2023-05-11   -1.219841\n",
       "2023-05-12    1.973734\n",
       "2023-05-13   -1.145515\n",
       "2023-05-14   -1.371281\n",
       "Freq: D, Name: D, dtype: float64"
      ]
     },
     "execution_count": 221,
     "metadata": {},
     "output_type": "execute_result"
    }
   ],
   "source": [
    "df.D"
   ]
  },
  {
   "cell_type": "code",
   "execution_count": 222,
   "id": "2a3588b2",
   "metadata": {
    "scrolled": true
   },
   "outputs": [
    {
     "data": {
      "text/html": [
       "<div>\n",
       "<style scoped>\n",
       "    .dataframe tbody tr th:only-of-type {\n",
       "        vertical-align: middle;\n",
       "    }\n",
       "\n",
       "    .dataframe tbody tr th {\n",
       "        vertical-align: top;\n",
       "    }\n",
       "\n",
       "    .dataframe thead th {\n",
       "        text-align: right;\n",
       "    }\n",
       "</style>\n",
       "<table border=\"1\" class=\"dataframe\">\n",
       "  <thead>\n",
       "    <tr style=\"text-align: right;\">\n",
       "      <th></th>\n",
       "      <th>A</th>\n",
       "      <th>B</th>\n",
       "    </tr>\n",
       "  </thead>\n",
       "  <tbody>\n",
       "    <tr>\n",
       "      <th>2023-05-09</th>\n",
       "      <td>0.784166</td>\n",
       "      <td>-0.068755</td>\n",
       "    </tr>\n",
       "    <tr>\n",
       "      <th>2023-05-10</th>\n",
       "      <td>-0.468112</td>\n",
       "      <td>1.390892</td>\n",
       "    </tr>\n",
       "    <tr>\n",
       "      <th>2023-05-11</th>\n",
       "      <td>-0.622232</td>\n",
       "      <td>-0.700966</td>\n",
       "    </tr>\n",
       "    <tr>\n",
       "      <th>2023-05-12</th>\n",
       "      <td>0.587217</td>\n",
       "      <td>-0.173551</td>\n",
       "    </tr>\n",
       "    <tr>\n",
       "      <th>2023-05-13</th>\n",
       "      <td>-0.784167</td>\n",
       "      <td>0.532478</td>\n",
       "    </tr>\n",
       "    <tr>\n",
       "      <th>2023-05-14</th>\n",
       "      <td>-0.290190</td>\n",
       "      <td>-0.263309</td>\n",
       "    </tr>\n",
       "  </tbody>\n",
       "</table>\n",
       "</div>"
      ],
      "text/plain": [
       "                   A         B\n",
       "2023-05-09  0.784166 -0.068755\n",
       "2023-05-10 -0.468112  1.390892\n",
       "2023-05-11 -0.622232 -0.700966\n",
       "2023-05-12  0.587217 -0.173551\n",
       "2023-05-13 -0.784167  0.532478\n",
       "2023-05-14 -0.290190 -0.263309"
      ]
     },
     "execution_count": 222,
     "metadata": {},
     "output_type": "execute_result"
    }
   ],
   "source": [
    "# 두 개 이상 컬럼 선택\n",
    "df[[\"A\", \"B\"]]"
   ]
  },
  {
   "cell_type": "markdown",
   "id": "df7bd6c0",
   "metadata": {},
   "source": [
    "offset index\n",
    "- [n:m] : n 부터 m-1 까지\n",
    "- 인덱스나 컬럼의 이름으로 slice 하는 경우는 끝을 포함"
   ]
  },
  {
   "cell_type": "code",
   "execution_count": 223,
   "id": "bb0a5cff",
   "metadata": {},
   "outputs": [
    {
     "data": {
      "text/html": [
       "<div>\n",
       "<style scoped>\n",
       "    .dataframe tbody tr th:only-of-type {\n",
       "        vertical-align: middle;\n",
       "    }\n",
       "\n",
       "    .dataframe tbody tr th {\n",
       "        vertical-align: top;\n",
       "    }\n",
       "\n",
       "    .dataframe thead th {\n",
       "        text-align: right;\n",
       "    }\n",
       "</style>\n",
       "<table border=\"1\" class=\"dataframe\">\n",
       "  <thead>\n",
       "    <tr style=\"text-align: right;\">\n",
       "      <th></th>\n",
       "      <th>A</th>\n",
       "      <th>B</th>\n",
       "      <th>C</th>\n",
       "      <th>D</th>\n",
       "    </tr>\n",
       "  </thead>\n",
       "  <tbody>\n",
       "    <tr>\n",
       "      <th>2023-05-09</th>\n",
       "      <td>0.784166</td>\n",
       "      <td>-0.068755</td>\n",
       "      <td>-0.099703</td>\n",
       "      <td>0.574718</td>\n",
       "    </tr>\n",
       "    <tr>\n",
       "      <th>2023-05-10</th>\n",
       "      <td>-0.468112</td>\n",
       "      <td>1.390892</td>\n",
       "      <td>-1.967330</td>\n",
       "      <td>-0.554360</td>\n",
       "    </tr>\n",
       "    <tr>\n",
       "      <th>2023-05-11</th>\n",
       "      <td>-0.622232</td>\n",
       "      <td>-0.700966</td>\n",
       "      <td>-0.653229</td>\n",
       "      <td>-1.219841</td>\n",
       "    </tr>\n",
       "    <tr>\n",
       "      <th>2023-05-12</th>\n",
       "      <td>0.587217</td>\n",
       "      <td>-0.173551</td>\n",
       "      <td>0.355234</td>\n",
       "      <td>1.973734</td>\n",
       "    </tr>\n",
       "    <tr>\n",
       "      <th>2023-05-13</th>\n",
       "      <td>-0.784167</td>\n",
       "      <td>0.532478</td>\n",
       "      <td>-0.147372</td>\n",
       "      <td>-1.145515</td>\n",
       "    </tr>\n",
       "    <tr>\n",
       "      <th>2023-05-14</th>\n",
       "      <td>-0.290190</td>\n",
       "      <td>-0.263309</td>\n",
       "      <td>-1.309426</td>\n",
       "      <td>-1.371281</td>\n",
       "    </tr>\n",
       "  </tbody>\n",
       "</table>\n",
       "</div>"
      ],
      "text/plain": [
       "                   A         B         C         D\n",
       "2023-05-09  0.784166 -0.068755 -0.099703  0.574718\n",
       "2023-05-10 -0.468112  1.390892 -1.967330 -0.554360\n",
       "2023-05-11 -0.622232 -0.700966 -0.653229 -1.219841\n",
       "2023-05-12  0.587217 -0.173551  0.355234  1.973734\n",
       "2023-05-13 -0.784167  0.532478 -0.147372 -1.145515\n",
       "2023-05-14 -0.290190 -0.263309 -1.309426 -1.371281"
      ]
     },
     "execution_count": 223,
     "metadata": {},
     "output_type": "execute_result"
    }
   ],
   "source": [
    "df"
   ]
  },
  {
   "cell_type": "code",
   "execution_count": 224,
   "id": "696b7882",
   "metadata": {},
   "outputs": [
    {
     "data": {
      "text/html": [
       "<div>\n",
       "<style scoped>\n",
       "    .dataframe tbody tr th:only-of-type {\n",
       "        vertical-align: middle;\n",
       "    }\n",
       "\n",
       "    .dataframe tbody tr th {\n",
       "        vertical-align: top;\n",
       "    }\n",
       "\n",
       "    .dataframe thead th {\n",
       "        text-align: right;\n",
       "    }\n",
       "</style>\n",
       "<table border=\"1\" class=\"dataframe\">\n",
       "  <thead>\n",
       "    <tr style=\"text-align: right;\">\n",
       "      <th></th>\n",
       "      <th>A</th>\n",
       "      <th>B</th>\n",
       "      <th>C</th>\n",
       "      <th>D</th>\n",
       "    </tr>\n",
       "  </thead>\n",
       "  <tbody>\n",
       "    <tr>\n",
       "      <th>2023-05-09</th>\n",
       "      <td>0.784166</td>\n",
       "      <td>-0.068755</td>\n",
       "      <td>-0.099703</td>\n",
       "      <td>0.574718</td>\n",
       "    </tr>\n",
       "    <tr>\n",
       "      <th>2023-05-10</th>\n",
       "      <td>-0.468112</td>\n",
       "      <td>1.390892</td>\n",
       "      <td>-1.967330</td>\n",
       "      <td>-0.554360</td>\n",
       "    </tr>\n",
       "    <tr>\n",
       "      <th>2023-05-11</th>\n",
       "      <td>-0.622232</td>\n",
       "      <td>-0.700966</td>\n",
       "      <td>-0.653229</td>\n",
       "      <td>-1.219841</td>\n",
       "    </tr>\n",
       "  </tbody>\n",
       "</table>\n",
       "</div>"
      ],
      "text/plain": [
       "                   A         B         C         D\n",
       "2023-05-09  0.784166 -0.068755 -0.099703  0.574718\n",
       "2023-05-10 -0.468112  1.390892 -1.967330 -0.554360\n",
       "2023-05-11 -0.622232 -0.700966 -0.653229 -1.219841"
      ]
     },
     "execution_count": 224,
     "metadata": {},
     "output_type": "execute_result"
    }
   ],
   "source": [
    "df[0:3]"
   ]
  },
  {
   "cell_type": "code",
   "execution_count": 225,
   "id": "4f002e8a",
   "metadata": {},
   "outputs": [
    {
     "data": {
      "text/html": [
       "<div>\n",
       "<style scoped>\n",
       "    .dataframe tbody tr th:only-of-type {\n",
       "        vertical-align: middle;\n",
       "    }\n",
       "\n",
       "    .dataframe tbody tr th {\n",
       "        vertical-align: top;\n",
       "    }\n",
       "\n",
       "    .dataframe thead th {\n",
       "        text-align: right;\n",
       "    }\n",
       "</style>\n",
       "<table border=\"1\" class=\"dataframe\">\n",
       "  <thead>\n",
       "    <tr style=\"text-align: right;\">\n",
       "      <th></th>\n",
       "      <th>A</th>\n",
       "      <th>B</th>\n",
       "      <th>C</th>\n",
       "      <th>D</th>\n",
       "    </tr>\n",
       "  </thead>\n",
       "  <tbody>\n",
       "    <tr>\n",
       "      <th>2023-05-09</th>\n",
       "      <td>0.784166</td>\n",
       "      <td>-0.068755</td>\n",
       "      <td>-0.099703</td>\n",
       "      <td>0.574718</td>\n",
       "    </tr>\n",
       "    <tr>\n",
       "      <th>2023-05-10</th>\n",
       "      <td>-0.468112</td>\n",
       "      <td>1.390892</td>\n",
       "      <td>-1.967330</td>\n",
       "      <td>-0.554360</td>\n",
       "    </tr>\n",
       "    <tr>\n",
       "      <th>2023-05-11</th>\n",
       "      <td>-0.622232</td>\n",
       "      <td>-0.700966</td>\n",
       "      <td>-0.653229</td>\n",
       "      <td>-1.219841</td>\n",
       "    </tr>\n",
       "  </tbody>\n",
       "</table>\n",
       "</div>"
      ],
      "text/plain": [
       "                   A         B         C         D\n",
       "2023-05-09  0.784166 -0.068755 -0.099703  0.574718\n",
       "2023-05-10 -0.468112  1.390892 -1.967330 -0.554360\n",
       "2023-05-11 -0.622232 -0.700966 -0.653229 -1.219841"
      ]
     },
     "execution_count": 225,
     "metadata": {},
     "output_type": "execute_result"
    }
   ],
   "source": [
    "df[\"20230509\":\"20230511\"]"
   ]
  },
  {
   "cell_type": "markdown",
   "id": "3be5156e",
   "metadata": {},
   "source": [
    "- loc : location\n",
    "- index 이름으로 특정 행, 열을 선택"
   ]
  },
  {
   "cell_type": "code",
   "execution_count": 226,
   "id": "9c6b5a5b",
   "metadata": {},
   "outputs": [
    {
     "data": {
      "text/html": [
       "<div>\n",
       "<style scoped>\n",
       "    .dataframe tbody tr th:only-of-type {\n",
       "        vertical-align: middle;\n",
       "    }\n",
       "\n",
       "    .dataframe tbody tr th {\n",
       "        vertical-align: top;\n",
       "    }\n",
       "\n",
       "    .dataframe thead th {\n",
       "        text-align: right;\n",
       "    }\n",
       "</style>\n",
       "<table border=\"1\" class=\"dataframe\">\n",
       "  <thead>\n",
       "    <tr style=\"text-align: right;\">\n",
       "      <th></th>\n",
       "      <th>A</th>\n",
       "      <th>B</th>\n",
       "      <th>C</th>\n",
       "      <th>D</th>\n",
       "    </tr>\n",
       "  </thead>\n",
       "  <tbody>\n",
       "    <tr>\n",
       "      <th>2023-05-09</th>\n",
       "      <td>0.784166</td>\n",
       "      <td>-0.068755</td>\n",
       "      <td>-0.099703</td>\n",
       "      <td>0.574718</td>\n",
       "    </tr>\n",
       "    <tr>\n",
       "      <th>2023-05-10</th>\n",
       "      <td>-0.468112</td>\n",
       "      <td>1.390892</td>\n",
       "      <td>-1.967330</td>\n",
       "      <td>-0.554360</td>\n",
       "    </tr>\n",
       "    <tr>\n",
       "      <th>2023-05-11</th>\n",
       "      <td>-0.622232</td>\n",
       "      <td>-0.700966</td>\n",
       "      <td>-0.653229</td>\n",
       "      <td>-1.219841</td>\n",
       "    </tr>\n",
       "    <tr>\n",
       "      <th>2023-05-12</th>\n",
       "      <td>0.587217</td>\n",
       "      <td>-0.173551</td>\n",
       "      <td>0.355234</td>\n",
       "      <td>1.973734</td>\n",
       "    </tr>\n",
       "    <tr>\n",
       "      <th>2023-05-13</th>\n",
       "      <td>-0.784167</td>\n",
       "      <td>0.532478</td>\n",
       "      <td>-0.147372</td>\n",
       "      <td>-1.145515</td>\n",
       "    </tr>\n",
       "    <tr>\n",
       "      <th>2023-05-14</th>\n",
       "      <td>-0.290190</td>\n",
       "      <td>-0.263309</td>\n",
       "      <td>-1.309426</td>\n",
       "      <td>-1.371281</td>\n",
       "    </tr>\n",
       "  </tbody>\n",
       "</table>\n",
       "</div>"
      ],
      "text/plain": [
       "                   A         B         C         D\n",
       "2023-05-09  0.784166 -0.068755 -0.099703  0.574718\n",
       "2023-05-10 -0.468112  1.390892 -1.967330 -0.554360\n",
       "2023-05-11 -0.622232 -0.700966 -0.653229 -1.219841\n",
       "2023-05-12  0.587217 -0.173551  0.355234  1.973734\n",
       "2023-05-13 -0.784167  0.532478 -0.147372 -1.145515\n",
       "2023-05-14 -0.290190 -0.263309 -1.309426 -1.371281"
      ]
     },
     "execution_count": 226,
     "metadata": {},
     "output_type": "execute_result"
    }
   ],
   "source": [
    "df"
   ]
  },
  {
   "cell_type": "code",
   "execution_count": 227,
   "id": "d9d91d21",
   "metadata": {},
   "outputs": [
    {
     "data": {
      "text/html": [
       "<div>\n",
       "<style scoped>\n",
       "    .dataframe tbody tr th:only-of-type {\n",
       "        vertical-align: middle;\n",
       "    }\n",
       "\n",
       "    .dataframe tbody tr th {\n",
       "        vertical-align: top;\n",
       "    }\n",
       "\n",
       "    .dataframe thead th {\n",
       "        text-align: right;\n",
       "    }\n",
       "</style>\n",
       "<table border=\"1\" class=\"dataframe\">\n",
       "  <thead>\n",
       "    <tr style=\"text-align: right;\">\n",
       "      <th></th>\n",
       "      <th>A</th>\n",
       "      <th>B</th>\n",
       "    </tr>\n",
       "  </thead>\n",
       "  <tbody>\n",
       "    <tr>\n",
       "      <th>2023-05-09</th>\n",
       "      <td>0.784166</td>\n",
       "      <td>-0.068755</td>\n",
       "    </tr>\n",
       "    <tr>\n",
       "      <th>2023-05-10</th>\n",
       "      <td>-0.468112</td>\n",
       "      <td>1.390892</td>\n",
       "    </tr>\n",
       "    <tr>\n",
       "      <th>2023-05-11</th>\n",
       "      <td>-0.622232</td>\n",
       "      <td>-0.700966</td>\n",
       "    </tr>\n",
       "    <tr>\n",
       "      <th>2023-05-12</th>\n",
       "      <td>0.587217</td>\n",
       "      <td>-0.173551</td>\n",
       "    </tr>\n",
       "    <tr>\n",
       "      <th>2023-05-13</th>\n",
       "      <td>-0.784167</td>\n",
       "      <td>0.532478</td>\n",
       "    </tr>\n",
       "    <tr>\n",
       "      <th>2023-05-14</th>\n",
       "      <td>-0.290190</td>\n",
       "      <td>-0.263309</td>\n",
       "    </tr>\n",
       "  </tbody>\n",
       "</table>\n",
       "</div>"
      ],
      "text/plain": [
       "                   A         B\n",
       "2023-05-09  0.784166 -0.068755\n",
       "2023-05-10 -0.468112  1.390892\n",
       "2023-05-11 -0.622232 -0.700966\n",
       "2023-05-12  0.587217 -0.173551\n",
       "2023-05-13 -0.784167  0.532478\n",
       "2023-05-14 -0.290190 -0.263309"
      ]
     },
     "execution_count": 227,
     "metadata": {},
     "output_type": "execute_result"
    }
   ],
   "source": [
    "df.loc[:, [\"A\", \"B\"]]"
   ]
  },
  {
   "cell_type": "code",
   "execution_count": 228,
   "id": "fc793dc0",
   "metadata": {},
   "outputs": [
    {
     "data": {
      "text/html": [
       "<div>\n",
       "<style scoped>\n",
       "    .dataframe tbody tr th:only-of-type {\n",
       "        vertical-align: middle;\n",
       "    }\n",
       "\n",
       "    .dataframe tbody tr th {\n",
       "        vertical-align: top;\n",
       "    }\n",
       "\n",
       "    .dataframe thead th {\n",
       "        text-align: right;\n",
       "    }\n",
       "</style>\n",
       "<table border=\"1\" class=\"dataframe\">\n",
       "  <thead>\n",
       "    <tr style=\"text-align: right;\">\n",
       "      <th></th>\n",
       "      <th>A</th>\n",
       "      <th>B</th>\n",
       "    </tr>\n",
       "  </thead>\n",
       "  <tbody>\n",
       "    <tr>\n",
       "      <th>2023-05-09</th>\n",
       "      <td>0.784166</td>\n",
       "      <td>-0.068755</td>\n",
       "    </tr>\n",
       "    <tr>\n",
       "      <th>2023-05-10</th>\n",
       "      <td>-0.468112</td>\n",
       "      <td>1.390892</td>\n",
       "    </tr>\n",
       "    <tr>\n",
       "      <th>2023-05-11</th>\n",
       "      <td>-0.622232</td>\n",
       "      <td>-0.700966</td>\n",
       "    </tr>\n",
       "    <tr>\n",
       "      <th>2023-05-12</th>\n",
       "      <td>0.587217</td>\n",
       "      <td>-0.173551</td>\n",
       "    </tr>\n",
       "  </tbody>\n",
       "</table>\n",
       "</div>"
      ],
      "text/plain": [
       "                   A         B\n",
       "2023-05-09  0.784166 -0.068755\n",
       "2023-05-10 -0.468112  1.390892\n",
       "2023-05-11 -0.622232 -0.700966\n",
       "2023-05-12  0.587217 -0.173551"
      ]
     },
     "execution_count": 228,
     "metadata": {},
     "output_type": "execute_result"
    }
   ],
   "source": [
    "df.loc[\"20230509\":\"20230512\", [\"A\", \"B\"]]"
   ]
  },
  {
   "cell_type": "code",
   "execution_count": 229,
   "id": "0f55e32f",
   "metadata": {},
   "outputs": [
    {
     "data": {
      "text/html": [
       "<div>\n",
       "<style scoped>\n",
       "    .dataframe tbody tr th:only-of-type {\n",
       "        vertical-align: middle;\n",
       "    }\n",
       "\n",
       "    .dataframe tbody tr th {\n",
       "        vertical-align: top;\n",
       "    }\n",
       "\n",
       "    .dataframe thead th {\n",
       "        text-align: right;\n",
       "    }\n",
       "</style>\n",
       "<table border=\"1\" class=\"dataframe\">\n",
       "  <thead>\n",
       "    <tr style=\"text-align: right;\">\n",
       "      <th></th>\n",
       "      <th>A</th>\n",
       "      <th>B</th>\n",
       "      <th>C</th>\n",
       "      <th>D</th>\n",
       "    </tr>\n",
       "  </thead>\n",
       "  <tbody>\n",
       "    <tr>\n",
       "      <th>2023-05-09</th>\n",
       "      <td>0.784166</td>\n",
       "      <td>-0.068755</td>\n",
       "      <td>-0.099703</td>\n",
       "      <td>0.574718</td>\n",
       "    </tr>\n",
       "    <tr>\n",
       "      <th>2023-05-10</th>\n",
       "      <td>-0.468112</td>\n",
       "      <td>1.390892</td>\n",
       "      <td>-1.967330</td>\n",
       "      <td>-0.554360</td>\n",
       "    </tr>\n",
       "    <tr>\n",
       "      <th>2023-05-11</th>\n",
       "      <td>-0.622232</td>\n",
       "      <td>-0.700966</td>\n",
       "      <td>-0.653229</td>\n",
       "      <td>-1.219841</td>\n",
       "    </tr>\n",
       "  </tbody>\n",
       "</table>\n",
       "</div>"
      ],
      "text/plain": [
       "                   A         B         C         D\n",
       "2023-05-09  0.784166 -0.068755 -0.099703  0.574718\n",
       "2023-05-10 -0.468112  1.390892 -1.967330 -0.554360\n",
       "2023-05-11 -0.622232 -0.700966 -0.653229 -1.219841"
      ]
     },
     "execution_count": 229,
     "metadata": {},
     "output_type": "execute_result"
    }
   ],
   "source": [
    "df.loc[\"20230509\":\"20230511\", \"A\":\"D\"]"
   ]
  },
  {
   "cell_type": "code",
   "execution_count": 230,
   "id": "1dd28fb3",
   "metadata": {},
   "outputs": [
    {
     "data": {
      "text/plain": [
       "A   -0.622232\n",
       "B   -0.700966\n",
       "Name: 2023-05-11 00:00:00, dtype: float64"
      ]
     },
     "execution_count": 230,
     "metadata": {},
     "output_type": "execute_result"
    }
   ],
   "source": [
    "df.loc[\"20230511\", [\"A\", \"B\"]]"
   ]
  },
  {
   "cell_type": "markdown",
   "id": "0bb9d1bf",
   "metadata": {},
   "source": [
    "- iloc : inter location\n",
    "    - 컴퓨터가 인식하는 인덱스 값으로 선택"
   ]
  },
  {
   "cell_type": "code",
   "execution_count": 231,
   "id": "469afbc9",
   "metadata": {},
   "outputs": [
    {
     "data": {
      "text/html": [
       "<div>\n",
       "<style scoped>\n",
       "    .dataframe tbody tr th:only-of-type {\n",
       "        vertical-align: middle;\n",
       "    }\n",
       "\n",
       "    .dataframe tbody tr th {\n",
       "        vertical-align: top;\n",
       "    }\n",
       "\n",
       "    .dataframe thead th {\n",
       "        text-align: right;\n",
       "    }\n",
       "</style>\n",
       "<table border=\"1\" class=\"dataframe\">\n",
       "  <thead>\n",
       "    <tr style=\"text-align: right;\">\n",
       "      <th></th>\n",
       "      <th>A</th>\n",
       "      <th>B</th>\n",
       "      <th>C</th>\n",
       "      <th>D</th>\n",
       "    </tr>\n",
       "  </thead>\n",
       "  <tbody>\n",
       "    <tr>\n",
       "      <th>2023-05-09</th>\n",
       "      <td>0.784166</td>\n",
       "      <td>-0.068755</td>\n",
       "      <td>-0.099703</td>\n",
       "      <td>0.574718</td>\n",
       "    </tr>\n",
       "    <tr>\n",
       "      <th>2023-05-10</th>\n",
       "      <td>-0.468112</td>\n",
       "      <td>1.390892</td>\n",
       "      <td>-1.967330</td>\n",
       "      <td>-0.554360</td>\n",
       "    </tr>\n",
       "    <tr>\n",
       "      <th>2023-05-11</th>\n",
       "      <td>-0.622232</td>\n",
       "      <td>-0.700966</td>\n",
       "      <td>-0.653229</td>\n",
       "      <td>-1.219841</td>\n",
       "    </tr>\n",
       "    <tr>\n",
       "      <th>2023-05-12</th>\n",
       "      <td>0.587217</td>\n",
       "      <td>-0.173551</td>\n",
       "      <td>0.355234</td>\n",
       "      <td>1.973734</td>\n",
       "    </tr>\n",
       "    <tr>\n",
       "      <th>2023-05-13</th>\n",
       "      <td>-0.784167</td>\n",
       "      <td>0.532478</td>\n",
       "      <td>-0.147372</td>\n",
       "      <td>-1.145515</td>\n",
       "    </tr>\n",
       "    <tr>\n",
       "      <th>2023-05-14</th>\n",
       "      <td>-0.290190</td>\n",
       "      <td>-0.263309</td>\n",
       "      <td>-1.309426</td>\n",
       "      <td>-1.371281</td>\n",
       "    </tr>\n",
       "  </tbody>\n",
       "</table>\n",
       "</div>"
      ],
      "text/plain": [
       "                   A         B         C         D\n",
       "2023-05-09  0.784166 -0.068755 -0.099703  0.574718\n",
       "2023-05-10 -0.468112  1.390892 -1.967330 -0.554360\n",
       "2023-05-11 -0.622232 -0.700966 -0.653229 -1.219841\n",
       "2023-05-12  0.587217 -0.173551  0.355234  1.973734\n",
       "2023-05-13 -0.784167  0.532478 -0.147372 -1.145515\n",
       "2023-05-14 -0.290190 -0.263309 -1.309426 -1.371281"
      ]
     },
     "execution_count": 231,
     "metadata": {},
     "output_type": "execute_result"
    }
   ],
   "source": [
    "df"
   ]
  },
  {
   "cell_type": "code",
   "execution_count": 232,
   "id": "acc4f9fe",
   "metadata": {},
   "outputs": [
    {
     "data": {
      "text/plain": [
       "A    0.587217\n",
       "B   -0.173551\n",
       "C    0.355234\n",
       "D    1.973734\n",
       "Name: 2023-05-12 00:00:00, dtype: float64"
      ]
     },
     "execution_count": 232,
     "metadata": {},
     "output_type": "execute_result"
    }
   ],
   "source": [
    "df.iloc[3]"
   ]
  },
  {
   "cell_type": "code",
   "execution_count": 233,
   "id": "9839f1e1",
   "metadata": {},
   "outputs": [
    {
     "data": {
      "text/plain": [
       "0.3552342290843006"
      ]
     },
     "execution_count": 233,
     "metadata": {},
     "output_type": "execute_result"
    }
   ],
   "source": [
    "df.iloc[3, 2]"
   ]
  },
  {
   "cell_type": "code",
   "execution_count": 234,
   "id": "c95db959",
   "metadata": {},
   "outputs": [
    {
     "data": {
      "text/html": [
       "<div>\n",
       "<style scoped>\n",
       "    .dataframe tbody tr th:only-of-type {\n",
       "        vertical-align: middle;\n",
       "    }\n",
       "\n",
       "    .dataframe tbody tr th {\n",
       "        vertical-align: top;\n",
       "    }\n",
       "\n",
       "    .dataframe thead th {\n",
       "        text-align: right;\n",
       "    }\n",
       "</style>\n",
       "<table border=\"1\" class=\"dataframe\">\n",
       "  <thead>\n",
       "    <tr style=\"text-align: right;\">\n",
       "      <th></th>\n",
       "      <th>A</th>\n",
       "      <th>B</th>\n",
       "    </tr>\n",
       "  </thead>\n",
       "  <tbody>\n",
       "    <tr>\n",
       "      <th>2023-05-12</th>\n",
       "      <td>0.587217</td>\n",
       "      <td>-0.173551</td>\n",
       "    </tr>\n",
       "    <tr>\n",
       "      <th>2023-05-13</th>\n",
       "      <td>-0.784167</td>\n",
       "      <td>0.532478</td>\n",
       "    </tr>\n",
       "  </tbody>\n",
       "</table>\n",
       "</div>"
      ],
      "text/plain": [
       "                   A         B\n",
       "2023-05-12  0.587217 -0.173551\n",
       "2023-05-13 -0.784167  0.532478"
      ]
     },
     "execution_count": 234,
     "metadata": {},
     "output_type": "execute_result"
    }
   ],
   "source": [
    "df.iloc[3:5, 0:2]"
   ]
  },
  {
   "cell_type": "code",
   "execution_count": 235,
   "id": "6c13981f",
   "metadata": {},
   "outputs": [
    {
     "data": {
      "text/html": [
       "<div>\n",
       "<style scoped>\n",
       "    .dataframe tbody tr th:only-of-type {\n",
       "        vertical-align: middle;\n",
       "    }\n",
       "\n",
       "    .dataframe tbody tr th {\n",
       "        vertical-align: top;\n",
       "    }\n",
       "\n",
       "    .dataframe thead th {\n",
       "        text-align: right;\n",
       "    }\n",
       "</style>\n",
       "<table border=\"1\" class=\"dataframe\">\n",
       "  <thead>\n",
       "    <tr style=\"text-align: right;\">\n",
       "      <th></th>\n",
       "      <th>A</th>\n",
       "      <th>C</th>\n",
       "    </tr>\n",
       "  </thead>\n",
       "  <tbody>\n",
       "    <tr>\n",
       "      <th>2023-05-10</th>\n",
       "      <td>-0.468112</td>\n",
       "      <td>-1.967330</td>\n",
       "    </tr>\n",
       "    <tr>\n",
       "      <th>2023-05-11</th>\n",
       "      <td>-0.622232</td>\n",
       "      <td>-0.653229</td>\n",
       "    </tr>\n",
       "    <tr>\n",
       "      <th>2023-05-13</th>\n",
       "      <td>-0.784167</td>\n",
       "      <td>-0.147372</td>\n",
       "    </tr>\n",
       "  </tbody>\n",
       "</table>\n",
       "</div>"
      ],
      "text/plain": [
       "                   A         C\n",
       "2023-05-10 -0.468112 -1.967330\n",
       "2023-05-11 -0.622232 -0.653229\n",
       "2023-05-13 -0.784167 -0.147372"
      ]
     },
     "execution_count": 235,
     "metadata": {},
     "output_type": "execute_result"
    }
   ],
   "source": [
    "df.iloc[[1, 2, 4], [0, 2]]"
   ]
  },
  {
   "cell_type": "code",
   "execution_count": 236,
   "id": "a17a3f8f",
   "metadata": {},
   "outputs": [
    {
     "data": {
      "text/html": [
       "<div>\n",
       "<style scoped>\n",
       "    .dataframe tbody tr th:only-of-type {\n",
       "        vertical-align: middle;\n",
       "    }\n",
       "\n",
       "    .dataframe tbody tr th {\n",
       "        vertical-align: top;\n",
       "    }\n",
       "\n",
       "    .dataframe thead th {\n",
       "        text-align: right;\n",
       "    }\n",
       "</style>\n",
       "<table border=\"1\" class=\"dataframe\">\n",
       "  <thead>\n",
       "    <tr style=\"text-align: right;\">\n",
       "      <th></th>\n",
       "      <th>B</th>\n",
       "      <th>C</th>\n",
       "    </tr>\n",
       "  </thead>\n",
       "  <tbody>\n",
       "    <tr>\n",
       "      <th>2023-05-09</th>\n",
       "      <td>-0.068755</td>\n",
       "      <td>-0.099703</td>\n",
       "    </tr>\n",
       "    <tr>\n",
       "      <th>2023-05-10</th>\n",
       "      <td>1.390892</td>\n",
       "      <td>-1.967330</td>\n",
       "    </tr>\n",
       "    <tr>\n",
       "      <th>2023-05-11</th>\n",
       "      <td>-0.700966</td>\n",
       "      <td>-0.653229</td>\n",
       "    </tr>\n",
       "    <tr>\n",
       "      <th>2023-05-12</th>\n",
       "      <td>-0.173551</td>\n",
       "      <td>0.355234</td>\n",
       "    </tr>\n",
       "    <tr>\n",
       "      <th>2023-05-13</th>\n",
       "      <td>0.532478</td>\n",
       "      <td>-0.147372</td>\n",
       "    </tr>\n",
       "    <tr>\n",
       "      <th>2023-05-14</th>\n",
       "      <td>-0.263309</td>\n",
       "      <td>-1.309426</td>\n",
       "    </tr>\n",
       "  </tbody>\n",
       "</table>\n",
       "</div>"
      ],
      "text/plain": [
       "                   B         C\n",
       "2023-05-09 -0.068755 -0.099703\n",
       "2023-05-10  1.390892 -1.967330\n",
       "2023-05-11 -0.700966 -0.653229\n",
       "2023-05-12 -0.173551  0.355234\n",
       "2023-05-13  0.532478 -0.147372\n",
       "2023-05-14 -0.263309 -1.309426"
      ]
     },
     "execution_count": 236,
     "metadata": {},
     "output_type": "execute_result"
    }
   ],
   "source": [
    "df.iloc[:, 1:3]"
   ]
  },
  {
   "cell_type": "markdown",
   "id": "f9561275",
   "metadata": {},
   "source": [
    "condition"
   ]
  },
  {
   "cell_type": "code",
   "execution_count": 237,
   "id": "1bcd7160",
   "metadata": {},
   "outputs": [
    {
     "data": {
      "text/html": [
       "<div>\n",
       "<style scoped>\n",
       "    .dataframe tbody tr th:only-of-type {\n",
       "        vertical-align: middle;\n",
       "    }\n",
       "\n",
       "    .dataframe tbody tr th {\n",
       "        vertical-align: top;\n",
       "    }\n",
       "\n",
       "    .dataframe thead th {\n",
       "        text-align: right;\n",
       "    }\n",
       "</style>\n",
       "<table border=\"1\" class=\"dataframe\">\n",
       "  <thead>\n",
       "    <tr style=\"text-align: right;\">\n",
       "      <th></th>\n",
       "      <th>A</th>\n",
       "      <th>B</th>\n",
       "      <th>C</th>\n",
       "      <th>D</th>\n",
       "    </tr>\n",
       "  </thead>\n",
       "  <tbody>\n",
       "    <tr>\n",
       "      <th>2023-05-09</th>\n",
       "      <td>0.784166</td>\n",
       "      <td>-0.068755</td>\n",
       "      <td>-0.099703</td>\n",
       "      <td>0.574718</td>\n",
       "    </tr>\n",
       "    <tr>\n",
       "      <th>2023-05-10</th>\n",
       "      <td>-0.468112</td>\n",
       "      <td>1.390892</td>\n",
       "      <td>-1.967330</td>\n",
       "      <td>-0.554360</td>\n",
       "    </tr>\n",
       "    <tr>\n",
       "      <th>2023-05-11</th>\n",
       "      <td>-0.622232</td>\n",
       "      <td>-0.700966</td>\n",
       "      <td>-0.653229</td>\n",
       "      <td>-1.219841</td>\n",
       "    </tr>\n",
       "    <tr>\n",
       "      <th>2023-05-12</th>\n",
       "      <td>0.587217</td>\n",
       "      <td>-0.173551</td>\n",
       "      <td>0.355234</td>\n",
       "      <td>1.973734</td>\n",
       "    </tr>\n",
       "    <tr>\n",
       "      <th>2023-05-13</th>\n",
       "      <td>-0.784167</td>\n",
       "      <td>0.532478</td>\n",
       "      <td>-0.147372</td>\n",
       "      <td>-1.145515</td>\n",
       "    </tr>\n",
       "    <tr>\n",
       "      <th>2023-05-14</th>\n",
       "      <td>-0.290190</td>\n",
       "      <td>-0.263309</td>\n",
       "      <td>-1.309426</td>\n",
       "      <td>-1.371281</td>\n",
       "    </tr>\n",
       "  </tbody>\n",
       "</table>\n",
       "</div>"
      ],
      "text/plain": [
       "                   A         B         C         D\n",
       "2023-05-09  0.784166 -0.068755 -0.099703  0.574718\n",
       "2023-05-10 -0.468112  1.390892 -1.967330 -0.554360\n",
       "2023-05-11 -0.622232 -0.700966 -0.653229 -1.219841\n",
       "2023-05-12  0.587217 -0.173551  0.355234  1.973734\n",
       "2023-05-13 -0.784167  0.532478 -0.147372 -1.145515\n",
       "2023-05-14 -0.290190 -0.263309 -1.309426 -1.371281"
      ]
     },
     "execution_count": 237,
     "metadata": {},
     "output_type": "execute_result"
    }
   ],
   "source": [
    "df"
   ]
  },
  {
   "cell_type": "code",
   "execution_count": 238,
   "id": "358a2adf",
   "metadata": {},
   "outputs": [
    {
     "data": {
      "text/plain": [
       "2023-05-09     True\n",
       "2023-05-10    False\n",
       "2023-05-11    False\n",
       "2023-05-12     True\n",
       "2023-05-13    False\n",
       "2023-05-14    False\n",
       "Freq: D, Name: A, dtype: bool"
      ]
     },
     "execution_count": 238,
     "metadata": {},
     "output_type": "execute_result"
    }
   ],
   "source": [
    "# A 컬럼에서 0보다 큰 숫자(양수)만 선택 \n",
    "\n",
    "df[\"A\"] > 0 "
   ]
  },
  {
   "cell_type": "code",
   "execution_count": 239,
   "id": "1d25bea5",
   "metadata": {},
   "outputs": [
    {
     "data": {
      "text/html": [
       "<div>\n",
       "<style scoped>\n",
       "    .dataframe tbody tr th:only-of-type {\n",
       "        vertical-align: middle;\n",
       "    }\n",
       "\n",
       "    .dataframe tbody tr th {\n",
       "        vertical-align: top;\n",
       "    }\n",
       "\n",
       "    .dataframe thead th {\n",
       "        text-align: right;\n",
       "    }\n",
       "</style>\n",
       "<table border=\"1\" class=\"dataframe\">\n",
       "  <thead>\n",
       "    <tr style=\"text-align: right;\">\n",
       "      <th></th>\n",
       "      <th>A</th>\n",
       "      <th>B</th>\n",
       "      <th>C</th>\n",
       "      <th>D</th>\n",
       "    </tr>\n",
       "  </thead>\n",
       "  <tbody>\n",
       "    <tr>\n",
       "      <th>2023-05-09</th>\n",
       "      <td>0.784166</td>\n",
       "      <td>-0.068755</td>\n",
       "      <td>-0.099703</td>\n",
       "      <td>0.574718</td>\n",
       "    </tr>\n",
       "    <tr>\n",
       "      <th>2023-05-10</th>\n",
       "      <td>-0.468112</td>\n",
       "      <td>1.390892</td>\n",
       "      <td>-1.967330</td>\n",
       "      <td>-0.554360</td>\n",
       "    </tr>\n",
       "    <tr>\n",
       "      <th>2023-05-11</th>\n",
       "      <td>-0.622232</td>\n",
       "      <td>-0.700966</td>\n",
       "      <td>-0.653229</td>\n",
       "      <td>-1.219841</td>\n",
       "    </tr>\n",
       "    <tr>\n",
       "      <th>2023-05-12</th>\n",
       "      <td>0.587217</td>\n",
       "      <td>-0.173551</td>\n",
       "      <td>0.355234</td>\n",
       "      <td>1.973734</td>\n",
       "    </tr>\n",
       "    <tr>\n",
       "      <th>2023-05-13</th>\n",
       "      <td>-0.784167</td>\n",
       "      <td>0.532478</td>\n",
       "      <td>-0.147372</td>\n",
       "      <td>-1.145515</td>\n",
       "    </tr>\n",
       "    <tr>\n",
       "      <th>2023-05-14</th>\n",
       "      <td>-0.290190</td>\n",
       "      <td>-0.263309</td>\n",
       "      <td>-1.309426</td>\n",
       "      <td>-1.371281</td>\n",
       "    </tr>\n",
       "  </tbody>\n",
       "</table>\n",
       "</div>"
      ],
      "text/plain": [
       "                   A         B         C         D\n",
       "2023-05-09  0.784166 -0.068755 -0.099703  0.574718\n",
       "2023-05-10 -0.468112  1.390892 -1.967330 -0.554360\n",
       "2023-05-11 -0.622232 -0.700966 -0.653229 -1.219841\n",
       "2023-05-12  0.587217 -0.173551  0.355234  1.973734\n",
       "2023-05-13 -0.784167  0.532478 -0.147372 -1.145515\n",
       "2023-05-14 -0.290190 -0.263309 -1.309426 -1.371281"
      ]
     },
     "execution_count": 239,
     "metadata": {},
     "output_type": "execute_result"
    }
   ],
   "source": [
    "df"
   ]
  },
  {
   "cell_type": "code",
   "execution_count": 240,
   "id": "7ae9a61b",
   "metadata": {},
   "outputs": [
    {
     "data": {
      "text/html": [
       "<div>\n",
       "<style scoped>\n",
       "    .dataframe tbody tr th:only-of-type {\n",
       "        vertical-align: middle;\n",
       "    }\n",
       "\n",
       "    .dataframe tbody tr th {\n",
       "        vertical-align: top;\n",
       "    }\n",
       "\n",
       "    .dataframe thead th {\n",
       "        text-align: right;\n",
       "    }\n",
       "</style>\n",
       "<table border=\"1\" class=\"dataframe\">\n",
       "  <thead>\n",
       "    <tr style=\"text-align: right;\">\n",
       "      <th></th>\n",
       "      <th>A</th>\n",
       "      <th>B</th>\n",
       "      <th>C</th>\n",
       "      <th>D</th>\n",
       "    </tr>\n",
       "  </thead>\n",
       "  <tbody>\n",
       "    <tr>\n",
       "      <th>2023-05-09</th>\n",
       "      <td>0.784166</td>\n",
       "      <td>-0.068755</td>\n",
       "      <td>-0.099703</td>\n",
       "      <td>0.574718</td>\n",
       "    </tr>\n",
       "    <tr>\n",
       "      <th>2023-05-12</th>\n",
       "      <td>0.587217</td>\n",
       "      <td>-0.173551</td>\n",
       "      <td>0.355234</td>\n",
       "      <td>1.973734</td>\n",
       "    </tr>\n",
       "  </tbody>\n",
       "</table>\n",
       "</div>"
      ],
      "text/plain": [
       "                   A         B         C         D\n",
       "2023-05-09  0.784166 -0.068755 -0.099703  0.574718\n",
       "2023-05-12  0.587217 -0.173551  0.355234  1.973734"
      ]
     },
     "execution_count": 240,
     "metadata": {},
     "output_type": "execute_result"
    }
   ],
   "source": [
    "df[df[\"A\"] > 0]"
   ]
  },
  {
   "cell_type": "code",
   "execution_count": 241,
   "id": "fd34f312",
   "metadata": {},
   "outputs": [
    {
     "data": {
      "text/html": [
       "<div>\n",
       "<style scoped>\n",
       "    .dataframe tbody tr th:only-of-type {\n",
       "        vertical-align: middle;\n",
       "    }\n",
       "\n",
       "    .dataframe tbody tr th {\n",
       "        vertical-align: top;\n",
       "    }\n",
       "\n",
       "    .dataframe thead th {\n",
       "        text-align: right;\n",
       "    }\n",
       "</style>\n",
       "<table border=\"1\" class=\"dataframe\">\n",
       "  <thead>\n",
       "    <tr style=\"text-align: right;\">\n",
       "      <th></th>\n",
       "      <th>A</th>\n",
       "      <th>B</th>\n",
       "      <th>C</th>\n",
       "      <th>D</th>\n",
       "    </tr>\n",
       "  </thead>\n",
       "  <tbody>\n",
       "    <tr>\n",
       "      <th>2023-05-09</th>\n",
       "      <td>0.784166</td>\n",
       "      <td>NaN</td>\n",
       "      <td>NaN</td>\n",
       "      <td>0.574718</td>\n",
       "    </tr>\n",
       "    <tr>\n",
       "      <th>2023-05-10</th>\n",
       "      <td>NaN</td>\n",
       "      <td>1.390892</td>\n",
       "      <td>NaN</td>\n",
       "      <td>NaN</td>\n",
       "    </tr>\n",
       "    <tr>\n",
       "      <th>2023-05-11</th>\n",
       "      <td>NaN</td>\n",
       "      <td>NaN</td>\n",
       "      <td>NaN</td>\n",
       "      <td>NaN</td>\n",
       "    </tr>\n",
       "    <tr>\n",
       "      <th>2023-05-12</th>\n",
       "      <td>0.587217</td>\n",
       "      <td>NaN</td>\n",
       "      <td>0.355234</td>\n",
       "      <td>1.973734</td>\n",
       "    </tr>\n",
       "    <tr>\n",
       "      <th>2023-05-13</th>\n",
       "      <td>NaN</td>\n",
       "      <td>0.532478</td>\n",
       "      <td>NaN</td>\n",
       "      <td>NaN</td>\n",
       "    </tr>\n",
       "    <tr>\n",
       "      <th>2023-05-14</th>\n",
       "      <td>NaN</td>\n",
       "      <td>NaN</td>\n",
       "      <td>NaN</td>\n",
       "      <td>NaN</td>\n",
       "    </tr>\n",
       "  </tbody>\n",
       "</table>\n",
       "</div>"
      ],
      "text/plain": [
       "                   A         B         C         D\n",
       "2023-05-09  0.784166       NaN       NaN  0.574718\n",
       "2023-05-10       NaN  1.390892       NaN       NaN\n",
       "2023-05-11       NaN       NaN       NaN       NaN\n",
       "2023-05-12  0.587217       NaN  0.355234  1.973734\n",
       "2023-05-13       NaN  0.532478       NaN       NaN\n",
       "2023-05-14       NaN       NaN       NaN       NaN"
      ]
     },
     "execution_count": 241,
     "metadata": {},
     "output_type": "execute_result"
    }
   ],
   "source": [
    "df[df > 0]"
   ]
  },
  {
   "cell_type": "markdown",
   "id": "d6be7701",
   "metadata": {},
   "source": [
    "- NaN : Not a Number"
   ]
  },
  {
   "cell_type": "markdown",
   "id": "13b7b60b",
   "metadata": {},
   "source": [
    "### 컬럼 추가\n",
    "- 기존 컬럼이 없으면 추가\n",
    "- 기존 컬럼이 있으면 수정"
   ]
  },
  {
   "cell_type": "code",
   "execution_count": 242,
   "id": "07ba53ef",
   "metadata": {},
   "outputs": [
    {
     "data": {
      "text/html": [
       "<div>\n",
       "<style scoped>\n",
       "    .dataframe tbody tr th:only-of-type {\n",
       "        vertical-align: middle;\n",
       "    }\n",
       "\n",
       "    .dataframe tbody tr th {\n",
       "        vertical-align: top;\n",
       "    }\n",
       "\n",
       "    .dataframe thead th {\n",
       "        text-align: right;\n",
       "    }\n",
       "</style>\n",
       "<table border=\"1\" class=\"dataframe\">\n",
       "  <thead>\n",
       "    <tr style=\"text-align: right;\">\n",
       "      <th></th>\n",
       "      <th>A</th>\n",
       "      <th>B</th>\n",
       "      <th>C</th>\n",
       "      <th>D</th>\n",
       "    </tr>\n",
       "  </thead>\n",
       "  <tbody>\n",
       "    <tr>\n",
       "      <th>2023-05-09</th>\n",
       "      <td>0.784166</td>\n",
       "      <td>-0.068755</td>\n",
       "      <td>-0.099703</td>\n",
       "      <td>0.574718</td>\n",
       "    </tr>\n",
       "    <tr>\n",
       "      <th>2023-05-10</th>\n",
       "      <td>-0.468112</td>\n",
       "      <td>1.390892</td>\n",
       "      <td>-1.967330</td>\n",
       "      <td>-0.554360</td>\n",
       "    </tr>\n",
       "    <tr>\n",
       "      <th>2023-05-11</th>\n",
       "      <td>-0.622232</td>\n",
       "      <td>-0.700966</td>\n",
       "      <td>-0.653229</td>\n",
       "      <td>-1.219841</td>\n",
       "    </tr>\n",
       "    <tr>\n",
       "      <th>2023-05-12</th>\n",
       "      <td>0.587217</td>\n",
       "      <td>-0.173551</td>\n",
       "      <td>0.355234</td>\n",
       "      <td>1.973734</td>\n",
       "    </tr>\n",
       "    <tr>\n",
       "      <th>2023-05-13</th>\n",
       "      <td>-0.784167</td>\n",
       "      <td>0.532478</td>\n",
       "      <td>-0.147372</td>\n",
       "      <td>-1.145515</td>\n",
       "    </tr>\n",
       "    <tr>\n",
       "      <th>2023-05-14</th>\n",
       "      <td>-0.290190</td>\n",
       "      <td>-0.263309</td>\n",
       "      <td>-1.309426</td>\n",
       "      <td>-1.371281</td>\n",
       "    </tr>\n",
       "  </tbody>\n",
       "</table>\n",
       "</div>"
      ],
      "text/plain": [
       "                   A         B         C         D\n",
       "2023-05-09  0.784166 -0.068755 -0.099703  0.574718\n",
       "2023-05-10 -0.468112  1.390892 -1.967330 -0.554360\n",
       "2023-05-11 -0.622232 -0.700966 -0.653229 -1.219841\n",
       "2023-05-12  0.587217 -0.173551  0.355234  1.973734\n",
       "2023-05-13 -0.784167  0.532478 -0.147372 -1.145515\n",
       "2023-05-14 -0.290190 -0.263309 -1.309426 -1.371281"
      ]
     },
     "execution_count": 242,
     "metadata": {},
     "output_type": "execute_result"
    }
   ],
   "source": [
    "df"
   ]
  },
  {
   "cell_type": "code",
   "execution_count": 243,
   "id": "13693ff2",
   "metadata": {},
   "outputs": [
    {
     "data": {
      "text/html": [
       "<div>\n",
       "<style scoped>\n",
       "    .dataframe tbody tr th:only-of-type {\n",
       "        vertical-align: middle;\n",
       "    }\n",
       "\n",
       "    .dataframe tbody tr th {\n",
       "        vertical-align: top;\n",
       "    }\n",
       "\n",
       "    .dataframe thead th {\n",
       "        text-align: right;\n",
       "    }\n",
       "</style>\n",
       "<table border=\"1\" class=\"dataframe\">\n",
       "  <thead>\n",
       "    <tr style=\"text-align: right;\">\n",
       "      <th></th>\n",
       "      <th>A</th>\n",
       "      <th>B</th>\n",
       "      <th>C</th>\n",
       "      <th>D</th>\n",
       "      <th>E</th>\n",
       "    </tr>\n",
       "  </thead>\n",
       "  <tbody>\n",
       "    <tr>\n",
       "      <th>2023-05-09</th>\n",
       "      <td>0.784166</td>\n",
       "      <td>-0.068755</td>\n",
       "      <td>-0.099703</td>\n",
       "      <td>0.574718</td>\n",
       "      <td>one</td>\n",
       "    </tr>\n",
       "    <tr>\n",
       "      <th>2023-05-10</th>\n",
       "      <td>-0.468112</td>\n",
       "      <td>1.390892</td>\n",
       "      <td>-1.967330</td>\n",
       "      <td>-0.554360</td>\n",
       "      <td>one</td>\n",
       "    </tr>\n",
       "    <tr>\n",
       "      <th>2023-05-11</th>\n",
       "      <td>-0.622232</td>\n",
       "      <td>-0.700966</td>\n",
       "      <td>-0.653229</td>\n",
       "      <td>-1.219841</td>\n",
       "      <td>two</td>\n",
       "    </tr>\n",
       "    <tr>\n",
       "      <th>2023-05-12</th>\n",
       "      <td>0.587217</td>\n",
       "      <td>-0.173551</td>\n",
       "      <td>0.355234</td>\n",
       "      <td>1.973734</td>\n",
       "      <td>tree</td>\n",
       "    </tr>\n",
       "    <tr>\n",
       "      <th>2023-05-13</th>\n",
       "      <td>-0.784167</td>\n",
       "      <td>0.532478</td>\n",
       "      <td>-0.147372</td>\n",
       "      <td>-1.145515</td>\n",
       "      <td>four</td>\n",
       "    </tr>\n",
       "    <tr>\n",
       "      <th>2023-05-14</th>\n",
       "      <td>-0.290190</td>\n",
       "      <td>-0.263309</td>\n",
       "      <td>-1.309426</td>\n",
       "      <td>-1.371281</td>\n",
       "      <td>seven</td>\n",
       "    </tr>\n",
       "  </tbody>\n",
       "</table>\n",
       "</div>"
      ],
      "text/plain": [
       "                   A         B         C         D      E\n",
       "2023-05-09  0.784166 -0.068755 -0.099703  0.574718    one\n",
       "2023-05-10 -0.468112  1.390892 -1.967330 -0.554360    one\n",
       "2023-05-11 -0.622232 -0.700966 -0.653229 -1.219841    two\n",
       "2023-05-12  0.587217 -0.173551  0.355234  1.973734   tree\n",
       "2023-05-13 -0.784167  0.532478 -0.147372 -1.145515   four\n",
       "2023-05-14 -0.290190 -0.263309 -1.309426 -1.371281  seven"
      ]
     },
     "execution_count": 243,
     "metadata": {},
     "output_type": "execute_result"
    }
   ],
   "source": [
    "df[\"E\"] = [\"one\", \"one\", \"two\", \"tree\", \"four\", \"seven\"]\n",
    "df"
   ]
  },
  {
   "cell_type": "markdown",
   "id": "fcbf126e",
   "metadata": {},
   "source": [
    "- isin()\n",
    "- 특정 요소가 있는지 확인"
   ]
  },
  {
   "cell_type": "code",
   "execution_count": 244,
   "id": "7b81e2b0",
   "metadata": {},
   "outputs": [
    {
     "data": {
      "text/plain": [
       "2023-05-09    False\n",
       "2023-05-10    False\n",
       "2023-05-11     True\n",
       "2023-05-12    False\n",
       "2023-05-13    False\n",
       "2023-05-14    False\n",
       "Freq: D, Name: E, dtype: bool"
      ]
     },
     "execution_count": 244,
     "metadata": {},
     "output_type": "execute_result"
    }
   ],
   "source": [
    "df[\"E\"].isin([\"two\"])"
   ]
  },
  {
   "cell_type": "code",
   "execution_count": 245,
   "id": "5db0b949",
   "metadata": {},
   "outputs": [
    {
     "data": {
      "text/plain": [
       "2023-05-09    False\n",
       "2023-05-10    False\n",
       "2023-05-11     True\n",
       "2023-05-12    False\n",
       "2023-05-13    False\n",
       "2023-05-14    False\n",
       "Freq: D, Name: E, dtype: bool"
      ]
     },
     "execution_count": 245,
     "metadata": {},
     "output_type": "execute_result"
    }
   ],
   "source": [
    "df[\"E\"].isin([\"two\", \"five\"])"
   ]
  },
  {
   "cell_type": "markdown",
   "id": "084d971f",
   "metadata": {},
   "source": [
    "### 특정 컬럼 제거\n",
    "- del\n",
    "- drop"
   ]
  },
  {
   "cell_type": "code",
   "execution_count": 246,
   "id": "420b5f8f",
   "metadata": {},
   "outputs": [
    {
     "data": {
      "text/html": [
       "<div>\n",
       "<style scoped>\n",
       "    .dataframe tbody tr th:only-of-type {\n",
       "        vertical-align: middle;\n",
       "    }\n",
       "\n",
       "    .dataframe tbody tr th {\n",
       "        vertical-align: top;\n",
       "    }\n",
       "\n",
       "    .dataframe thead th {\n",
       "        text-align: right;\n",
       "    }\n",
       "</style>\n",
       "<table border=\"1\" class=\"dataframe\">\n",
       "  <thead>\n",
       "    <tr style=\"text-align: right;\">\n",
       "      <th></th>\n",
       "      <th>A</th>\n",
       "      <th>B</th>\n",
       "      <th>C</th>\n",
       "      <th>D</th>\n",
       "      <th>E</th>\n",
       "    </tr>\n",
       "  </thead>\n",
       "  <tbody>\n",
       "    <tr>\n",
       "      <th>2023-05-09</th>\n",
       "      <td>0.784166</td>\n",
       "      <td>-0.068755</td>\n",
       "      <td>-0.099703</td>\n",
       "      <td>0.574718</td>\n",
       "      <td>one</td>\n",
       "    </tr>\n",
       "    <tr>\n",
       "      <th>2023-05-10</th>\n",
       "      <td>-0.468112</td>\n",
       "      <td>1.390892</td>\n",
       "      <td>-1.967330</td>\n",
       "      <td>-0.554360</td>\n",
       "      <td>one</td>\n",
       "    </tr>\n",
       "    <tr>\n",
       "      <th>2023-05-11</th>\n",
       "      <td>-0.622232</td>\n",
       "      <td>-0.700966</td>\n",
       "      <td>-0.653229</td>\n",
       "      <td>-1.219841</td>\n",
       "      <td>two</td>\n",
       "    </tr>\n",
       "    <tr>\n",
       "      <th>2023-05-12</th>\n",
       "      <td>0.587217</td>\n",
       "      <td>-0.173551</td>\n",
       "      <td>0.355234</td>\n",
       "      <td>1.973734</td>\n",
       "      <td>tree</td>\n",
       "    </tr>\n",
       "    <tr>\n",
       "      <th>2023-05-13</th>\n",
       "      <td>-0.784167</td>\n",
       "      <td>0.532478</td>\n",
       "      <td>-0.147372</td>\n",
       "      <td>-1.145515</td>\n",
       "      <td>four</td>\n",
       "    </tr>\n",
       "    <tr>\n",
       "      <th>2023-05-14</th>\n",
       "      <td>-0.290190</td>\n",
       "      <td>-0.263309</td>\n",
       "      <td>-1.309426</td>\n",
       "      <td>-1.371281</td>\n",
       "      <td>seven</td>\n",
       "    </tr>\n",
       "  </tbody>\n",
       "</table>\n",
       "</div>"
      ],
      "text/plain": [
       "                   A         B         C         D      E\n",
       "2023-05-09  0.784166 -0.068755 -0.099703  0.574718    one\n",
       "2023-05-10 -0.468112  1.390892 -1.967330 -0.554360    one\n",
       "2023-05-11 -0.622232 -0.700966 -0.653229 -1.219841    two\n",
       "2023-05-12  0.587217 -0.173551  0.355234  1.973734   tree\n",
       "2023-05-13 -0.784167  0.532478 -0.147372 -1.145515   four\n",
       "2023-05-14 -0.290190 -0.263309 -1.309426 -1.371281  seven"
      ]
     },
     "execution_count": 246,
     "metadata": {},
     "output_type": "execute_result"
    }
   ],
   "source": [
    "df"
   ]
  },
  {
   "cell_type": "code",
   "execution_count": 247,
   "id": "cdf39f9f",
   "metadata": {},
   "outputs": [],
   "source": [
    "del df[\"E\"]"
   ]
  },
  {
   "cell_type": "code",
   "execution_count": 248,
   "id": "99df3ab7",
   "metadata": {},
   "outputs": [
    {
     "data": {
      "text/html": [
       "<div>\n",
       "<style scoped>\n",
       "    .dataframe tbody tr th:only-of-type {\n",
       "        vertical-align: middle;\n",
       "    }\n",
       "\n",
       "    .dataframe tbody tr th {\n",
       "        vertical-align: top;\n",
       "    }\n",
       "\n",
       "    .dataframe thead th {\n",
       "        text-align: right;\n",
       "    }\n",
       "</style>\n",
       "<table border=\"1\" class=\"dataframe\">\n",
       "  <thead>\n",
       "    <tr style=\"text-align: right;\">\n",
       "      <th></th>\n",
       "      <th>A</th>\n",
       "      <th>B</th>\n",
       "      <th>C</th>\n",
       "      <th>D</th>\n",
       "    </tr>\n",
       "  </thead>\n",
       "  <tbody>\n",
       "    <tr>\n",
       "      <th>2023-05-09</th>\n",
       "      <td>0.784166</td>\n",
       "      <td>-0.068755</td>\n",
       "      <td>-0.099703</td>\n",
       "      <td>0.574718</td>\n",
       "    </tr>\n",
       "    <tr>\n",
       "      <th>2023-05-10</th>\n",
       "      <td>-0.468112</td>\n",
       "      <td>1.390892</td>\n",
       "      <td>-1.967330</td>\n",
       "      <td>-0.554360</td>\n",
       "    </tr>\n",
       "    <tr>\n",
       "      <th>2023-05-11</th>\n",
       "      <td>-0.622232</td>\n",
       "      <td>-0.700966</td>\n",
       "      <td>-0.653229</td>\n",
       "      <td>-1.219841</td>\n",
       "    </tr>\n",
       "    <tr>\n",
       "      <th>2023-05-12</th>\n",
       "      <td>0.587217</td>\n",
       "      <td>-0.173551</td>\n",
       "      <td>0.355234</td>\n",
       "      <td>1.973734</td>\n",
       "    </tr>\n",
       "    <tr>\n",
       "      <th>2023-05-13</th>\n",
       "      <td>-0.784167</td>\n",
       "      <td>0.532478</td>\n",
       "      <td>-0.147372</td>\n",
       "      <td>-1.145515</td>\n",
       "    </tr>\n",
       "    <tr>\n",
       "      <th>2023-05-14</th>\n",
       "      <td>-0.290190</td>\n",
       "      <td>-0.263309</td>\n",
       "      <td>-1.309426</td>\n",
       "      <td>-1.371281</td>\n",
       "    </tr>\n",
       "  </tbody>\n",
       "</table>\n",
       "</div>"
      ],
      "text/plain": [
       "                   A         B         C         D\n",
       "2023-05-09  0.784166 -0.068755 -0.099703  0.574718\n",
       "2023-05-10 -0.468112  1.390892 -1.967330 -0.554360\n",
       "2023-05-11 -0.622232 -0.700966 -0.653229 -1.219841\n",
       "2023-05-12  0.587217 -0.173551  0.355234  1.973734\n",
       "2023-05-13 -0.784167  0.532478 -0.147372 -1.145515\n",
       "2023-05-14 -0.290190 -0.263309 -1.309426 -1.371281"
      ]
     },
     "execution_count": 248,
     "metadata": {},
     "output_type": "execute_result"
    }
   ],
   "source": [
    "df"
   ]
  },
  {
   "cell_type": "code",
   "execution_count": 249,
   "id": "c7dc36c8",
   "metadata": {},
   "outputs": [
    {
     "data": {
      "text/html": [
       "<div>\n",
       "<style scoped>\n",
       "    .dataframe tbody tr th:only-of-type {\n",
       "        vertical-align: middle;\n",
       "    }\n",
       "\n",
       "    .dataframe tbody tr th {\n",
       "        vertical-align: top;\n",
       "    }\n",
       "\n",
       "    .dataframe thead th {\n",
       "        text-align: right;\n",
       "    }\n",
       "</style>\n",
       "<table border=\"1\" class=\"dataframe\">\n",
       "  <thead>\n",
       "    <tr style=\"text-align: right;\">\n",
       "      <th></th>\n",
       "      <th>A</th>\n",
       "      <th>B</th>\n",
       "      <th>C</th>\n",
       "    </tr>\n",
       "  </thead>\n",
       "  <tbody>\n",
       "    <tr>\n",
       "      <th>2023-05-09</th>\n",
       "      <td>0.784166</td>\n",
       "      <td>-0.068755</td>\n",
       "      <td>-0.099703</td>\n",
       "    </tr>\n",
       "    <tr>\n",
       "      <th>2023-05-10</th>\n",
       "      <td>-0.468112</td>\n",
       "      <td>1.390892</td>\n",
       "      <td>-1.967330</td>\n",
       "    </tr>\n",
       "    <tr>\n",
       "      <th>2023-05-11</th>\n",
       "      <td>-0.622232</td>\n",
       "      <td>-0.700966</td>\n",
       "      <td>-0.653229</td>\n",
       "    </tr>\n",
       "    <tr>\n",
       "      <th>2023-05-12</th>\n",
       "      <td>0.587217</td>\n",
       "      <td>-0.173551</td>\n",
       "      <td>0.355234</td>\n",
       "    </tr>\n",
       "    <tr>\n",
       "      <th>2023-05-13</th>\n",
       "      <td>-0.784167</td>\n",
       "      <td>0.532478</td>\n",
       "      <td>-0.147372</td>\n",
       "    </tr>\n",
       "    <tr>\n",
       "      <th>2023-05-14</th>\n",
       "      <td>-0.290190</td>\n",
       "      <td>-0.263309</td>\n",
       "      <td>-1.309426</td>\n",
       "    </tr>\n",
       "  </tbody>\n",
       "</table>\n",
       "</div>"
      ],
      "text/plain": [
       "                   A         B         C\n",
       "2023-05-09  0.784166 -0.068755 -0.099703\n",
       "2023-05-10 -0.468112  1.390892 -1.967330\n",
       "2023-05-11 -0.622232 -0.700966 -0.653229\n",
       "2023-05-12  0.587217 -0.173551  0.355234\n",
       "2023-05-13 -0.784167  0.532478 -0.147372\n",
       "2023-05-14 -0.290190 -0.263309 -1.309426"
      ]
     },
     "execution_count": 249,
     "metadata": {},
     "output_type": "execute_result"
    }
   ],
   "source": [
    "df.drop([\"D\"], axis=1) # axis=0 가로, axis=1 세로"
   ]
  },
  {
   "cell_type": "code",
   "execution_count": 250,
   "id": "3f4f288b",
   "metadata": {},
   "outputs": [
    {
     "data": {
      "text/html": [
       "<div>\n",
       "<style scoped>\n",
       "    .dataframe tbody tr th:only-of-type {\n",
       "        vertical-align: middle;\n",
       "    }\n",
       "\n",
       "    .dataframe tbody tr th {\n",
       "        vertical-align: top;\n",
       "    }\n",
       "\n",
       "    .dataframe thead th {\n",
       "        text-align: right;\n",
       "    }\n",
       "</style>\n",
       "<table border=\"1\" class=\"dataframe\">\n",
       "  <thead>\n",
       "    <tr style=\"text-align: right;\">\n",
       "      <th></th>\n",
       "      <th>A</th>\n",
       "      <th>B</th>\n",
       "      <th>C</th>\n",
       "      <th>D</th>\n",
       "    </tr>\n",
       "  </thead>\n",
       "  <tbody>\n",
       "    <tr>\n",
       "      <th>2023-05-09</th>\n",
       "      <td>0.784166</td>\n",
       "      <td>-0.068755</td>\n",
       "      <td>-0.099703</td>\n",
       "      <td>0.574718</td>\n",
       "    </tr>\n",
       "    <tr>\n",
       "      <th>2023-05-10</th>\n",
       "      <td>-0.468112</td>\n",
       "      <td>1.390892</td>\n",
       "      <td>-1.967330</td>\n",
       "      <td>-0.554360</td>\n",
       "    </tr>\n",
       "    <tr>\n",
       "      <th>2023-05-11</th>\n",
       "      <td>-0.622232</td>\n",
       "      <td>-0.700966</td>\n",
       "      <td>-0.653229</td>\n",
       "      <td>-1.219841</td>\n",
       "    </tr>\n",
       "    <tr>\n",
       "      <th>2023-05-12</th>\n",
       "      <td>0.587217</td>\n",
       "      <td>-0.173551</td>\n",
       "      <td>0.355234</td>\n",
       "      <td>1.973734</td>\n",
       "    </tr>\n",
       "    <tr>\n",
       "      <th>2023-05-13</th>\n",
       "      <td>-0.784167</td>\n",
       "      <td>0.532478</td>\n",
       "      <td>-0.147372</td>\n",
       "      <td>-1.145515</td>\n",
       "    </tr>\n",
       "  </tbody>\n",
       "</table>\n",
       "</div>"
      ],
      "text/plain": [
       "                   A         B         C         D\n",
       "2023-05-09  0.784166 -0.068755 -0.099703  0.574718\n",
       "2023-05-10 -0.468112  1.390892 -1.967330 -0.554360\n",
       "2023-05-11 -0.622232 -0.700966 -0.653229 -1.219841\n",
       "2023-05-12  0.587217 -0.173551  0.355234  1.973734\n",
       "2023-05-13 -0.784167  0.532478 -0.147372 -1.145515"
      ]
     },
     "execution_count": 250,
     "metadata": {},
     "output_type": "execute_result"
    }
   ],
   "source": [
    " df.drop([\"20230514\"])"
   ]
  },
  {
   "cell_type": "markdown",
   "id": "17cb6b58",
   "metadata": {},
   "source": [
    "### apply()"
   ]
  },
  {
   "cell_type": "code",
   "execution_count": 251,
   "id": "6acedc62",
   "metadata": {},
   "outputs": [
    {
     "data": {
      "text/html": [
       "<div>\n",
       "<style scoped>\n",
       "    .dataframe tbody tr th:only-of-type {\n",
       "        vertical-align: middle;\n",
       "    }\n",
       "\n",
       "    .dataframe tbody tr th {\n",
       "        vertical-align: top;\n",
       "    }\n",
       "\n",
       "    .dataframe thead th {\n",
       "        text-align: right;\n",
       "    }\n",
       "</style>\n",
       "<table border=\"1\" class=\"dataframe\">\n",
       "  <thead>\n",
       "    <tr style=\"text-align: right;\">\n",
       "      <th></th>\n",
       "      <th>A</th>\n",
       "      <th>B</th>\n",
       "      <th>C</th>\n",
       "      <th>D</th>\n",
       "    </tr>\n",
       "  </thead>\n",
       "  <tbody>\n",
       "    <tr>\n",
       "      <th>2023-05-09</th>\n",
       "      <td>0.784166</td>\n",
       "      <td>-0.068755</td>\n",
       "      <td>-0.099703</td>\n",
       "      <td>0.574718</td>\n",
       "    </tr>\n",
       "    <tr>\n",
       "      <th>2023-05-10</th>\n",
       "      <td>-0.468112</td>\n",
       "      <td>1.390892</td>\n",
       "      <td>-1.967330</td>\n",
       "      <td>-0.554360</td>\n",
       "    </tr>\n",
       "    <tr>\n",
       "      <th>2023-05-11</th>\n",
       "      <td>-0.622232</td>\n",
       "      <td>-0.700966</td>\n",
       "      <td>-0.653229</td>\n",
       "      <td>-1.219841</td>\n",
       "    </tr>\n",
       "    <tr>\n",
       "      <th>2023-05-12</th>\n",
       "      <td>0.587217</td>\n",
       "      <td>-0.173551</td>\n",
       "      <td>0.355234</td>\n",
       "      <td>1.973734</td>\n",
       "    </tr>\n",
       "    <tr>\n",
       "      <th>2023-05-13</th>\n",
       "      <td>-0.784167</td>\n",
       "      <td>0.532478</td>\n",
       "      <td>-0.147372</td>\n",
       "      <td>-1.145515</td>\n",
       "    </tr>\n",
       "    <tr>\n",
       "      <th>2023-05-14</th>\n",
       "      <td>-0.290190</td>\n",
       "      <td>-0.263309</td>\n",
       "      <td>-1.309426</td>\n",
       "      <td>-1.371281</td>\n",
       "    </tr>\n",
       "  </tbody>\n",
       "</table>\n",
       "</div>"
      ],
      "text/plain": [
       "                   A         B         C         D\n",
       "2023-05-09  0.784166 -0.068755 -0.099703  0.574718\n",
       "2023-05-10 -0.468112  1.390892 -1.967330 -0.554360\n",
       "2023-05-11 -0.622232 -0.700966 -0.653229 -1.219841\n",
       "2023-05-12  0.587217 -0.173551  0.355234  1.973734\n",
       "2023-05-13 -0.784167  0.532478 -0.147372 -1.145515\n",
       "2023-05-14 -0.290190 -0.263309 -1.309426 -1.371281"
      ]
     },
     "execution_count": 251,
     "metadata": {},
     "output_type": "execute_result"
    }
   ],
   "source": [
    "df"
   ]
  },
  {
   "cell_type": "code",
   "execution_count": 252,
   "id": "177a3fa5",
   "metadata": {},
   "outputs": [
    {
     "data": {
      "text/plain": [
       "-0.7933192958360253"
      ]
     },
     "execution_count": 252,
     "metadata": {},
     "output_type": "execute_result"
    }
   ],
   "source": [
    "df[\"A\"].apply(\"sum\")"
   ]
  },
  {
   "cell_type": "code",
   "execution_count": 253,
   "id": "0f2d623b",
   "metadata": {},
   "outputs": [
    {
     "data": {
      "text/plain": [
       "-0.13221988263933757"
      ]
     },
     "execution_count": 253,
     "metadata": {},
     "output_type": "execute_result"
    }
   ],
   "source": [
    "df[\"A\"].apply(\"mean\")"
   ]
  },
  {
   "cell_type": "code",
   "execution_count": 254,
   "id": "e1364aad",
   "metadata": {},
   "outputs": [
    {
     "data": {
      "text/plain": [
       "(-0.7841672722945716, 0.7841656975424072)"
      ]
     },
     "execution_count": 254,
     "metadata": {},
     "output_type": "execute_result"
    }
   ],
   "source": [
    "df[\"A\"].apply(\"min\"), df[\"A\"].apply(\"max\")"
   ]
  },
  {
   "cell_type": "code",
   "execution_count": 255,
   "id": "038b0e35",
   "metadata": {},
   "outputs": [
    {
     "data": {
      "text/plain": [
       "A   -0.793319\n",
       "D   -1.742545\n",
       "dtype: float64"
      ]
     },
     "execution_count": 255,
     "metadata": {},
     "output_type": "execute_result"
    }
   ],
   "source": [
    "df[[\"A\", \"D\"]].apply(\"sum\")"
   ]
  },
  {
   "cell_type": "code",
   "execution_count": 256,
   "id": "057d53bc",
   "metadata": {},
   "outputs": [
    {
     "data": {
      "text/plain": [
       "2023-05-09    0.784166\n",
       "2023-05-10   -0.468112\n",
       "2023-05-11   -0.622232\n",
       "2023-05-12    0.587217\n",
       "2023-05-13   -0.784167\n",
       "2023-05-14   -0.290190\n",
       "Freq: D, Name: A, dtype: float64"
      ]
     },
     "execution_count": 256,
     "metadata": {},
     "output_type": "execute_result"
    }
   ],
   "source": [
    "df[\"A\"].apply(np.sum)"
   ]
  },
  {
   "cell_type": "code",
   "execution_count": 257,
   "id": "fb7482ca",
   "metadata": {},
   "outputs": [
    {
     "data": {
      "text/plain": [
       "2023-05-09    0.784166\n",
       "2023-05-10   -0.468112\n",
       "2023-05-11   -0.622232\n",
       "2023-05-12    0.587217\n",
       "2023-05-13   -0.784167\n",
       "2023-05-14   -0.290190\n",
       "Freq: D, Name: A, dtype: float64"
      ]
     },
     "execution_count": 257,
     "metadata": {},
     "output_type": "execute_result"
    }
   ],
   "source": [
    "df[\"A\"].apply(np.mean)"
   ]
  },
  {
   "cell_type": "code",
   "execution_count": 258,
   "id": "33021c67",
   "metadata": {},
   "outputs": [
    {
     "data": {
      "text/plain": [
       "2023-05-09    0.0\n",
       "2023-05-10    0.0\n",
       "2023-05-11    0.0\n",
       "2023-05-12    0.0\n",
       "2023-05-13    0.0\n",
       "2023-05-14    0.0\n",
       "Freq: D, Name: A, dtype: float64"
      ]
     },
     "execution_count": 258,
     "metadata": {},
     "output_type": "execute_result"
    }
   ],
   "source": [
    "df[\"A\"].apply(np.std)"
   ]
  },
  {
   "cell_type": "code",
   "execution_count": 259,
   "id": "a48e7ace",
   "metadata": {},
   "outputs": [
    {
     "data": {
      "text/plain": [
       "A   -0.793319\n",
       "B    0.716789\n",
       "C   -3.821827\n",
       "D   -1.742545\n",
       "dtype: float64"
      ]
     },
     "execution_count": 259,
     "metadata": {},
     "output_type": "execute_result"
    }
   ],
   "source": [
    "df.apply(np.sum)"
   ]
  },
  {
   "cell_type": "code",
   "execution_count": 260,
   "id": "4d9bdf65",
   "metadata": {},
   "outputs": [
    {
     "data": {
      "text/html": [
       "<div>\n",
       "<style scoped>\n",
       "    .dataframe tbody tr th:only-of-type {\n",
       "        vertical-align: middle;\n",
       "    }\n",
       "\n",
       "    .dataframe tbody tr th {\n",
       "        vertical-align: top;\n",
       "    }\n",
       "\n",
       "    .dataframe thead th {\n",
       "        text-align: right;\n",
       "    }\n",
       "</style>\n",
       "<table border=\"1\" class=\"dataframe\">\n",
       "  <thead>\n",
       "    <tr style=\"text-align: right;\">\n",
       "      <th></th>\n",
       "      <th>A</th>\n",
       "      <th>B</th>\n",
       "      <th>C</th>\n",
       "      <th>D</th>\n",
       "    </tr>\n",
       "  </thead>\n",
       "  <tbody>\n",
       "    <tr>\n",
       "      <th>2023-05-09</th>\n",
       "      <td>0.784166</td>\n",
       "      <td>-0.068755</td>\n",
       "      <td>-0.099703</td>\n",
       "      <td>0.574718</td>\n",
       "    </tr>\n",
       "    <tr>\n",
       "      <th>2023-05-10</th>\n",
       "      <td>-0.468112</td>\n",
       "      <td>1.390892</td>\n",
       "      <td>-1.967330</td>\n",
       "      <td>-0.554360</td>\n",
       "    </tr>\n",
       "    <tr>\n",
       "      <th>2023-05-11</th>\n",
       "      <td>-0.622232</td>\n",
       "      <td>-0.700966</td>\n",
       "      <td>-0.653229</td>\n",
       "      <td>-1.219841</td>\n",
       "    </tr>\n",
       "    <tr>\n",
       "      <th>2023-05-12</th>\n",
       "      <td>0.587217</td>\n",
       "      <td>-0.173551</td>\n",
       "      <td>0.355234</td>\n",
       "      <td>1.973734</td>\n",
       "    </tr>\n",
       "    <tr>\n",
       "      <th>2023-05-13</th>\n",
       "      <td>-0.784167</td>\n",
       "      <td>0.532478</td>\n",
       "      <td>-0.147372</td>\n",
       "      <td>-1.145515</td>\n",
       "    </tr>\n",
       "    <tr>\n",
       "      <th>2023-05-14</th>\n",
       "      <td>-0.290190</td>\n",
       "      <td>-0.263309</td>\n",
       "      <td>-1.309426</td>\n",
       "      <td>-1.371281</td>\n",
       "    </tr>\n",
       "  </tbody>\n",
       "</table>\n",
       "</div>"
      ],
      "text/plain": [
       "                   A         B         C         D\n",
       "2023-05-09  0.784166 -0.068755 -0.099703  0.574718\n",
       "2023-05-10 -0.468112  1.390892 -1.967330 -0.554360\n",
       "2023-05-11 -0.622232 -0.700966 -0.653229 -1.219841\n",
       "2023-05-12  0.587217 -0.173551  0.355234  1.973734\n",
       "2023-05-13 -0.784167  0.532478 -0.147372 -1.145515\n",
       "2023-05-14 -0.290190 -0.263309 -1.309426 -1.371281"
      ]
     },
     "execution_count": 260,
     "metadata": {},
     "output_type": "execute_result"
    }
   ],
   "source": [
    "df"
   ]
  },
  {
   "cell_type": "code",
   "execution_count": 261,
   "id": "e1d977a5",
   "metadata": {},
   "outputs": [],
   "source": [
    "def plusminus(num):\n",
    "    return \"plus\" if num > 0 else \"minus\""
   ]
  },
  {
   "cell_type": "code",
   "execution_count": 262,
   "id": "c6d3ab4c",
   "metadata": {},
   "outputs": [
    {
     "data": {
      "text/plain": [
       "2023-05-09     plus\n",
       "2023-05-10    minus\n",
       "2023-05-11    minus\n",
       "2023-05-12     plus\n",
       "2023-05-13    minus\n",
       "2023-05-14    minus\n",
       "Freq: D, Name: A, dtype: object"
      ]
     },
     "execution_count": 262,
     "metadata": {},
     "output_type": "execute_result"
    }
   ],
   "source": [
    "df[\"A\"].apply(plusminus)"
   ]
  },
  {
   "cell_type": "code",
   "execution_count": 263,
   "id": "ab02ca38",
   "metadata": {},
   "outputs": [
    {
     "data": {
      "text/plain": [
       "2023-05-09     plus\n",
       "2023-05-10    minus\n",
       "2023-05-11    minus\n",
       "2023-05-12     plus\n",
       "2023-05-13    minus\n",
       "2023-05-14    minus\n",
       "Freq: D, Name: A, dtype: object"
      ]
     },
     "execution_count": 263,
     "metadata": {},
     "output_type": "execute_result"
    }
   ],
   "source": [
    "df[\"A\"].apply(lambda num: \"plus\" if num > 0 else \"minus\")"
   ]
  },
  {
   "cell_type": "markdown",
   "id": "21087803",
   "metadata": {},
   "source": [
    "---"
   ]
  },
  {
   "cell_type": "markdown",
   "id": "60b213da",
   "metadata": {},
   "source": [
    "# 2. CCTV 데이터 훑어보기"
   ]
  },
  {
   "cell_type": "code",
   "execution_count": 264,
   "id": "6288b090",
   "metadata": {},
   "outputs": [
    {
     "data": {
      "text/html": [
       "<div>\n",
       "<style scoped>\n",
       "    .dataframe tbody tr th:only-of-type {\n",
       "        vertical-align: middle;\n",
       "    }\n",
       "\n",
       "    .dataframe tbody tr th {\n",
       "        vertical-align: top;\n",
       "    }\n",
       "\n",
       "    .dataframe thead th {\n",
       "        text-align: right;\n",
       "    }\n",
       "</style>\n",
       "<table border=\"1\" class=\"dataframe\">\n",
       "  <thead>\n",
       "    <tr style=\"text-align: right;\">\n",
       "      <th></th>\n",
       "      <th>구별</th>\n",
       "      <th>소계</th>\n",
       "      <th>2013년도 이전</th>\n",
       "      <th>2014년</th>\n",
       "      <th>2015년</th>\n",
       "      <th>2016년</th>\n",
       "    </tr>\n",
       "  </thead>\n",
       "  <tbody>\n",
       "    <tr>\n",
       "      <th>0</th>\n",
       "      <td>강남구</td>\n",
       "      <td>3238</td>\n",
       "      <td>1292</td>\n",
       "      <td>430</td>\n",
       "      <td>584</td>\n",
       "      <td>932</td>\n",
       "    </tr>\n",
       "    <tr>\n",
       "      <th>1</th>\n",
       "      <td>강동구</td>\n",
       "      <td>1010</td>\n",
       "      <td>379</td>\n",
       "      <td>99</td>\n",
       "      <td>155</td>\n",
       "      <td>377</td>\n",
       "    </tr>\n",
       "    <tr>\n",
       "      <th>2</th>\n",
       "      <td>강북구</td>\n",
       "      <td>831</td>\n",
       "      <td>369</td>\n",
       "      <td>120</td>\n",
       "      <td>138</td>\n",
       "      <td>204</td>\n",
       "    </tr>\n",
       "    <tr>\n",
       "      <th>3</th>\n",
       "      <td>강서구</td>\n",
       "      <td>911</td>\n",
       "      <td>388</td>\n",
       "      <td>258</td>\n",
       "      <td>184</td>\n",
       "      <td>81</td>\n",
       "    </tr>\n",
       "    <tr>\n",
       "      <th>4</th>\n",
       "      <td>관악구</td>\n",
       "      <td>2109</td>\n",
       "      <td>846</td>\n",
       "      <td>260</td>\n",
       "      <td>390</td>\n",
       "      <td>613</td>\n",
       "    </tr>\n",
       "  </tbody>\n",
       "</table>\n",
       "</div>"
      ],
      "text/plain": [
       "    구별    소계  2013년도 이전  2014년  2015년  2016년\n",
       "0  강남구  3238       1292    430    584    932\n",
       "1  강동구  1010        379     99    155    377\n",
       "2  강북구   831        369    120    138    204\n",
       "3  강서구   911        388    258    184     81\n",
       "4  관악구  2109        846    260    390    613"
      ]
     },
     "execution_count": 264,
     "metadata": {},
     "output_type": "execute_result"
    }
   ],
   "source": [
    "CCTV_Seoul.head()"
   ]
  },
  {
   "cell_type": "code",
   "execution_count": 265,
   "id": "416f97bf",
   "metadata": {},
   "outputs": [
    {
     "data": {
      "text/html": [
       "<div>\n",
       "<style scoped>\n",
       "    .dataframe tbody tr th:only-of-type {\n",
       "        vertical-align: middle;\n",
       "    }\n",
       "\n",
       "    .dataframe tbody tr th {\n",
       "        vertical-align: top;\n",
       "    }\n",
       "\n",
       "    .dataframe thead th {\n",
       "        text-align: right;\n",
       "    }\n",
       "</style>\n",
       "<table border=\"1\" class=\"dataframe\">\n",
       "  <thead>\n",
       "    <tr style=\"text-align: right;\">\n",
       "      <th></th>\n",
       "      <th>구별</th>\n",
       "      <th>소계</th>\n",
       "      <th>2013년도 이전</th>\n",
       "      <th>2014년</th>\n",
       "      <th>2015년</th>\n",
       "      <th>2016년</th>\n",
       "    </tr>\n",
       "  </thead>\n",
       "  <tbody>\n",
       "    <tr>\n",
       "      <th>20</th>\n",
       "      <td>용산구</td>\n",
       "      <td>2096</td>\n",
       "      <td>1368</td>\n",
       "      <td>218</td>\n",
       "      <td>112</td>\n",
       "      <td>398</td>\n",
       "    </tr>\n",
       "    <tr>\n",
       "      <th>21</th>\n",
       "      <td>은평구</td>\n",
       "      <td>2108</td>\n",
       "      <td>1138</td>\n",
       "      <td>224</td>\n",
       "      <td>278</td>\n",
       "      <td>468</td>\n",
       "    </tr>\n",
       "    <tr>\n",
       "      <th>22</th>\n",
       "      <td>종로구</td>\n",
       "      <td>1619</td>\n",
       "      <td>464</td>\n",
       "      <td>314</td>\n",
       "      <td>211</td>\n",
       "      <td>630</td>\n",
       "    </tr>\n",
       "    <tr>\n",
       "      <th>23</th>\n",
       "      <td>중구</td>\n",
       "      <td>1023</td>\n",
       "      <td>413</td>\n",
       "      <td>190</td>\n",
       "      <td>72</td>\n",
       "      <td>348</td>\n",
       "    </tr>\n",
       "    <tr>\n",
       "      <th>24</th>\n",
       "      <td>중랑구</td>\n",
       "      <td>916</td>\n",
       "      <td>509</td>\n",
       "      <td>121</td>\n",
       "      <td>177</td>\n",
       "      <td>109</td>\n",
       "    </tr>\n",
       "  </tbody>\n",
       "</table>\n",
       "</div>"
      ],
      "text/plain": [
       "     구별    소계  2013년도 이전  2014년  2015년  2016년\n",
       "20  용산구  2096       1368    218    112    398\n",
       "21  은평구  2108       1138    224    278    468\n",
       "22  종로구  1619        464    314    211    630\n",
       "23   중구  1023        413    190     72    348\n",
       "24  중랑구   916        509    121    177    109"
      ]
     },
     "execution_count": 265,
     "metadata": {},
     "output_type": "execute_result"
    }
   ],
   "source": [
    "CCTV_Seoul.tail()"
   ]
  },
  {
   "cell_type": "code",
   "execution_count": 266,
   "id": "f1ff5224",
   "metadata": {},
   "outputs": [
    {
     "data": {
      "text/html": [
       "<div>\n",
       "<style scoped>\n",
       "    .dataframe tbody tr th:only-of-type {\n",
       "        vertical-align: middle;\n",
       "    }\n",
       "\n",
       "    .dataframe tbody tr th {\n",
       "        vertical-align: top;\n",
       "    }\n",
       "\n",
       "    .dataframe thead th {\n",
       "        text-align: right;\n",
       "    }\n",
       "</style>\n",
       "<table border=\"1\" class=\"dataframe\">\n",
       "  <thead>\n",
       "    <tr style=\"text-align: right;\">\n",
       "      <th></th>\n",
       "      <th>구별</th>\n",
       "      <th>소계</th>\n",
       "      <th>2013년도 이전</th>\n",
       "      <th>2014년</th>\n",
       "      <th>2015년</th>\n",
       "      <th>2016년</th>\n",
       "    </tr>\n",
       "  </thead>\n",
       "  <tbody>\n",
       "    <tr>\n",
       "      <th>9</th>\n",
       "      <td>도봉구</td>\n",
       "      <td>825</td>\n",
       "      <td>238</td>\n",
       "      <td>159</td>\n",
       "      <td>42</td>\n",
       "      <td>386</td>\n",
       "    </tr>\n",
       "    <tr>\n",
       "      <th>2</th>\n",
       "      <td>강북구</td>\n",
       "      <td>831</td>\n",
       "      <td>369</td>\n",
       "      <td>120</td>\n",
       "      <td>138</td>\n",
       "      <td>204</td>\n",
       "    </tr>\n",
       "    <tr>\n",
       "      <th>5</th>\n",
       "      <td>광진구</td>\n",
       "      <td>878</td>\n",
       "      <td>573</td>\n",
       "      <td>78</td>\n",
       "      <td>53</td>\n",
       "      <td>174</td>\n",
       "    </tr>\n",
       "    <tr>\n",
       "      <th>3</th>\n",
       "      <td>강서구</td>\n",
       "      <td>911</td>\n",
       "      <td>388</td>\n",
       "      <td>258</td>\n",
       "      <td>184</td>\n",
       "      <td>81</td>\n",
       "    </tr>\n",
       "    <tr>\n",
       "      <th>24</th>\n",
       "      <td>중랑구</td>\n",
       "      <td>916</td>\n",
       "      <td>509</td>\n",
       "      <td>121</td>\n",
       "      <td>177</td>\n",
       "      <td>109</td>\n",
       "    </tr>\n",
       "  </tbody>\n",
       "</table>\n",
       "</div>"
      ],
      "text/plain": [
       "     구별   소계  2013년도 이전  2014년  2015년  2016년\n",
       "9   도봉구  825        238    159     42    386\n",
       "2   강북구  831        369    120    138    204\n",
       "5   광진구  878        573     78     53    174\n",
       "3   강서구  911        388    258    184     81\n",
       "24  중랑구  916        509    121    177    109"
      ]
     },
     "execution_count": 266,
     "metadata": {},
     "output_type": "execute_result"
    }
   ],
   "source": [
    "CCTV_Seoul.sort_values(by=\"소계\", ascending=True).head(5) # 소계 오름차순 정렬"
   ]
  },
  {
   "cell_type": "code",
   "execution_count": 267,
   "id": "da210f75",
   "metadata": {},
   "outputs": [
    {
     "data": {
      "text/html": [
       "<div>\n",
       "<style scoped>\n",
       "    .dataframe tbody tr th:only-of-type {\n",
       "        vertical-align: middle;\n",
       "    }\n",
       "\n",
       "    .dataframe tbody tr th {\n",
       "        vertical-align: top;\n",
       "    }\n",
       "\n",
       "    .dataframe thead th {\n",
       "        text-align: right;\n",
       "    }\n",
       "</style>\n",
       "<table border=\"1\" class=\"dataframe\">\n",
       "  <thead>\n",
       "    <tr style=\"text-align: right;\">\n",
       "      <th></th>\n",
       "      <th>구별</th>\n",
       "      <th>소계</th>\n",
       "      <th>2013년도 이전</th>\n",
       "      <th>2014년</th>\n",
       "      <th>2015년</th>\n",
       "      <th>2016년</th>\n",
       "    </tr>\n",
       "  </thead>\n",
       "  <tbody>\n",
       "    <tr>\n",
       "      <th>0</th>\n",
       "      <td>강남구</td>\n",
       "      <td>3238</td>\n",
       "      <td>1292</td>\n",
       "      <td>430</td>\n",
       "      <td>584</td>\n",
       "      <td>932</td>\n",
       "    </tr>\n",
       "    <tr>\n",
       "      <th>18</th>\n",
       "      <td>양천구</td>\n",
       "      <td>2482</td>\n",
       "      <td>1843</td>\n",
       "      <td>142</td>\n",
       "      <td>30</td>\n",
       "      <td>467</td>\n",
       "    </tr>\n",
       "    <tr>\n",
       "      <th>14</th>\n",
       "      <td>서초구</td>\n",
       "      <td>2297</td>\n",
       "      <td>1406</td>\n",
       "      <td>157</td>\n",
       "      <td>336</td>\n",
       "      <td>398</td>\n",
       "    </tr>\n",
       "    <tr>\n",
       "      <th>4</th>\n",
       "      <td>관악구</td>\n",
       "      <td>2109</td>\n",
       "      <td>846</td>\n",
       "      <td>260</td>\n",
       "      <td>390</td>\n",
       "      <td>613</td>\n",
       "    </tr>\n",
       "    <tr>\n",
       "      <th>21</th>\n",
       "      <td>은평구</td>\n",
       "      <td>2108</td>\n",
       "      <td>1138</td>\n",
       "      <td>224</td>\n",
       "      <td>278</td>\n",
       "      <td>468</td>\n",
       "    </tr>\n",
       "  </tbody>\n",
       "</table>\n",
       "</div>"
      ],
      "text/plain": [
       "     구별    소계  2013년도 이전  2014년  2015년  2016년\n",
       "0   강남구  3238       1292    430    584    932\n",
       "18  양천구  2482       1843    142     30    467\n",
       "14  서초구  2297       1406    157    336    398\n",
       "4   관악구  2109        846    260    390    613\n",
       "21  은평구  2108       1138    224    278    468"
      ]
     },
     "execution_count": 267,
     "metadata": {},
     "output_type": "execute_result"
    }
   ],
   "source": [
    "CCTV_Seoul.sort_values(by=\"소계\", ascending=False).head(5) # 소계 내림차순 정렬"
   ]
  },
  {
   "cell_type": "code",
   "execution_count": 268,
   "id": "fe741e76",
   "metadata": {},
   "outputs": [
    {
     "data": {
      "text/html": [
       "<div>\n",
       "<style scoped>\n",
       "    .dataframe tbody tr th:only-of-type {\n",
       "        vertical-align: middle;\n",
       "    }\n",
       "\n",
       "    .dataframe tbody tr th {\n",
       "        vertical-align: top;\n",
       "    }\n",
       "\n",
       "    .dataframe thead th {\n",
       "        text-align: right;\n",
       "    }\n",
       "</style>\n",
       "<table border=\"1\" class=\"dataframe\">\n",
       "  <thead>\n",
       "    <tr style=\"text-align: right;\">\n",
       "      <th></th>\n",
       "      <th>구별</th>\n",
       "      <th>소계</th>\n",
       "      <th>2013년도 이전</th>\n",
       "      <th>2014년</th>\n",
       "      <th>2015년</th>\n",
       "      <th>2016년</th>\n",
       "      <th>최근증가율</th>\n",
       "    </tr>\n",
       "  </thead>\n",
       "  <tbody>\n",
       "    <tr>\n",
       "      <th>22</th>\n",
       "      <td>종로구</td>\n",
       "      <td>1619</td>\n",
       "      <td>464</td>\n",
       "      <td>314</td>\n",
       "      <td>211</td>\n",
       "      <td>630</td>\n",
       "      <td>248.922414</td>\n",
       "    </tr>\n",
       "    <tr>\n",
       "      <th>9</th>\n",
       "      <td>도봉구</td>\n",
       "      <td>825</td>\n",
       "      <td>238</td>\n",
       "      <td>159</td>\n",
       "      <td>42</td>\n",
       "      <td>386</td>\n",
       "      <td>246.638655</td>\n",
       "    </tr>\n",
       "    <tr>\n",
       "      <th>12</th>\n",
       "      <td>마포구</td>\n",
       "      <td>980</td>\n",
       "      <td>314</td>\n",
       "      <td>118</td>\n",
       "      <td>169</td>\n",
       "      <td>379</td>\n",
       "      <td>212.101911</td>\n",
       "    </tr>\n",
       "    <tr>\n",
       "      <th>8</th>\n",
       "      <td>노원구</td>\n",
       "      <td>1566</td>\n",
       "      <td>542</td>\n",
       "      <td>57</td>\n",
       "      <td>451</td>\n",
       "      <td>516</td>\n",
       "      <td>188.929889</td>\n",
       "    </tr>\n",
       "    <tr>\n",
       "      <th>1</th>\n",
       "      <td>강동구</td>\n",
       "      <td>1010</td>\n",
       "      <td>379</td>\n",
       "      <td>99</td>\n",
       "      <td>155</td>\n",
       "      <td>377</td>\n",
       "      <td>166.490765</td>\n",
       "    </tr>\n",
       "  </tbody>\n",
       "</table>\n",
       "</div>"
      ],
      "text/plain": [
       "     구별    소계  2013년도 이전  2014년  2015년  2016년       최근증가율\n",
       "22  종로구  1619        464    314    211    630  248.922414\n",
       "9   도봉구   825        238    159     42    386  246.638655\n",
       "12  마포구   980        314    118    169    379  212.101911\n",
       "8   노원구  1566        542     57    451    516  188.929889\n",
       "1   강동구  1010        379     99    155    377  166.490765"
      ]
     },
     "execution_count": 268,
     "metadata": {},
     "output_type": "execute_result"
    }
   ],
   "source": [
    "# 기존 컬럼이 없으면 추가, 있으면 수정\n",
    "CCTV_Seoul[\"최근증가율\"] = (\n",
    "    (CCTV_Seoul[\"2016년\"] + CCTV_Seoul[\"2015년\"] + CCTV_Seoul[\"2014년\"]) / CCTV_Seoul[\"2013년도 이전\"] * 100\n",
    ")\n",
    "\n",
    "CCTV_Seoul.sort_values(by=\"최근증가율\", ascending=False).head(5)"
   ]
  },
  {
   "cell_type": "markdown",
   "id": "60e2c87d",
   "metadata": {},
   "source": [
    "---"
   ]
  },
  {
   "cell_type": "markdown",
   "id": "3d0867d8",
   "metadata": {},
   "source": [
    "## 인구현황 데이터 훑어보기"
   ]
  },
  {
   "cell_type": "code",
   "execution_count": 269,
   "id": "41c7de8b",
   "metadata": {},
   "outputs": [
    {
     "data": {
      "text/html": [
       "<div>\n",
       "<style scoped>\n",
       "    .dataframe tbody tr th:only-of-type {\n",
       "        vertical-align: middle;\n",
       "    }\n",
       "\n",
       "    .dataframe tbody tr th {\n",
       "        vertical-align: top;\n",
       "    }\n",
       "\n",
       "    .dataframe thead th {\n",
       "        text-align: right;\n",
       "    }\n",
       "</style>\n",
       "<table border=\"1\" class=\"dataframe\">\n",
       "  <thead>\n",
       "    <tr style=\"text-align: right;\">\n",
       "      <th></th>\n",
       "      <th>구별</th>\n",
       "      <th>인구수</th>\n",
       "      <th>한국인</th>\n",
       "      <th>외국인</th>\n",
       "      <th>고령자</th>\n",
       "    </tr>\n",
       "  </thead>\n",
       "  <tbody>\n",
       "    <tr>\n",
       "      <th>0</th>\n",
       "      <td>합계</td>\n",
       "      <td>10124579</td>\n",
       "      <td>9857426</td>\n",
       "      <td>267153</td>\n",
       "      <td>1365126</td>\n",
       "    </tr>\n",
       "    <tr>\n",
       "      <th>1</th>\n",
       "      <td>종로구</td>\n",
       "      <td>164257</td>\n",
       "      <td>154770</td>\n",
       "      <td>9487</td>\n",
       "      <td>26182</td>\n",
       "    </tr>\n",
       "    <tr>\n",
       "      <th>2</th>\n",
       "      <td>중구</td>\n",
       "      <td>134593</td>\n",
       "      <td>125709</td>\n",
       "      <td>8884</td>\n",
       "      <td>21384</td>\n",
       "    </tr>\n",
       "    <tr>\n",
       "      <th>3</th>\n",
       "      <td>용산구</td>\n",
       "      <td>244444</td>\n",
       "      <td>229161</td>\n",
       "      <td>15283</td>\n",
       "      <td>36882</td>\n",
       "    </tr>\n",
       "    <tr>\n",
       "      <th>4</th>\n",
       "      <td>성동구</td>\n",
       "      <td>312711</td>\n",
       "      <td>304808</td>\n",
       "      <td>7903</td>\n",
       "      <td>41273</td>\n",
       "    </tr>\n",
       "  </tbody>\n",
       "</table>\n",
       "</div>"
      ],
      "text/plain": [
       "    구별       인구수      한국인     외국인      고령자\n",
       "0   합계  10124579  9857426  267153  1365126\n",
       "1  종로구    164257   154770    9487    26182\n",
       "2   중구    134593   125709    8884    21384\n",
       "3  용산구    244444   229161   15283    36882\n",
       "4  성동구    312711   304808    7903    41273"
      ]
     },
     "execution_count": 269,
     "metadata": {},
     "output_type": "execute_result"
    }
   ],
   "source": [
    "pop_Seoul.head()"
   ]
  },
  {
   "cell_type": "code",
   "execution_count": 270,
   "id": "bce6a292",
   "metadata": {},
   "outputs": [
    {
     "data": {
      "text/html": [
       "<div>\n",
       "<style scoped>\n",
       "    .dataframe tbody tr th:only-of-type {\n",
       "        vertical-align: middle;\n",
       "    }\n",
       "\n",
       "    .dataframe tbody tr th {\n",
       "        vertical-align: top;\n",
       "    }\n",
       "\n",
       "    .dataframe thead th {\n",
       "        text-align: right;\n",
       "    }\n",
       "</style>\n",
       "<table border=\"1\" class=\"dataframe\">\n",
       "  <thead>\n",
       "    <tr style=\"text-align: right;\">\n",
       "      <th></th>\n",
       "      <th>구별</th>\n",
       "      <th>인구수</th>\n",
       "      <th>한국인</th>\n",
       "      <th>외국인</th>\n",
       "      <th>고령자</th>\n",
       "    </tr>\n",
       "  </thead>\n",
       "  <tbody>\n",
       "    <tr>\n",
       "      <th>21</th>\n",
       "      <td>관악구</td>\n",
       "      <td>520929</td>\n",
       "      <td>503297</td>\n",
       "      <td>17632</td>\n",
       "      <td>70046</td>\n",
       "    </tr>\n",
       "    <tr>\n",
       "      <th>22</th>\n",
       "      <td>서초구</td>\n",
       "      <td>445401</td>\n",
       "      <td>441102</td>\n",
       "      <td>4299</td>\n",
       "      <td>53205</td>\n",
       "    </tr>\n",
       "    <tr>\n",
       "      <th>23</th>\n",
       "      <td>강남구</td>\n",
       "      <td>561052</td>\n",
       "      <td>556164</td>\n",
       "      <td>4888</td>\n",
       "      <td>65060</td>\n",
       "    </tr>\n",
       "    <tr>\n",
       "      <th>24</th>\n",
       "      <td>송파구</td>\n",
       "      <td>671173</td>\n",
       "      <td>664496</td>\n",
       "      <td>6677</td>\n",
       "      <td>76582</td>\n",
       "    </tr>\n",
       "    <tr>\n",
       "      <th>25</th>\n",
       "      <td>강동구</td>\n",
       "      <td>440359</td>\n",
       "      <td>436223</td>\n",
       "      <td>4136</td>\n",
       "      <td>56161</td>\n",
       "    </tr>\n",
       "  </tbody>\n",
       "</table>\n",
       "</div>"
      ],
      "text/plain": [
       "     구별     인구수     한국인    외국인    고령자\n",
       "21  관악구  520929  503297  17632  70046\n",
       "22  서초구  445401  441102   4299  53205\n",
       "23  강남구  561052  556164   4888  65060\n",
       "24  송파구  671173  664496   6677  76582\n",
       "25  강동구  440359  436223   4136  56161"
      ]
     },
     "execution_count": 270,
     "metadata": {},
     "output_type": "execute_result"
    }
   ],
   "source": [
    "pop_Seoul.tail()"
   ]
  },
  {
   "cell_type": "code",
   "execution_count": 271,
   "id": "51672a46",
   "metadata": {},
   "outputs": [
    {
     "data": {
      "text/html": [
       "<div>\n",
       "<style scoped>\n",
       "    .dataframe tbody tr th:only-of-type {\n",
       "        vertical-align: middle;\n",
       "    }\n",
       "\n",
       "    .dataframe tbody tr th {\n",
       "        vertical-align: top;\n",
       "    }\n",
       "\n",
       "    .dataframe thead th {\n",
       "        text-align: right;\n",
       "    }\n",
       "</style>\n",
       "<table border=\"1\" class=\"dataframe\">\n",
       "  <thead>\n",
       "    <tr style=\"text-align: right;\">\n",
       "      <th></th>\n",
       "      <th>구별</th>\n",
       "      <th>인구수</th>\n",
       "      <th>한국인</th>\n",
       "      <th>외국인</th>\n",
       "      <th>고령자</th>\n",
       "    </tr>\n",
       "  </thead>\n",
       "  <tbody>\n",
       "    <tr>\n",
       "      <th>1</th>\n",
       "      <td>종로구</td>\n",
       "      <td>164257</td>\n",
       "      <td>154770</td>\n",
       "      <td>9487</td>\n",
       "      <td>26182</td>\n",
       "    </tr>\n",
       "    <tr>\n",
       "      <th>2</th>\n",
       "      <td>중구</td>\n",
       "      <td>134593</td>\n",
       "      <td>125709</td>\n",
       "      <td>8884</td>\n",
       "      <td>21384</td>\n",
       "    </tr>\n",
       "    <tr>\n",
       "      <th>3</th>\n",
       "      <td>용산구</td>\n",
       "      <td>244444</td>\n",
       "      <td>229161</td>\n",
       "      <td>15283</td>\n",
       "      <td>36882</td>\n",
       "    </tr>\n",
       "    <tr>\n",
       "      <th>4</th>\n",
       "      <td>성동구</td>\n",
       "      <td>312711</td>\n",
       "      <td>304808</td>\n",
       "      <td>7903</td>\n",
       "      <td>41273</td>\n",
       "    </tr>\n",
       "    <tr>\n",
       "      <th>5</th>\n",
       "      <td>광진구</td>\n",
       "      <td>372298</td>\n",
       "      <td>357703</td>\n",
       "      <td>14595</td>\n",
       "      <td>43953</td>\n",
       "    </tr>\n",
       "  </tbody>\n",
       "</table>\n",
       "</div>"
      ],
      "text/plain": [
       "    구별     인구수     한국인    외국인    고령자\n",
       "1  종로구  164257  154770   9487  26182\n",
       "2   중구  134593  125709   8884  21384\n",
       "3  용산구  244444  229161  15283  36882\n",
       "4  성동구  312711  304808   7903  41273\n",
       "5  광진구  372298  357703  14595  43953"
      ]
     },
     "execution_count": 271,
     "metadata": {},
     "output_type": "execute_result"
    }
   ],
   "source": [
    "pop_Seoul.drop([0], axis=0, inplace=True)\n",
    "pop_Seoul.head()"
   ]
  },
  {
   "cell_type": "markdown",
   "id": "96bf81d0",
   "metadata": {},
   "source": [
    "### unique() 조사 : 행 이름, 행 개수 조사\n",
    "- 데이터가 많을 때, unique 조사를 통해 데이터를 초반 검증(눈으로) 한다."
   ]
  },
  {
   "cell_type": "code",
   "execution_count": 272,
   "id": "8a24b095",
   "metadata": {},
   "outputs": [
    {
     "data": {
      "text/plain": [
       "array(['종로구', '중구', '용산구', '성동구', '광진구', '동대문구', '중랑구', '성북구', '강북구',\n",
       "       '도봉구', '노원구', '은평구', '서대문구', '마포구', '양천구', '강서구', '구로구', '금천구',\n",
       "       '영등포구', '동작구', '관악구', '서초구', '강남구', '송파구', '강동구'], dtype=object)"
      ]
     },
     "execution_count": 272,
     "metadata": {},
     "output_type": "execute_result"
    }
   ],
   "source": [
    "pop_Seoul[\"구별\"].unique() "
   ]
  },
  {
   "cell_type": "code",
   "execution_count": 273,
   "id": "e31aab54",
   "metadata": {},
   "outputs": [
    {
     "data": {
      "text/plain": [
       "25"
      ]
     },
     "execution_count": 273,
     "metadata": {},
     "output_type": "execute_result"
    }
   ],
   "source": [
    "len(pop_Seoul[\"구별\"].unique())"
   ]
  },
  {
   "cell_type": "code",
   "execution_count": 274,
   "id": "6aa6f1e5",
   "metadata": {},
   "outputs": [
    {
     "data": {
      "text/html": [
       "<div>\n",
       "<style scoped>\n",
       "    .dataframe tbody tr th:only-of-type {\n",
       "        vertical-align: middle;\n",
       "    }\n",
       "\n",
       "    .dataframe tbody tr th {\n",
       "        vertical-align: top;\n",
       "    }\n",
       "\n",
       "    .dataframe thead th {\n",
       "        text-align: right;\n",
       "    }\n",
       "</style>\n",
       "<table border=\"1\" class=\"dataframe\">\n",
       "  <thead>\n",
       "    <tr style=\"text-align: right;\">\n",
       "      <th></th>\n",
       "      <th>구별</th>\n",
       "      <th>인구수</th>\n",
       "      <th>한국인</th>\n",
       "      <th>외국인</th>\n",
       "      <th>고령자</th>\n",
       "      <th>외국인비율</th>\n",
       "      <th>고령자비율</th>\n",
       "    </tr>\n",
       "  </thead>\n",
       "  <tbody>\n",
       "    <tr>\n",
       "      <th>1</th>\n",
       "      <td>종로구</td>\n",
       "      <td>164257</td>\n",
       "      <td>154770</td>\n",
       "      <td>9487</td>\n",
       "      <td>26182</td>\n",
       "      <td>5.775705</td>\n",
       "      <td>15.939656</td>\n",
       "    </tr>\n",
       "    <tr>\n",
       "      <th>2</th>\n",
       "      <td>중구</td>\n",
       "      <td>134593</td>\n",
       "      <td>125709</td>\n",
       "      <td>8884</td>\n",
       "      <td>21384</td>\n",
       "      <td>6.600640</td>\n",
       "      <td>15.887899</td>\n",
       "    </tr>\n",
       "    <tr>\n",
       "      <th>3</th>\n",
       "      <td>용산구</td>\n",
       "      <td>244444</td>\n",
       "      <td>229161</td>\n",
       "      <td>15283</td>\n",
       "      <td>36882</td>\n",
       "      <td>6.252148</td>\n",
       "      <td>15.088118</td>\n",
       "    </tr>\n",
       "    <tr>\n",
       "      <th>4</th>\n",
       "      <td>성동구</td>\n",
       "      <td>312711</td>\n",
       "      <td>304808</td>\n",
       "      <td>7903</td>\n",
       "      <td>41273</td>\n",
       "      <td>2.527254</td>\n",
       "      <td>13.198448</td>\n",
       "    </tr>\n",
       "    <tr>\n",
       "      <th>5</th>\n",
       "      <td>광진구</td>\n",
       "      <td>372298</td>\n",
       "      <td>357703</td>\n",
       "      <td>14595</td>\n",
       "      <td>43953</td>\n",
       "      <td>3.920247</td>\n",
       "      <td>11.805865</td>\n",
       "    </tr>\n",
       "  </tbody>\n",
       "</table>\n",
       "</div>"
      ],
      "text/plain": [
       "    구별     인구수     한국인    외국인    고령자     외국인비율      고령자비율\n",
       "1  종로구  164257  154770   9487  26182  5.775705  15.939656\n",
       "2   중구  134593  125709   8884  21384  6.600640  15.887899\n",
       "3  용산구  244444  229161  15283  36882  6.252148  15.088118\n",
       "4  성동구  312711  304808   7903  41273  2.527254  13.198448\n",
       "5  광진구  372298  357703  14595  43953  3.920247  11.805865"
      ]
     },
     "execution_count": 274,
     "metadata": {},
     "output_type": "execute_result"
    }
   ],
   "source": [
    "# 외국인 비율, 고령자 비율\n",
    "pop_Seoul[\"외국인비율\"] = pop_Seoul[\"외국인\"] / pop_Seoul[\"인구수\"] * 100\n",
    "pop_Seoul[\"고령자비율\"] = pop_Seoul[\"고령자\"] / pop_Seoul[\"인구수\"] * 100\n",
    "pop_Seoul.head()"
   ]
  },
  {
   "cell_type": "code",
   "execution_count": 275,
   "id": "c356a606",
   "metadata": {},
   "outputs": [
    {
     "data": {
      "text/html": [
       "<div>\n",
       "<style scoped>\n",
       "    .dataframe tbody tr th:only-of-type {\n",
       "        vertical-align: middle;\n",
       "    }\n",
       "\n",
       "    .dataframe tbody tr th {\n",
       "        vertical-align: top;\n",
       "    }\n",
       "\n",
       "    .dataframe thead th {\n",
       "        text-align: right;\n",
       "    }\n",
       "</style>\n",
       "<table border=\"1\" class=\"dataframe\">\n",
       "  <thead>\n",
       "    <tr style=\"text-align: right;\">\n",
       "      <th></th>\n",
       "      <th>구별</th>\n",
       "      <th>인구수</th>\n",
       "      <th>한국인</th>\n",
       "      <th>외국인</th>\n",
       "      <th>고령자</th>\n",
       "      <th>외국인비율</th>\n",
       "      <th>고령자비율</th>\n",
       "    </tr>\n",
       "  </thead>\n",
       "  <tbody>\n",
       "    <tr>\n",
       "      <th>24</th>\n",
       "      <td>송파구</td>\n",
       "      <td>671173</td>\n",
       "      <td>664496</td>\n",
       "      <td>6677</td>\n",
       "      <td>76582</td>\n",
       "      <td>0.994825</td>\n",
       "      <td>11.410173</td>\n",
       "    </tr>\n",
       "    <tr>\n",
       "      <th>16</th>\n",
       "      <td>강서구</td>\n",
       "      <td>608255</td>\n",
       "      <td>601691</td>\n",
       "      <td>6564</td>\n",
       "      <td>76032</td>\n",
       "      <td>1.079153</td>\n",
       "      <td>12.500021</td>\n",
       "    </tr>\n",
       "    <tr>\n",
       "      <th>23</th>\n",
       "      <td>강남구</td>\n",
       "      <td>561052</td>\n",
       "      <td>556164</td>\n",
       "      <td>4888</td>\n",
       "      <td>65060</td>\n",
       "      <td>0.871220</td>\n",
       "      <td>11.596073</td>\n",
       "    </tr>\n",
       "    <tr>\n",
       "      <th>11</th>\n",
       "      <td>노원구</td>\n",
       "      <td>558075</td>\n",
       "      <td>554403</td>\n",
       "      <td>3672</td>\n",
       "      <td>74243</td>\n",
       "      <td>0.657976</td>\n",
       "      <td>13.303409</td>\n",
       "    </tr>\n",
       "    <tr>\n",
       "      <th>21</th>\n",
       "      <td>관악구</td>\n",
       "      <td>520929</td>\n",
       "      <td>503297</td>\n",
       "      <td>17632</td>\n",
       "      <td>70046</td>\n",
       "      <td>3.384722</td>\n",
       "      <td>13.446362</td>\n",
       "    </tr>\n",
       "  </tbody>\n",
       "</table>\n",
       "</div>"
      ],
      "text/plain": [
       "     구별     인구수     한국인    외국인    고령자     외국인비율      고령자비율\n",
       "24  송파구  671173  664496   6677  76582  0.994825  11.410173\n",
       "16  강서구  608255  601691   6564  76032  1.079153  12.500021\n",
       "23  강남구  561052  556164   4888  65060  0.871220  11.596073\n",
       "11  노원구  558075  554403   3672  74243  0.657976  13.303409\n",
       "21  관악구  520929  503297  17632  70046  3.384722  13.446362"
      ]
     },
     "execution_count": 275,
     "metadata": {},
     "output_type": "execute_result"
    }
   ],
   "source": [
    "pop_Seoul.sort_values([\"인구수\"], ascending=False).head(5)"
   ]
  },
  {
   "cell_type": "code",
   "execution_count": 276,
   "id": "f63071b5",
   "metadata": {},
   "outputs": [
    {
     "data": {
      "text/html": [
       "<div>\n",
       "<style scoped>\n",
       "    .dataframe tbody tr th:only-of-type {\n",
       "        vertical-align: middle;\n",
       "    }\n",
       "\n",
       "    .dataframe tbody tr th {\n",
       "        vertical-align: top;\n",
       "    }\n",
       "\n",
       "    .dataframe thead th {\n",
       "        text-align: right;\n",
       "    }\n",
       "</style>\n",
       "<table border=\"1\" class=\"dataframe\">\n",
       "  <thead>\n",
       "    <tr style=\"text-align: right;\">\n",
       "      <th></th>\n",
       "      <th>구별</th>\n",
       "      <th>인구수</th>\n",
       "      <th>한국인</th>\n",
       "      <th>외국인</th>\n",
       "      <th>고령자</th>\n",
       "      <th>외국인비율</th>\n",
       "      <th>고령자비율</th>\n",
       "    </tr>\n",
       "  </thead>\n",
       "  <tbody>\n",
       "    <tr>\n",
       "      <th>19</th>\n",
       "      <td>영등포구</td>\n",
       "      <td>402024</td>\n",
       "      <td>368550</td>\n",
       "      <td>33474</td>\n",
       "      <td>53981</td>\n",
       "      <td>8.326369</td>\n",
       "      <td>13.427308</td>\n",
       "    </tr>\n",
       "    <tr>\n",
       "      <th>17</th>\n",
       "      <td>구로구</td>\n",
       "      <td>441559</td>\n",
       "      <td>410742</td>\n",
       "      <td>30817</td>\n",
       "      <td>58794</td>\n",
       "      <td>6.979135</td>\n",
       "      <td>13.315095</td>\n",
       "    </tr>\n",
       "    <tr>\n",
       "      <th>18</th>\n",
       "      <td>금천구</td>\n",
       "      <td>253491</td>\n",
       "      <td>235154</td>\n",
       "      <td>18337</td>\n",
       "      <td>34170</td>\n",
       "      <td>7.233787</td>\n",
       "      <td>13.479769</td>\n",
       "    </tr>\n",
       "    <tr>\n",
       "      <th>21</th>\n",
       "      <td>관악구</td>\n",
       "      <td>520929</td>\n",
       "      <td>503297</td>\n",
       "      <td>17632</td>\n",
       "      <td>70046</td>\n",
       "      <td>3.384722</td>\n",
       "      <td>13.446362</td>\n",
       "    </tr>\n",
       "    <tr>\n",
       "      <th>6</th>\n",
       "      <td>동대문구</td>\n",
       "      <td>366011</td>\n",
       "      <td>350647</td>\n",
       "      <td>15364</td>\n",
       "      <td>55718</td>\n",
       "      <td>4.197688</td>\n",
       "      <td>15.223040</td>\n",
       "    </tr>\n",
       "  </tbody>\n",
       "</table>\n",
       "</div>"
      ],
      "text/plain": [
       "      구별     인구수     한국인    외국인    고령자     외국인비율      고령자비율\n",
       "19  영등포구  402024  368550  33474  53981  8.326369  13.427308\n",
       "17   구로구  441559  410742  30817  58794  6.979135  13.315095\n",
       "18   금천구  253491  235154  18337  34170  7.233787  13.479769\n",
       "21   관악구  520929  503297  17632  70046  3.384722  13.446362\n",
       "6   동대문구  366011  350647  15364  55718  4.197688  15.223040"
      ]
     },
     "execution_count": 276,
     "metadata": {},
     "output_type": "execute_result"
    }
   ],
   "source": [
    "pop_Seoul.sort_values([\"외국인\"], ascending=False).head(5)"
   ]
  },
  {
   "cell_type": "code",
   "execution_count": 277,
   "id": "999c5cbf",
   "metadata": {},
   "outputs": [
    {
     "data": {
      "text/html": [
       "<div>\n",
       "<style scoped>\n",
       "    .dataframe tbody tr th:only-of-type {\n",
       "        vertical-align: middle;\n",
       "    }\n",
       "\n",
       "    .dataframe tbody tr th {\n",
       "        vertical-align: top;\n",
       "    }\n",
       "\n",
       "    .dataframe thead th {\n",
       "        text-align: right;\n",
       "    }\n",
       "</style>\n",
       "<table border=\"1\" class=\"dataframe\">\n",
       "  <thead>\n",
       "    <tr style=\"text-align: right;\">\n",
       "      <th></th>\n",
       "      <th>구별</th>\n",
       "      <th>인구수</th>\n",
       "      <th>한국인</th>\n",
       "      <th>외국인</th>\n",
       "      <th>고령자</th>\n",
       "      <th>외국인비율</th>\n",
       "      <th>고령자비율</th>\n",
       "    </tr>\n",
       "  </thead>\n",
       "  <tbody>\n",
       "    <tr>\n",
       "      <th>19</th>\n",
       "      <td>영등포구</td>\n",
       "      <td>402024</td>\n",
       "      <td>368550</td>\n",
       "      <td>33474</td>\n",
       "      <td>53981</td>\n",
       "      <td>8.326369</td>\n",
       "      <td>13.427308</td>\n",
       "    </tr>\n",
       "    <tr>\n",
       "      <th>18</th>\n",
       "      <td>금천구</td>\n",
       "      <td>253491</td>\n",
       "      <td>235154</td>\n",
       "      <td>18337</td>\n",
       "      <td>34170</td>\n",
       "      <td>7.233787</td>\n",
       "      <td>13.479769</td>\n",
       "    </tr>\n",
       "    <tr>\n",
       "      <th>17</th>\n",
       "      <td>구로구</td>\n",
       "      <td>441559</td>\n",
       "      <td>410742</td>\n",
       "      <td>30817</td>\n",
       "      <td>58794</td>\n",
       "      <td>6.979135</td>\n",
       "      <td>13.315095</td>\n",
       "    </tr>\n",
       "    <tr>\n",
       "      <th>2</th>\n",
       "      <td>중구</td>\n",
       "      <td>134593</td>\n",
       "      <td>125709</td>\n",
       "      <td>8884</td>\n",
       "      <td>21384</td>\n",
       "      <td>6.600640</td>\n",
       "      <td>15.887899</td>\n",
       "    </tr>\n",
       "    <tr>\n",
       "      <th>3</th>\n",
       "      <td>용산구</td>\n",
       "      <td>244444</td>\n",
       "      <td>229161</td>\n",
       "      <td>15283</td>\n",
       "      <td>36882</td>\n",
       "      <td>6.252148</td>\n",
       "      <td>15.088118</td>\n",
       "    </tr>\n",
       "  </tbody>\n",
       "</table>\n",
       "</div>"
      ],
      "text/plain": [
       "      구별     인구수     한국인    외국인    고령자     외국인비율      고령자비율\n",
       "19  영등포구  402024  368550  33474  53981  8.326369  13.427308\n",
       "18   금천구  253491  235154  18337  34170  7.233787  13.479769\n",
       "17   구로구  441559  410742  30817  58794  6.979135  13.315095\n",
       "2     중구  134593  125709   8884  21384  6.600640  15.887899\n",
       "3    용산구  244444  229161  15283  36882  6.252148  15.088118"
      ]
     },
     "execution_count": 277,
     "metadata": {},
     "output_type": "execute_result"
    }
   ],
   "source": [
    "pop_Seoul.sort_values([\"외국인비율\"], ascending=False).head()"
   ]
  },
  {
   "cell_type": "code",
   "execution_count": 278,
   "id": "06ba2b74",
   "metadata": {},
   "outputs": [
    {
     "data": {
      "text/html": [
       "<div>\n",
       "<style scoped>\n",
       "    .dataframe tbody tr th:only-of-type {\n",
       "        vertical-align: middle;\n",
       "    }\n",
       "\n",
       "    .dataframe tbody tr th {\n",
       "        vertical-align: top;\n",
       "    }\n",
       "\n",
       "    .dataframe thead th {\n",
       "        text-align: right;\n",
       "    }\n",
       "</style>\n",
       "<table border=\"1\" class=\"dataframe\">\n",
       "  <thead>\n",
       "    <tr style=\"text-align: right;\">\n",
       "      <th></th>\n",
       "      <th>구별</th>\n",
       "      <th>인구수</th>\n",
       "      <th>한국인</th>\n",
       "      <th>외국인</th>\n",
       "      <th>고령자</th>\n",
       "      <th>외국인비율</th>\n",
       "      <th>고령자비율</th>\n",
       "    </tr>\n",
       "  </thead>\n",
       "  <tbody>\n",
       "    <tr>\n",
       "      <th>24</th>\n",
       "      <td>송파구</td>\n",
       "      <td>671173</td>\n",
       "      <td>664496</td>\n",
       "      <td>6677</td>\n",
       "      <td>76582</td>\n",
       "      <td>0.994825</td>\n",
       "      <td>11.410173</td>\n",
       "    </tr>\n",
       "    <tr>\n",
       "      <th>16</th>\n",
       "      <td>강서구</td>\n",
       "      <td>608255</td>\n",
       "      <td>601691</td>\n",
       "      <td>6564</td>\n",
       "      <td>76032</td>\n",
       "      <td>1.079153</td>\n",
       "      <td>12.500021</td>\n",
       "    </tr>\n",
       "    <tr>\n",
       "      <th>12</th>\n",
       "      <td>은평구</td>\n",
       "      <td>491202</td>\n",
       "      <td>486794</td>\n",
       "      <td>4408</td>\n",
       "      <td>74559</td>\n",
       "      <td>0.897390</td>\n",
       "      <td>15.178888</td>\n",
       "    </tr>\n",
       "    <tr>\n",
       "      <th>11</th>\n",
       "      <td>노원구</td>\n",
       "      <td>558075</td>\n",
       "      <td>554403</td>\n",
       "      <td>3672</td>\n",
       "      <td>74243</td>\n",
       "      <td>0.657976</td>\n",
       "      <td>13.303409</td>\n",
       "    </tr>\n",
       "    <tr>\n",
       "      <th>21</th>\n",
       "      <td>관악구</td>\n",
       "      <td>520929</td>\n",
       "      <td>503297</td>\n",
       "      <td>17632</td>\n",
       "      <td>70046</td>\n",
       "      <td>3.384722</td>\n",
       "      <td>13.446362</td>\n",
       "    </tr>\n",
       "  </tbody>\n",
       "</table>\n",
       "</div>"
      ],
      "text/plain": [
       "     구별     인구수     한국인    외국인    고령자     외국인비율      고령자비율\n",
       "24  송파구  671173  664496   6677  76582  0.994825  11.410173\n",
       "16  강서구  608255  601691   6564  76032  1.079153  12.500021\n",
       "12  은평구  491202  486794   4408  74559  0.897390  15.178888\n",
       "11  노원구  558075  554403   3672  74243  0.657976  13.303409\n",
       "21  관악구  520929  503297  17632  70046  3.384722  13.446362"
      ]
     },
     "execution_count": 278,
     "metadata": {},
     "output_type": "execute_result"
    }
   ],
   "source": [
    "pop_Seoul.sort_values(by=\"고령자\", ascending=False).head()"
   ]
  },
  {
   "cell_type": "code",
   "execution_count": 279,
   "id": "a8695b96",
   "metadata": {},
   "outputs": [
    {
     "data": {
      "text/html": [
       "<div>\n",
       "<style scoped>\n",
       "    .dataframe tbody tr th:only-of-type {\n",
       "        vertical-align: middle;\n",
       "    }\n",
       "\n",
       "    .dataframe tbody tr th {\n",
       "        vertical-align: top;\n",
       "    }\n",
       "\n",
       "    .dataframe thead th {\n",
       "        text-align: right;\n",
       "    }\n",
       "</style>\n",
       "<table border=\"1\" class=\"dataframe\">\n",
       "  <thead>\n",
       "    <tr style=\"text-align: right;\">\n",
       "      <th></th>\n",
       "      <th>구별</th>\n",
       "      <th>인구수</th>\n",
       "      <th>한국인</th>\n",
       "      <th>외국인</th>\n",
       "      <th>고령자</th>\n",
       "      <th>외국인비율</th>\n",
       "      <th>고령자비율</th>\n",
       "    </tr>\n",
       "  </thead>\n",
       "  <tbody>\n",
       "    <tr>\n",
       "      <th>9</th>\n",
       "      <td>강북구</td>\n",
       "      <td>328002</td>\n",
       "      <td>324479</td>\n",
       "      <td>3523</td>\n",
       "      <td>56530</td>\n",
       "      <td>1.074079</td>\n",
       "      <td>17.234651</td>\n",
       "    </tr>\n",
       "    <tr>\n",
       "      <th>1</th>\n",
       "      <td>종로구</td>\n",
       "      <td>164257</td>\n",
       "      <td>154770</td>\n",
       "      <td>9487</td>\n",
       "      <td>26182</td>\n",
       "      <td>5.775705</td>\n",
       "      <td>15.939656</td>\n",
       "    </tr>\n",
       "    <tr>\n",
       "      <th>2</th>\n",
       "      <td>중구</td>\n",
       "      <td>134593</td>\n",
       "      <td>125709</td>\n",
       "      <td>8884</td>\n",
       "      <td>21384</td>\n",
       "      <td>6.600640</td>\n",
       "      <td>15.887899</td>\n",
       "    </tr>\n",
       "    <tr>\n",
       "      <th>10</th>\n",
       "      <td>도봉구</td>\n",
       "      <td>346234</td>\n",
       "      <td>344166</td>\n",
       "      <td>2068</td>\n",
       "      <td>53488</td>\n",
       "      <td>0.597284</td>\n",
       "      <td>15.448512</td>\n",
       "    </tr>\n",
       "    <tr>\n",
       "      <th>6</th>\n",
       "      <td>동대문구</td>\n",
       "      <td>366011</td>\n",
       "      <td>350647</td>\n",
       "      <td>15364</td>\n",
       "      <td>55718</td>\n",
       "      <td>4.197688</td>\n",
       "      <td>15.223040</td>\n",
       "    </tr>\n",
       "  </tbody>\n",
       "</table>\n",
       "</div>"
      ],
      "text/plain": [
       "      구별     인구수     한국인    외국인    고령자     외국인비율      고령자비율\n",
       "9    강북구  328002  324479   3523  56530  1.074079  17.234651\n",
       "1    종로구  164257  154770   9487  26182  5.775705  15.939656\n",
       "2     중구  134593  125709   8884  21384  6.600640  15.887899\n",
       "10   도봉구  346234  344166   2068  53488  0.597284  15.448512\n",
       "6   동대문구  366011  350647  15364  55718  4.197688  15.223040"
      ]
     },
     "execution_count": 279,
     "metadata": {},
     "output_type": "execute_result"
    }
   ],
   "source": [
    "pop_Seoul.sort_values(by=\"고령자비율\", ascending=False).head()"
   ]
  },
  {
   "cell_type": "markdown",
   "id": "66a3658e",
   "metadata": {},
   "source": [
    "---"
   ]
  },
  {
   "cell_type": "markdown",
   "id": "fa325259",
   "metadata": {},
   "source": [
    "### Pandas에서 데이터 프레임을 병합하는 방법 \n",
    "- pd.concat() \n",
    "- pd.merge() \n",
    "- pd.join() "
   ]
  },
  {
   "cell_type": "markdown",
   "id": "1478c56d",
   "metadata": {},
   "source": [
    "pd.merge(left, right) "
   ]
  },
  {
   "cell_type": "code",
   "execution_count": 280,
   "id": "eabd6e72",
   "metadata": {},
   "outputs": [
    {
     "data": {
      "text/html": [
       "<div>\n",
       "<style scoped>\n",
       "    .dataframe tbody tr th:only-of-type {\n",
       "        vertical-align: middle;\n",
       "    }\n",
       "\n",
       "    .dataframe tbody tr th {\n",
       "        vertical-align: top;\n",
       "    }\n",
       "\n",
       "    .dataframe thead th {\n",
       "        text-align: right;\n",
       "    }\n",
       "</style>\n",
       "<table border=\"1\" class=\"dataframe\">\n",
       "  <thead>\n",
       "    <tr style=\"text-align: right;\">\n",
       "      <th></th>\n",
       "      <th>key</th>\n",
       "      <th>A</th>\n",
       "      <th>B</th>\n",
       "    </tr>\n",
       "  </thead>\n",
       "  <tbody>\n",
       "    <tr>\n",
       "      <th>0</th>\n",
       "      <td>K0</td>\n",
       "      <td>A0</td>\n",
       "      <td>B0</td>\n",
       "    </tr>\n",
       "    <tr>\n",
       "      <th>1</th>\n",
       "      <td>K4</td>\n",
       "      <td>A1</td>\n",
       "      <td>B1</td>\n",
       "    </tr>\n",
       "    <tr>\n",
       "      <th>2</th>\n",
       "      <td>K2</td>\n",
       "      <td>A2</td>\n",
       "      <td>B2</td>\n",
       "    </tr>\n",
       "    <tr>\n",
       "      <th>3</th>\n",
       "      <td>K3</td>\n",
       "      <td>A3</td>\n",
       "      <td>B3</td>\n",
       "    </tr>\n",
       "  </tbody>\n",
       "</table>\n",
       "</div>"
      ],
      "text/plain": [
       "  key   A   B\n",
       "0  K0  A0  B0\n",
       "1  K4  A1  B1\n",
       "2  K2  A2  B2\n",
       "3  K3  A3  B3"
      ]
     },
     "execution_count": 280,
     "metadata": {},
     "output_type": "execute_result"
    }
   ],
   "source": [
    "# 딕셔너리 안의 리스트 형태 \n",
    "\n",
    "left = pd.DataFrame({\n",
    "    \"key\": [\"K0\", \"K4\", \"K2\", \"K3\"],\n",
    "    \"A\": [\"A0\", \"A1\", \"A2\", \"A3\"],\n",
    "    \"B\": [\"B0\", \"B1\",\"B2\", \"B3\"]\n",
    "})\n",
    "left "
   ]
  },
  {
   "cell_type": "code",
   "execution_count": 281,
   "id": "d77b3433",
   "metadata": {},
   "outputs": [
    {
     "data": {
      "text/html": [
       "<div>\n",
       "<style scoped>\n",
       "    .dataframe tbody tr th:only-of-type {\n",
       "        vertical-align: middle;\n",
       "    }\n",
       "\n",
       "    .dataframe tbody tr th {\n",
       "        vertical-align: top;\n",
       "    }\n",
       "\n",
       "    .dataframe thead th {\n",
       "        text-align: right;\n",
       "    }\n",
       "</style>\n",
       "<table border=\"1\" class=\"dataframe\">\n",
       "  <thead>\n",
       "    <tr style=\"text-align: right;\">\n",
       "      <th></th>\n",
       "      <th>key</th>\n",
       "      <th>C</th>\n",
       "      <th>D</th>\n",
       "    </tr>\n",
       "  </thead>\n",
       "  <tbody>\n",
       "    <tr>\n",
       "      <th>0</th>\n",
       "      <td>K0</td>\n",
       "      <td>C0</td>\n",
       "      <td>D0</td>\n",
       "    </tr>\n",
       "    <tr>\n",
       "      <th>1</th>\n",
       "      <td>K1</td>\n",
       "      <td>C1</td>\n",
       "      <td>D1</td>\n",
       "    </tr>\n",
       "    <tr>\n",
       "      <th>2</th>\n",
       "      <td>K2</td>\n",
       "      <td>C2</td>\n",
       "      <td>D2</td>\n",
       "    </tr>\n",
       "    <tr>\n",
       "      <th>3</th>\n",
       "      <td>K3</td>\n",
       "      <td>C3</td>\n",
       "      <td>D3</td>\n",
       "    </tr>\n",
       "  </tbody>\n",
       "</table>\n",
       "</div>"
      ],
      "text/plain": [
       "  key   C   D\n",
       "0  K0  C0  D0\n",
       "1  K1  C1  D1\n",
       "2  K2  C2  D2\n",
       "3  K3  C3  D3"
      ]
     },
     "execution_count": 281,
     "metadata": {},
     "output_type": "execute_result"
    }
   ],
   "source": [
    "# 리스트 안의 딕셔너리 형태 \n",
    "\n",
    "right = pd.DataFrame([\n",
    "    {\"key\":\"K0\", \"C\":\"C0\", \"D\":\"D0\"},\n",
    "    {\"key\":\"K1\", \"C\":\"C1\", \"D\":\"D1\"},\n",
    "    {\"key\":\"K2\", \"C\":\"C2\", \"D\":\"D2\"},\n",
    "    {\"key\":\"K3\", \"C\":\"C3\", \"D\":\"D3\"},\n",
    "])\n",
    "right"
   ]
  },
  {
   "cell_type": "markdown",
   "id": "550599b5",
   "metadata": {},
   "source": [
    "### pd.merge()\n",
    "- 두 데이터 프레임에서 컬럼이나 인덱스를 기준으로 잡고 병합하는 방법 \n",
    "- 기준이 되는 컬럼이나 인덱스를 키값이라고 합니다 \n",
    "- 기준이 되는 키값은 두 데이터 프레임에 모두 포함되어 있어야 합니다"
   ]
  },
  {
   "cell_type": "code",
   "execution_count": 282,
   "id": "7cf38b3b",
   "metadata": {},
   "outputs": [
    {
     "data": {
      "text/html": [
       "<div>\n",
       "<style scoped>\n",
       "    .dataframe tbody tr th:only-of-type {\n",
       "        vertical-align: middle;\n",
       "    }\n",
       "\n",
       "    .dataframe tbody tr th {\n",
       "        vertical-align: top;\n",
       "    }\n",
       "\n",
       "    .dataframe thead th {\n",
       "        text-align: right;\n",
       "    }\n",
       "</style>\n",
       "<table border=\"1\" class=\"dataframe\">\n",
       "  <thead>\n",
       "    <tr style=\"text-align: right;\">\n",
       "      <th></th>\n",
       "      <th>key</th>\n",
       "      <th>A</th>\n",
       "      <th>B</th>\n",
       "      <th>C</th>\n",
       "      <th>D</th>\n",
       "    </tr>\n",
       "  </thead>\n",
       "  <tbody>\n",
       "    <tr>\n",
       "      <th>0</th>\n",
       "      <td>K0</td>\n",
       "      <td>A0</td>\n",
       "      <td>B0</td>\n",
       "      <td>C0</td>\n",
       "      <td>D0</td>\n",
       "    </tr>\n",
       "    <tr>\n",
       "      <th>1</th>\n",
       "      <td>K2</td>\n",
       "      <td>A2</td>\n",
       "      <td>B2</td>\n",
       "      <td>C2</td>\n",
       "      <td>D2</td>\n",
       "    </tr>\n",
       "    <tr>\n",
       "      <th>2</th>\n",
       "      <td>K3</td>\n",
       "      <td>A3</td>\n",
       "      <td>B3</td>\n",
       "      <td>C3</td>\n",
       "      <td>D3</td>\n",
       "    </tr>\n",
       "  </tbody>\n",
       "</table>\n",
       "</div>"
      ],
      "text/plain": [
       "  key   A   B   C   D\n",
       "0  K0  A0  B0  C0  D0\n",
       "1  K2  A2  B2  C2  D2\n",
       "2  K3  A3  B3  C3  D3"
      ]
     },
     "execution_count": 282,
     "metadata": {},
     "output_type": "execute_result"
    }
   ],
   "source": [
    "pd.merge(left, right, how=\"inner\", on=\"key\")"
   ]
  },
  {
   "cell_type": "code",
   "execution_count": 283,
   "id": "643fbaa0",
   "metadata": {},
   "outputs": [
    {
     "data": {
      "text/html": [
       "<div>\n",
       "<style scoped>\n",
       "    .dataframe tbody tr th:only-of-type {\n",
       "        vertical-align: middle;\n",
       "    }\n",
       "\n",
       "    .dataframe tbody tr th {\n",
       "        vertical-align: top;\n",
       "    }\n",
       "\n",
       "    .dataframe thead th {\n",
       "        text-align: right;\n",
       "    }\n",
       "</style>\n",
       "<table border=\"1\" class=\"dataframe\">\n",
       "  <thead>\n",
       "    <tr style=\"text-align: right;\">\n",
       "      <th></th>\n",
       "      <th>key</th>\n",
       "      <th>A</th>\n",
       "      <th>B</th>\n",
       "      <th>C</th>\n",
       "      <th>D</th>\n",
       "    </tr>\n",
       "  </thead>\n",
       "  <tbody>\n",
       "    <tr>\n",
       "      <th>0</th>\n",
       "      <td>K0</td>\n",
       "      <td>A0</td>\n",
       "      <td>B0</td>\n",
       "      <td>C0</td>\n",
       "      <td>D0</td>\n",
       "    </tr>\n",
       "    <tr>\n",
       "      <th>1</th>\n",
       "      <td>K4</td>\n",
       "      <td>A1</td>\n",
       "      <td>B1</td>\n",
       "      <td>NaN</td>\n",
       "      <td>NaN</td>\n",
       "    </tr>\n",
       "    <tr>\n",
       "      <th>2</th>\n",
       "      <td>K2</td>\n",
       "      <td>A2</td>\n",
       "      <td>B2</td>\n",
       "      <td>C2</td>\n",
       "      <td>D2</td>\n",
       "    </tr>\n",
       "    <tr>\n",
       "      <th>3</th>\n",
       "      <td>K3</td>\n",
       "      <td>A3</td>\n",
       "      <td>B3</td>\n",
       "      <td>C3</td>\n",
       "      <td>D3</td>\n",
       "    </tr>\n",
       "  </tbody>\n",
       "</table>\n",
       "</div>"
      ],
      "text/plain": [
       "  key   A   B    C    D\n",
       "0  K0  A0  B0   C0   D0\n",
       "1  K4  A1  B1  NaN  NaN\n",
       "2  K2  A2  B2   C2   D2\n",
       "3  K3  A3  B3   C3   D3"
      ]
     },
     "execution_count": 283,
     "metadata": {},
     "output_type": "execute_result"
    }
   ],
   "source": [
    "pd.merge(left, right, how=\"left\", on=\"key\")"
   ]
  },
  {
   "cell_type": "code",
   "execution_count": 284,
   "id": "d74e77b7",
   "metadata": {},
   "outputs": [
    {
     "data": {
      "text/html": [
       "<div>\n",
       "<style scoped>\n",
       "    .dataframe tbody tr th:only-of-type {\n",
       "        vertical-align: middle;\n",
       "    }\n",
       "\n",
       "    .dataframe tbody tr th {\n",
       "        vertical-align: top;\n",
       "    }\n",
       "\n",
       "    .dataframe thead th {\n",
       "        text-align: right;\n",
       "    }\n",
       "</style>\n",
       "<table border=\"1\" class=\"dataframe\">\n",
       "  <thead>\n",
       "    <tr style=\"text-align: right;\">\n",
       "      <th></th>\n",
       "      <th>key</th>\n",
       "      <th>A</th>\n",
       "      <th>B</th>\n",
       "    </tr>\n",
       "  </thead>\n",
       "  <tbody>\n",
       "    <tr>\n",
       "      <th>0</th>\n",
       "      <td>K0</td>\n",
       "      <td>A0</td>\n",
       "      <td>B0</td>\n",
       "    </tr>\n",
       "    <tr>\n",
       "      <th>1</th>\n",
       "      <td>K4</td>\n",
       "      <td>A1</td>\n",
       "      <td>B1</td>\n",
       "    </tr>\n",
       "    <tr>\n",
       "      <th>2</th>\n",
       "      <td>K2</td>\n",
       "      <td>A2</td>\n",
       "      <td>B2</td>\n",
       "    </tr>\n",
       "    <tr>\n",
       "      <th>3</th>\n",
       "      <td>K3</td>\n",
       "      <td>A3</td>\n",
       "      <td>B3</td>\n",
       "    </tr>\n",
       "  </tbody>\n",
       "</table>\n",
       "</div>"
      ],
      "text/plain": [
       "  key   A   B\n",
       "0  K0  A0  B0\n",
       "1  K4  A1  B1\n",
       "2  K2  A2  B2\n",
       "3  K3  A3  B3"
      ]
     },
     "execution_count": 284,
     "metadata": {},
     "output_type": "execute_result"
    }
   ],
   "source": [
    "left\n"
   ]
  },
  {
   "cell_type": "code",
   "execution_count": 285,
   "id": "dad2f86d",
   "metadata": {},
   "outputs": [
    {
     "data": {
      "text/html": [
       "<div>\n",
       "<style scoped>\n",
       "    .dataframe tbody tr th:only-of-type {\n",
       "        vertical-align: middle;\n",
       "    }\n",
       "\n",
       "    .dataframe tbody tr th {\n",
       "        vertical-align: top;\n",
       "    }\n",
       "\n",
       "    .dataframe thead th {\n",
       "        text-align: right;\n",
       "    }\n",
       "</style>\n",
       "<table border=\"1\" class=\"dataframe\">\n",
       "  <thead>\n",
       "    <tr style=\"text-align: right;\">\n",
       "      <th></th>\n",
       "      <th>key</th>\n",
       "      <th>C</th>\n",
       "      <th>D</th>\n",
       "    </tr>\n",
       "  </thead>\n",
       "  <tbody>\n",
       "    <tr>\n",
       "      <th>0</th>\n",
       "      <td>K0</td>\n",
       "      <td>C0</td>\n",
       "      <td>D0</td>\n",
       "    </tr>\n",
       "    <tr>\n",
       "      <th>1</th>\n",
       "      <td>K1</td>\n",
       "      <td>C1</td>\n",
       "      <td>D1</td>\n",
       "    </tr>\n",
       "    <tr>\n",
       "      <th>2</th>\n",
       "      <td>K2</td>\n",
       "      <td>C2</td>\n",
       "      <td>D2</td>\n",
       "    </tr>\n",
       "    <tr>\n",
       "      <th>3</th>\n",
       "      <td>K3</td>\n",
       "      <td>C3</td>\n",
       "      <td>D3</td>\n",
       "    </tr>\n",
       "  </tbody>\n",
       "</table>\n",
       "</div>"
      ],
      "text/plain": [
       "  key   C   D\n",
       "0  K0  C0  D0\n",
       "1  K1  C1  D1\n",
       "2  K2  C2  D2\n",
       "3  K3  C3  D3"
      ]
     },
     "execution_count": 285,
     "metadata": {},
     "output_type": "execute_result"
    }
   ],
   "source": [
    "right"
   ]
  },
  {
   "cell_type": "code",
   "execution_count": 286,
   "id": "aec0ffef",
   "metadata": {},
   "outputs": [
    {
     "data": {
      "text/html": [
       "<div>\n",
       "<style scoped>\n",
       "    .dataframe tbody tr th:only-of-type {\n",
       "        vertical-align: middle;\n",
       "    }\n",
       "\n",
       "    .dataframe tbody tr th {\n",
       "        vertical-align: top;\n",
       "    }\n",
       "\n",
       "    .dataframe thead th {\n",
       "        text-align: right;\n",
       "    }\n",
       "</style>\n",
       "<table border=\"1\" class=\"dataframe\">\n",
       "  <thead>\n",
       "    <tr style=\"text-align: right;\">\n",
       "      <th></th>\n",
       "      <th>key</th>\n",
       "      <th>A</th>\n",
       "      <th>B</th>\n",
       "      <th>C</th>\n",
       "      <th>D</th>\n",
       "    </tr>\n",
       "  </thead>\n",
       "  <tbody>\n",
       "    <tr>\n",
       "      <th>0</th>\n",
       "      <td>K0</td>\n",
       "      <td>A0</td>\n",
       "      <td>B0</td>\n",
       "      <td>C0</td>\n",
       "      <td>D0</td>\n",
       "    </tr>\n",
       "    <tr>\n",
       "      <th>1</th>\n",
       "      <td>K1</td>\n",
       "      <td>NaN</td>\n",
       "      <td>NaN</td>\n",
       "      <td>C1</td>\n",
       "      <td>D1</td>\n",
       "    </tr>\n",
       "    <tr>\n",
       "      <th>2</th>\n",
       "      <td>K2</td>\n",
       "      <td>A2</td>\n",
       "      <td>B2</td>\n",
       "      <td>C2</td>\n",
       "      <td>D2</td>\n",
       "    </tr>\n",
       "    <tr>\n",
       "      <th>3</th>\n",
       "      <td>K3</td>\n",
       "      <td>A3</td>\n",
       "      <td>B3</td>\n",
       "      <td>C3</td>\n",
       "      <td>D3</td>\n",
       "    </tr>\n",
       "  </tbody>\n",
       "</table>\n",
       "</div>"
      ],
      "text/plain": [
       "  key    A    B   C   D\n",
       "0  K0   A0   B0  C0  D0\n",
       "1  K1  NaN  NaN  C1  D1\n",
       "2  K2   A2   B2  C2  D2\n",
       "3  K3   A3   B3  C3  D3"
      ]
     },
     "execution_count": 286,
     "metadata": {},
     "output_type": "execute_result"
    }
   ],
   "source": [
    "pd.merge(left, right, how=\"right\", on=\"key\")"
   ]
  },
  {
   "cell_type": "code",
   "execution_count": 287,
   "id": "94623f54",
   "metadata": {},
   "outputs": [
    {
     "data": {
      "text/html": [
       "<div>\n",
       "<style scoped>\n",
       "    .dataframe tbody tr th:only-of-type {\n",
       "        vertical-align: middle;\n",
       "    }\n",
       "\n",
       "    .dataframe tbody tr th {\n",
       "        vertical-align: top;\n",
       "    }\n",
       "\n",
       "    .dataframe thead th {\n",
       "        text-align: right;\n",
       "    }\n",
       "</style>\n",
       "<table border=\"1\" class=\"dataframe\">\n",
       "  <thead>\n",
       "    <tr style=\"text-align: right;\">\n",
       "      <th></th>\n",
       "      <th>key</th>\n",
       "      <th>A</th>\n",
       "      <th>B</th>\n",
       "      <th>C</th>\n",
       "      <th>D</th>\n",
       "    </tr>\n",
       "  </thead>\n",
       "  <tbody>\n",
       "    <tr>\n",
       "      <th>0</th>\n",
       "      <td>K0</td>\n",
       "      <td>A0</td>\n",
       "      <td>B0</td>\n",
       "      <td>C0</td>\n",
       "      <td>D0</td>\n",
       "    </tr>\n",
       "    <tr>\n",
       "      <th>1</th>\n",
       "      <td>K4</td>\n",
       "      <td>A1</td>\n",
       "      <td>B1</td>\n",
       "      <td>NaN</td>\n",
       "      <td>NaN</td>\n",
       "    </tr>\n",
       "    <tr>\n",
       "      <th>2</th>\n",
       "      <td>K2</td>\n",
       "      <td>A2</td>\n",
       "      <td>B2</td>\n",
       "      <td>C2</td>\n",
       "      <td>D2</td>\n",
       "    </tr>\n",
       "    <tr>\n",
       "      <th>3</th>\n",
       "      <td>K3</td>\n",
       "      <td>A3</td>\n",
       "      <td>B3</td>\n",
       "      <td>C3</td>\n",
       "      <td>D3</td>\n",
       "    </tr>\n",
       "    <tr>\n",
       "      <th>4</th>\n",
       "      <td>K1</td>\n",
       "      <td>NaN</td>\n",
       "      <td>NaN</td>\n",
       "      <td>C1</td>\n",
       "      <td>D1</td>\n",
       "    </tr>\n",
       "  </tbody>\n",
       "</table>\n",
       "</div>"
      ],
      "text/plain": [
       "  key    A    B    C    D\n",
       "0  K0   A0   B0   C0   D0\n",
       "1  K4   A1   B1  NaN  NaN\n",
       "2  K2   A2   B2   C2   D2\n",
       "3  K3   A3   B3   C3   D3\n",
       "4  K1  NaN  NaN   C1   D1"
      ]
     },
     "execution_count": 287,
     "metadata": {},
     "output_type": "execute_result"
    }
   ],
   "source": [
    "pd.merge(left, right, how=\"outer\", on=\"key\")"
   ]
  },
  {
   "cell_type": "markdown",
   "id": "cf9e8b03",
   "metadata": {},
   "source": [
    "---"
   ]
  },
  {
   "cell_type": "markdown",
   "id": "87ef7940",
   "metadata": {},
   "source": [
    "## 두 데이터 합치기"
   ]
  },
  {
   "cell_type": "code",
   "execution_count": 288,
   "id": "5d8612c9",
   "metadata": {},
   "outputs": [
    {
     "data": {
      "text/html": [
       "<div>\n",
       "<style scoped>\n",
       "    .dataframe tbody tr th:only-of-type {\n",
       "        vertical-align: middle;\n",
       "    }\n",
       "\n",
       "    .dataframe tbody tr th {\n",
       "        vertical-align: top;\n",
       "    }\n",
       "\n",
       "    .dataframe thead th {\n",
       "        text-align: right;\n",
       "    }\n",
       "</style>\n",
       "<table border=\"1\" class=\"dataframe\">\n",
       "  <thead>\n",
       "    <tr style=\"text-align: right;\">\n",
       "      <th></th>\n",
       "      <th>구별</th>\n",
       "      <th>소계</th>\n",
       "      <th>2013년도 이전</th>\n",
       "      <th>2014년</th>\n",
       "      <th>2015년</th>\n",
       "      <th>2016년</th>\n",
       "      <th>최근증가율</th>\n",
       "    </tr>\n",
       "  </thead>\n",
       "  <tbody>\n",
       "    <tr>\n",
       "      <th>0</th>\n",
       "      <td>강남구</td>\n",
       "      <td>3238</td>\n",
       "      <td>1292</td>\n",
       "      <td>430</td>\n",
       "      <td>584</td>\n",
       "      <td>932</td>\n",
       "      <td>150.619195</td>\n",
       "    </tr>\n",
       "  </tbody>\n",
       "</table>\n",
       "</div>"
      ],
      "text/plain": [
       "    구별    소계  2013년도 이전  2014년  2015년  2016년       최근증가율\n",
       "0  강남구  3238       1292    430    584    932  150.619195"
      ]
     },
     "execution_count": 288,
     "metadata": {},
     "output_type": "execute_result"
    }
   ],
   "source": [
    "CCTV_Seoul.head(1)"
   ]
  },
  {
   "cell_type": "code",
   "execution_count": 289,
   "id": "05d906da",
   "metadata": {},
   "outputs": [
    {
     "data": {
      "text/html": [
       "<div>\n",
       "<style scoped>\n",
       "    .dataframe tbody tr th:only-of-type {\n",
       "        vertical-align: middle;\n",
       "    }\n",
       "\n",
       "    .dataframe tbody tr th {\n",
       "        vertical-align: top;\n",
       "    }\n",
       "\n",
       "    .dataframe thead th {\n",
       "        text-align: right;\n",
       "    }\n",
       "</style>\n",
       "<table border=\"1\" class=\"dataframe\">\n",
       "  <thead>\n",
       "    <tr style=\"text-align: right;\">\n",
       "      <th></th>\n",
       "      <th>구별</th>\n",
       "      <th>인구수</th>\n",
       "      <th>한국인</th>\n",
       "      <th>외국인</th>\n",
       "      <th>고령자</th>\n",
       "      <th>외국인비율</th>\n",
       "      <th>고령자비율</th>\n",
       "    </tr>\n",
       "  </thead>\n",
       "  <tbody>\n",
       "    <tr>\n",
       "      <th>1</th>\n",
       "      <td>종로구</td>\n",
       "      <td>164257</td>\n",
       "      <td>154770</td>\n",
       "      <td>9487</td>\n",
       "      <td>26182</td>\n",
       "      <td>5.775705</td>\n",
       "      <td>15.939656</td>\n",
       "    </tr>\n",
       "  </tbody>\n",
       "</table>\n",
       "</div>"
      ],
      "text/plain": [
       "    구별     인구수     한국인   외국인    고령자     외국인비율      고령자비율\n",
       "1  종로구  164257  154770  9487  26182  5.775705  15.939656"
      ]
     },
     "execution_count": 289,
     "metadata": {},
     "output_type": "execute_result"
    }
   ],
   "source": [
    "pop_Seoul.head(1)"
   ]
  },
  {
   "cell_type": "code",
   "execution_count": 290,
   "id": "42620221",
   "metadata": {},
   "outputs": [
    {
     "data": {
      "text/html": [
       "<div>\n",
       "<style scoped>\n",
       "    .dataframe tbody tr th:only-of-type {\n",
       "        vertical-align: middle;\n",
       "    }\n",
       "\n",
       "    .dataframe tbody tr th {\n",
       "        vertical-align: top;\n",
       "    }\n",
       "\n",
       "    .dataframe thead th {\n",
       "        text-align: right;\n",
       "    }\n",
       "</style>\n",
       "<table border=\"1\" class=\"dataframe\">\n",
       "  <thead>\n",
       "    <tr style=\"text-align: right;\">\n",
       "      <th></th>\n",
       "      <th>구별</th>\n",
       "      <th>소계</th>\n",
       "      <th>2013년도 이전</th>\n",
       "      <th>2014년</th>\n",
       "      <th>2015년</th>\n",
       "      <th>2016년</th>\n",
       "      <th>최근증가율</th>\n",
       "      <th>인구수</th>\n",
       "      <th>한국인</th>\n",
       "      <th>외국인</th>\n",
       "      <th>고령자</th>\n",
       "      <th>외국인비율</th>\n",
       "      <th>고령자비율</th>\n",
       "    </tr>\n",
       "  </thead>\n",
       "  <tbody>\n",
       "    <tr>\n",
       "      <th>0</th>\n",
       "      <td>강남구</td>\n",
       "      <td>3238</td>\n",
       "      <td>1292</td>\n",
       "      <td>430</td>\n",
       "      <td>584</td>\n",
       "      <td>932</td>\n",
       "      <td>150.619195</td>\n",
       "      <td>561052</td>\n",
       "      <td>556164</td>\n",
       "      <td>4888</td>\n",
       "      <td>65060</td>\n",
       "      <td>0.871220</td>\n",
       "      <td>11.596073</td>\n",
       "    </tr>\n",
       "    <tr>\n",
       "      <th>1</th>\n",
       "      <td>강동구</td>\n",
       "      <td>1010</td>\n",
       "      <td>379</td>\n",
       "      <td>99</td>\n",
       "      <td>155</td>\n",
       "      <td>377</td>\n",
       "      <td>166.490765</td>\n",
       "      <td>440359</td>\n",
       "      <td>436223</td>\n",
       "      <td>4136</td>\n",
       "      <td>56161</td>\n",
       "      <td>0.939234</td>\n",
       "      <td>12.753458</td>\n",
       "    </tr>\n",
       "    <tr>\n",
       "      <th>2</th>\n",
       "      <td>강북구</td>\n",
       "      <td>831</td>\n",
       "      <td>369</td>\n",
       "      <td>120</td>\n",
       "      <td>138</td>\n",
       "      <td>204</td>\n",
       "      <td>125.203252</td>\n",
       "      <td>328002</td>\n",
       "      <td>324479</td>\n",
       "      <td>3523</td>\n",
       "      <td>56530</td>\n",
       "      <td>1.074079</td>\n",
       "      <td>17.234651</td>\n",
       "    </tr>\n",
       "    <tr>\n",
       "      <th>3</th>\n",
       "      <td>강서구</td>\n",
       "      <td>911</td>\n",
       "      <td>388</td>\n",
       "      <td>258</td>\n",
       "      <td>184</td>\n",
       "      <td>81</td>\n",
       "      <td>134.793814</td>\n",
       "      <td>608255</td>\n",
       "      <td>601691</td>\n",
       "      <td>6564</td>\n",
       "      <td>76032</td>\n",
       "      <td>1.079153</td>\n",
       "      <td>12.500021</td>\n",
       "    </tr>\n",
       "    <tr>\n",
       "      <th>4</th>\n",
       "      <td>관악구</td>\n",
       "      <td>2109</td>\n",
       "      <td>846</td>\n",
       "      <td>260</td>\n",
       "      <td>390</td>\n",
       "      <td>613</td>\n",
       "      <td>149.290780</td>\n",
       "      <td>520929</td>\n",
       "      <td>503297</td>\n",
       "      <td>17632</td>\n",
       "      <td>70046</td>\n",
       "      <td>3.384722</td>\n",
       "      <td>13.446362</td>\n",
       "    </tr>\n",
       "  </tbody>\n",
       "</table>\n",
       "</div>"
      ],
      "text/plain": [
       "    구별    소계  2013년도 이전  2014년  2015년  2016년       최근증가율     인구수     한국인  \\\n",
       "0  강남구  3238       1292    430    584    932  150.619195  561052  556164   \n",
       "1  강동구  1010        379     99    155    377  166.490765  440359  436223   \n",
       "2  강북구   831        369    120    138    204  125.203252  328002  324479   \n",
       "3  강서구   911        388    258    184     81  134.793814  608255  601691   \n",
       "4  관악구  2109        846    260    390    613  149.290780  520929  503297   \n",
       "\n",
       "     외국인    고령자     외국인비율      고령자비율  \n",
       "0   4888  65060  0.871220  11.596073  \n",
       "1   4136  56161  0.939234  12.753458  \n",
       "2   3523  56530  1.074079  17.234651  \n",
       "3   6564  76032  1.079153  12.500021  \n",
       "4  17632  70046  3.384722  13.446362  "
      ]
     },
     "execution_count": 290,
     "metadata": {},
     "output_type": "execute_result"
    }
   ],
   "source": [
    "data_result = pd.merge(CCTV_Seoul, pop_Seoul, on=\"구별\")\n",
    "data_result.head()"
   ]
  },
  {
   "cell_type": "markdown",
   "id": "04675b0f",
   "metadata": {},
   "source": [
    "### 년도별 데이터 컬럼 삭제\n",
    "- del\n",
    "- drop()"
   ]
  },
  {
   "cell_type": "code",
   "execution_count": 291,
   "id": "c074678a",
   "metadata": {},
   "outputs": [],
   "source": [
    "del data_result[\"2013년도 이전\"]"
   ]
  },
  {
   "cell_type": "code",
   "execution_count": 292,
   "id": "81e54e29",
   "metadata": {},
   "outputs": [],
   "source": [
    "del data_result[\"2014년\"]"
   ]
  },
  {
   "cell_type": "code",
   "execution_count": 293,
   "id": "9f8a1001",
   "metadata": {},
   "outputs": [
    {
     "data": {
      "text/html": [
       "<div>\n",
       "<style scoped>\n",
       "    .dataframe tbody tr th:only-of-type {\n",
       "        vertical-align: middle;\n",
       "    }\n",
       "\n",
       "    .dataframe tbody tr th {\n",
       "        vertical-align: top;\n",
       "    }\n",
       "\n",
       "    .dataframe thead th {\n",
       "        text-align: right;\n",
       "    }\n",
       "</style>\n",
       "<table border=\"1\" class=\"dataframe\">\n",
       "  <thead>\n",
       "    <tr style=\"text-align: right;\">\n",
       "      <th></th>\n",
       "      <th>구별</th>\n",
       "      <th>소계</th>\n",
       "      <th>2015년</th>\n",
       "      <th>2016년</th>\n",
       "      <th>최근증가율</th>\n",
       "      <th>인구수</th>\n",
       "      <th>한국인</th>\n",
       "      <th>외국인</th>\n",
       "      <th>고령자</th>\n",
       "      <th>외국인비율</th>\n",
       "      <th>고령자비율</th>\n",
       "    </tr>\n",
       "  </thead>\n",
       "  <tbody>\n",
       "    <tr>\n",
       "      <th>0</th>\n",
       "      <td>강남구</td>\n",
       "      <td>3238</td>\n",
       "      <td>584</td>\n",
       "      <td>932</td>\n",
       "      <td>150.619195</td>\n",
       "      <td>561052</td>\n",
       "      <td>556164</td>\n",
       "      <td>4888</td>\n",
       "      <td>65060</td>\n",
       "      <td>0.871220</td>\n",
       "      <td>11.596073</td>\n",
       "    </tr>\n",
       "    <tr>\n",
       "      <th>1</th>\n",
       "      <td>강동구</td>\n",
       "      <td>1010</td>\n",
       "      <td>155</td>\n",
       "      <td>377</td>\n",
       "      <td>166.490765</td>\n",
       "      <td>440359</td>\n",
       "      <td>436223</td>\n",
       "      <td>4136</td>\n",
       "      <td>56161</td>\n",
       "      <td>0.939234</td>\n",
       "      <td>12.753458</td>\n",
       "    </tr>\n",
       "    <tr>\n",
       "      <th>2</th>\n",
       "      <td>강북구</td>\n",
       "      <td>831</td>\n",
       "      <td>138</td>\n",
       "      <td>204</td>\n",
       "      <td>125.203252</td>\n",
       "      <td>328002</td>\n",
       "      <td>324479</td>\n",
       "      <td>3523</td>\n",
       "      <td>56530</td>\n",
       "      <td>1.074079</td>\n",
       "      <td>17.234651</td>\n",
       "    </tr>\n",
       "  </tbody>\n",
       "</table>\n",
       "</div>"
      ],
      "text/plain": [
       "    구별    소계  2015년  2016년       최근증가율     인구수     한국인   외국인    고령자     외국인비율  \\\n",
       "0  강남구  3238    584    932  150.619195  561052  556164  4888  65060  0.871220   \n",
       "1  강동구  1010    155    377  166.490765  440359  436223  4136  56161  0.939234   \n",
       "2  강북구   831    138    204  125.203252  328002  324479  3523  56530  1.074079   \n",
       "\n",
       "       고령자비율  \n",
       "0  11.596073  \n",
       "1  12.753458  \n",
       "2  17.234651  "
      ]
     },
     "execution_count": 293,
     "metadata": {},
     "output_type": "execute_result"
    }
   ],
   "source": [
    "data_result.head(3)"
   ]
  },
  {
   "cell_type": "code",
   "execution_count": 294,
   "id": "25c5ceb8",
   "metadata": {},
   "outputs": [],
   "source": [
    "data_result.drop([\"2015년\", \"2016년\"], axis=1, inplace=True)"
   ]
  },
  {
   "cell_type": "code",
   "execution_count": 295,
   "id": "d1f83cb7",
   "metadata": {},
   "outputs": [
    {
     "data": {
      "text/html": [
       "<div>\n",
       "<style scoped>\n",
       "    .dataframe tbody tr th:only-of-type {\n",
       "        vertical-align: middle;\n",
       "    }\n",
       "\n",
       "    .dataframe tbody tr th {\n",
       "        vertical-align: top;\n",
       "    }\n",
       "\n",
       "    .dataframe thead th {\n",
       "        text-align: right;\n",
       "    }\n",
       "</style>\n",
       "<table border=\"1\" class=\"dataframe\">\n",
       "  <thead>\n",
       "    <tr style=\"text-align: right;\">\n",
       "      <th></th>\n",
       "      <th>구별</th>\n",
       "      <th>소계</th>\n",
       "      <th>최근증가율</th>\n",
       "      <th>인구수</th>\n",
       "      <th>한국인</th>\n",
       "      <th>외국인</th>\n",
       "      <th>고령자</th>\n",
       "      <th>외국인비율</th>\n",
       "      <th>고령자비율</th>\n",
       "    </tr>\n",
       "  </thead>\n",
       "  <tbody>\n",
       "    <tr>\n",
       "      <th>0</th>\n",
       "      <td>강남구</td>\n",
       "      <td>3238</td>\n",
       "      <td>150.619195</td>\n",
       "      <td>561052</td>\n",
       "      <td>556164</td>\n",
       "      <td>4888</td>\n",
       "      <td>65060</td>\n",
       "      <td>0.871220</td>\n",
       "      <td>11.596073</td>\n",
       "    </tr>\n",
       "    <tr>\n",
       "      <th>1</th>\n",
       "      <td>강동구</td>\n",
       "      <td>1010</td>\n",
       "      <td>166.490765</td>\n",
       "      <td>440359</td>\n",
       "      <td>436223</td>\n",
       "      <td>4136</td>\n",
       "      <td>56161</td>\n",
       "      <td>0.939234</td>\n",
       "      <td>12.753458</td>\n",
       "    </tr>\n",
       "    <tr>\n",
       "      <th>2</th>\n",
       "      <td>강북구</td>\n",
       "      <td>831</td>\n",
       "      <td>125.203252</td>\n",
       "      <td>328002</td>\n",
       "      <td>324479</td>\n",
       "      <td>3523</td>\n",
       "      <td>56530</td>\n",
       "      <td>1.074079</td>\n",
       "      <td>17.234651</td>\n",
       "    </tr>\n",
       "    <tr>\n",
       "      <th>3</th>\n",
       "      <td>강서구</td>\n",
       "      <td>911</td>\n",
       "      <td>134.793814</td>\n",
       "      <td>608255</td>\n",
       "      <td>601691</td>\n",
       "      <td>6564</td>\n",
       "      <td>76032</td>\n",
       "      <td>1.079153</td>\n",
       "      <td>12.500021</td>\n",
       "    </tr>\n",
       "    <tr>\n",
       "      <th>4</th>\n",
       "      <td>관악구</td>\n",
       "      <td>2109</td>\n",
       "      <td>149.290780</td>\n",
       "      <td>520929</td>\n",
       "      <td>503297</td>\n",
       "      <td>17632</td>\n",
       "      <td>70046</td>\n",
       "      <td>3.384722</td>\n",
       "      <td>13.446362</td>\n",
       "    </tr>\n",
       "  </tbody>\n",
       "</table>\n",
       "</div>"
      ],
      "text/plain": [
       "    구별    소계       최근증가율     인구수     한국인    외국인    고령자     외국인비율      고령자비율\n",
       "0  강남구  3238  150.619195  561052  556164   4888  65060  0.871220  11.596073\n",
       "1  강동구  1010  166.490765  440359  436223   4136  56161  0.939234  12.753458\n",
       "2  강북구   831  125.203252  328002  324479   3523  56530  1.074079  17.234651\n",
       "3  강서구   911  134.793814  608255  601691   6564  76032  1.079153  12.500021\n",
       "4  관악구  2109  149.290780  520929  503297  17632  70046  3.384722  13.446362"
      ]
     },
     "execution_count": 295,
     "metadata": {},
     "output_type": "execute_result"
    }
   ],
   "source": [
    "data_result.head()"
   ]
  },
  {
   "cell_type": "markdown",
   "id": "ecebe0f4",
   "metadata": {},
   "source": [
    "### 인덱스 변경 \n",
    "- set_index()\n",
    "- 선택한 컬럼을 데이터 프레임의 인덱스로 지정"
   ]
  },
  {
   "cell_type": "code",
   "execution_count": 296,
   "id": "4eff0bdd",
   "metadata": {},
   "outputs": [
    {
     "data": {
      "text/html": [
       "<div>\n",
       "<style scoped>\n",
       "    .dataframe tbody tr th:only-of-type {\n",
       "        vertical-align: middle;\n",
       "    }\n",
       "\n",
       "    .dataframe tbody tr th {\n",
       "        vertical-align: top;\n",
       "    }\n",
       "\n",
       "    .dataframe thead th {\n",
       "        text-align: right;\n",
       "    }\n",
       "</style>\n",
       "<table border=\"1\" class=\"dataframe\">\n",
       "  <thead>\n",
       "    <tr style=\"text-align: right;\">\n",
       "      <th></th>\n",
       "      <th>소계</th>\n",
       "      <th>최근증가율</th>\n",
       "      <th>인구수</th>\n",
       "      <th>한국인</th>\n",
       "      <th>외국인</th>\n",
       "      <th>고령자</th>\n",
       "      <th>외국인비율</th>\n",
       "      <th>고령자비율</th>\n",
       "    </tr>\n",
       "    <tr>\n",
       "      <th>구별</th>\n",
       "      <th></th>\n",
       "      <th></th>\n",
       "      <th></th>\n",
       "      <th></th>\n",
       "      <th></th>\n",
       "      <th></th>\n",
       "      <th></th>\n",
       "      <th></th>\n",
       "    </tr>\n",
       "  </thead>\n",
       "  <tbody>\n",
       "    <tr>\n",
       "      <th>강남구</th>\n",
       "      <td>3238</td>\n",
       "      <td>150.619195</td>\n",
       "      <td>561052</td>\n",
       "      <td>556164</td>\n",
       "      <td>4888</td>\n",
       "      <td>65060</td>\n",
       "      <td>0.871220</td>\n",
       "      <td>11.596073</td>\n",
       "    </tr>\n",
       "    <tr>\n",
       "      <th>강동구</th>\n",
       "      <td>1010</td>\n",
       "      <td>166.490765</td>\n",
       "      <td>440359</td>\n",
       "      <td>436223</td>\n",
       "      <td>4136</td>\n",
       "      <td>56161</td>\n",
       "      <td>0.939234</td>\n",
       "      <td>12.753458</td>\n",
       "    </tr>\n",
       "    <tr>\n",
       "      <th>강북구</th>\n",
       "      <td>831</td>\n",
       "      <td>125.203252</td>\n",
       "      <td>328002</td>\n",
       "      <td>324479</td>\n",
       "      <td>3523</td>\n",
       "      <td>56530</td>\n",
       "      <td>1.074079</td>\n",
       "      <td>17.234651</td>\n",
       "    </tr>\n",
       "    <tr>\n",
       "      <th>강서구</th>\n",
       "      <td>911</td>\n",
       "      <td>134.793814</td>\n",
       "      <td>608255</td>\n",
       "      <td>601691</td>\n",
       "      <td>6564</td>\n",
       "      <td>76032</td>\n",
       "      <td>1.079153</td>\n",
       "      <td>12.500021</td>\n",
       "    </tr>\n",
       "    <tr>\n",
       "      <th>관악구</th>\n",
       "      <td>2109</td>\n",
       "      <td>149.290780</td>\n",
       "      <td>520929</td>\n",
       "      <td>503297</td>\n",
       "      <td>17632</td>\n",
       "      <td>70046</td>\n",
       "      <td>3.384722</td>\n",
       "      <td>13.446362</td>\n",
       "    </tr>\n",
       "  </tbody>\n",
       "</table>\n",
       "</div>"
      ],
      "text/plain": [
       "       소계       최근증가율     인구수     한국인    외국인    고령자     외국인비율      고령자비율\n",
       "구별                                                                      \n",
       "강남구  3238  150.619195  561052  556164   4888  65060  0.871220  11.596073\n",
       "강동구  1010  166.490765  440359  436223   4136  56161  0.939234  12.753458\n",
       "강북구   831  125.203252  328002  324479   3523  56530  1.074079  17.234651\n",
       "강서구   911  134.793814  608255  601691   6564  76032  1.079153  12.500021\n",
       "관악구  2109  149.290780  520929  503297  17632  70046  3.384722  13.446362"
      ]
     },
     "execution_count": 296,
     "metadata": {},
     "output_type": "execute_result"
    }
   ],
   "source": [
    "data_result.set_index(\"구별\", inplace=True)\n",
    "data_result.head()"
   ]
  },
  {
   "cell_type": "markdown",
   "id": "9fc53b68",
   "metadata": {},
   "source": [
    "### 상관계수 \n",
    "- corr() \n",
    "- correlation 의 약자입니다 \n",
    "- 상관계수가 0.2 이상인 데이터를 비교"
   ]
  },
  {
   "cell_type": "code",
   "execution_count": 297,
   "id": "94928b34",
   "metadata": {},
   "outputs": [
    {
     "data": {
      "text/html": [
       "<div>\n",
       "<style scoped>\n",
       "    .dataframe tbody tr th:only-of-type {\n",
       "        vertical-align: middle;\n",
       "    }\n",
       "\n",
       "    .dataframe tbody tr th {\n",
       "        vertical-align: top;\n",
       "    }\n",
       "\n",
       "    .dataframe thead th {\n",
       "        text-align: right;\n",
       "    }\n",
       "</style>\n",
       "<table border=\"1\" class=\"dataframe\">\n",
       "  <thead>\n",
       "    <tr style=\"text-align: right;\">\n",
       "      <th></th>\n",
       "      <th>소계</th>\n",
       "      <th>최근증가율</th>\n",
       "      <th>인구수</th>\n",
       "      <th>한국인</th>\n",
       "      <th>외국인</th>\n",
       "      <th>고령자</th>\n",
       "      <th>외국인비율</th>\n",
       "      <th>고령자비율</th>\n",
       "    </tr>\n",
       "  </thead>\n",
       "  <tbody>\n",
       "    <tr>\n",
       "      <th>소계</th>\n",
       "      <td>1.000000</td>\n",
       "      <td>-0.264378</td>\n",
       "      <td>0.232555</td>\n",
       "      <td>0.227852</td>\n",
       "      <td>0.030421</td>\n",
       "      <td>0.163905</td>\n",
       "      <td>-0.045956</td>\n",
       "      <td>-0.267841</td>\n",
       "    </tr>\n",
       "    <tr>\n",
       "      <th>최근증가율</th>\n",
       "      <td>-0.264378</td>\n",
       "      <td>1.000000</td>\n",
       "      <td>-0.097165</td>\n",
       "      <td>-0.086341</td>\n",
       "      <td>-0.156421</td>\n",
       "      <td>-0.072251</td>\n",
       "      <td>-0.047102</td>\n",
       "      <td>0.190396</td>\n",
       "    </tr>\n",
       "    <tr>\n",
       "      <th>인구수</th>\n",
       "      <td>0.232555</td>\n",
       "      <td>-0.097165</td>\n",
       "      <td>1.000000</td>\n",
       "      <td>0.998151</td>\n",
       "      <td>-0.167243</td>\n",
       "      <td>0.936737</td>\n",
       "      <td>-0.601076</td>\n",
       "      <td>-0.637414</td>\n",
       "    </tr>\n",
       "    <tr>\n",
       "      <th>한국인</th>\n",
       "      <td>0.227852</td>\n",
       "      <td>-0.086341</td>\n",
       "      <td>0.998151</td>\n",
       "      <td>1.000000</td>\n",
       "      <td>-0.226853</td>\n",
       "      <td>0.936155</td>\n",
       "      <td>-0.645463</td>\n",
       "      <td>-0.628360</td>\n",
       "    </tr>\n",
       "    <tr>\n",
       "      <th>외국인</th>\n",
       "      <td>0.030421</td>\n",
       "      <td>-0.156421</td>\n",
       "      <td>-0.167243</td>\n",
       "      <td>-0.226853</td>\n",
       "      <td>1.000000</td>\n",
       "      <td>-0.175318</td>\n",
       "      <td>0.838612</td>\n",
       "      <td>-0.021147</td>\n",
       "    </tr>\n",
       "    <tr>\n",
       "      <th>고령자</th>\n",
       "      <td>0.163905</td>\n",
       "      <td>-0.072251</td>\n",
       "      <td>0.936737</td>\n",
       "      <td>0.936155</td>\n",
       "      <td>-0.175318</td>\n",
       "      <td>1.000000</td>\n",
       "      <td>-0.620300</td>\n",
       "      <td>-0.348840</td>\n",
       "    </tr>\n",
       "    <tr>\n",
       "      <th>외국인비율</th>\n",
       "      <td>-0.045956</td>\n",
       "      <td>-0.047102</td>\n",
       "      <td>-0.601076</td>\n",
       "      <td>-0.645463</td>\n",
       "      <td>0.838612</td>\n",
       "      <td>-0.620300</td>\n",
       "      <td>1.000000</td>\n",
       "      <td>0.242816</td>\n",
       "    </tr>\n",
       "    <tr>\n",
       "      <th>고령자비율</th>\n",
       "      <td>-0.267841</td>\n",
       "      <td>0.190396</td>\n",
       "      <td>-0.637414</td>\n",
       "      <td>-0.628360</td>\n",
       "      <td>-0.021147</td>\n",
       "      <td>-0.348840</td>\n",
       "      <td>0.242816</td>\n",
       "      <td>1.000000</td>\n",
       "    </tr>\n",
       "  </tbody>\n",
       "</table>\n",
       "</div>"
      ],
      "text/plain": [
       "             소계     최근증가율       인구수       한국인       외국인       고령자     외국인비율  \\\n",
       "소계     1.000000 -0.264378  0.232555  0.227852  0.030421  0.163905 -0.045956   \n",
       "최근증가율 -0.264378  1.000000 -0.097165 -0.086341 -0.156421 -0.072251 -0.047102   \n",
       "인구수    0.232555 -0.097165  1.000000  0.998151 -0.167243  0.936737 -0.601076   \n",
       "한국인    0.227852 -0.086341  0.998151  1.000000 -0.226853  0.936155 -0.645463   \n",
       "외국인    0.030421 -0.156421 -0.167243 -0.226853  1.000000 -0.175318  0.838612   \n",
       "고령자    0.163905 -0.072251  0.936737  0.936155 -0.175318  1.000000 -0.620300   \n",
       "외국인비율 -0.045956 -0.047102 -0.601076 -0.645463  0.838612 -0.620300  1.000000   \n",
       "고령자비율 -0.267841  0.190396 -0.637414 -0.628360 -0.021147 -0.348840  0.242816   \n",
       "\n",
       "          고령자비율  \n",
       "소계    -0.267841  \n",
       "최근증가율  0.190396  \n",
       "인구수   -0.637414  \n",
       "한국인   -0.628360  \n",
       "외국인   -0.021147  \n",
       "고령자   -0.348840  \n",
       "외국인비율  0.242816  \n",
       "고령자비율  1.000000  "
      ]
     },
     "execution_count": 297,
     "metadata": {},
     "output_type": "execute_result"
    }
   ],
   "source": [
    "data_result.corr()"
   ]
  },
  {
   "cell_type": "code",
   "execution_count": 298,
   "id": "48b14374",
   "metadata": {},
   "outputs": [
    {
     "name": "stdout",
     "output_type": "stream",
     "text": [
      "<class 'pandas.core.frame.DataFrame'>\n",
      "Index: 25 entries, 강남구 to 중랑구\n",
      "Data columns (total 8 columns):\n",
      " #   Column  Non-Null Count  Dtype  \n",
      "---  ------  --------------  -----  \n",
      " 0   소계      25 non-null     int64  \n",
      " 1   최근증가율   25 non-null     float64\n",
      " 2   인구수     25 non-null     int64  \n",
      " 3   한국인     25 non-null     int64  \n",
      " 4   외국인     25 non-null     int64  \n",
      " 5   고령자     25 non-null     int64  \n",
      " 6   외국인비율   25 non-null     float64\n",
      " 7   고령자비율   25 non-null     float64\n",
      "dtypes: float64(3), int64(5)\n",
      "memory usage: 1.8+ KB\n"
     ]
    }
   ],
   "source": [
    "data_result.info()"
   ]
  },
  {
   "cell_type": "code",
   "execution_count": 299,
   "id": "847788e0",
   "metadata": {},
   "outputs": [],
   "source": [
    "data_result[\"CCTV비율\"] = data_result[\"소계\"] / data_result[\"인구수\"] \n",
    "data_result[\"CCTV비율\"] = data_result[\"CCTV비율\"] * 100 "
   ]
  },
  {
   "cell_type": "code",
   "execution_count": 300,
   "id": "555d75b4",
   "metadata": {},
   "outputs": [
    {
     "data": {
      "text/html": [
       "<div>\n",
       "<style scoped>\n",
       "    .dataframe tbody tr th:only-of-type {\n",
       "        vertical-align: middle;\n",
       "    }\n",
       "\n",
       "    .dataframe tbody tr th {\n",
       "        vertical-align: top;\n",
       "    }\n",
       "\n",
       "    .dataframe thead th {\n",
       "        text-align: right;\n",
       "    }\n",
       "</style>\n",
       "<table border=\"1\" class=\"dataframe\">\n",
       "  <thead>\n",
       "    <tr style=\"text-align: right;\">\n",
       "      <th></th>\n",
       "      <th>소계</th>\n",
       "      <th>최근증가율</th>\n",
       "      <th>인구수</th>\n",
       "      <th>한국인</th>\n",
       "      <th>외국인</th>\n",
       "      <th>고령자</th>\n",
       "      <th>외국인비율</th>\n",
       "      <th>고령자비율</th>\n",
       "      <th>CCTV비율</th>\n",
       "    </tr>\n",
       "    <tr>\n",
       "      <th>구별</th>\n",
       "      <th></th>\n",
       "      <th></th>\n",
       "      <th></th>\n",
       "      <th></th>\n",
       "      <th></th>\n",
       "      <th></th>\n",
       "      <th></th>\n",
       "      <th></th>\n",
       "      <th></th>\n",
       "    </tr>\n",
       "  </thead>\n",
       "  <tbody>\n",
       "    <tr>\n",
       "      <th>강남구</th>\n",
       "      <td>3238</td>\n",
       "      <td>150.619195</td>\n",
       "      <td>561052</td>\n",
       "      <td>556164</td>\n",
       "      <td>4888</td>\n",
       "      <td>65060</td>\n",
       "      <td>0.871220</td>\n",
       "      <td>11.596073</td>\n",
       "      <td>0.577130</td>\n",
       "    </tr>\n",
       "    <tr>\n",
       "      <th>강동구</th>\n",
       "      <td>1010</td>\n",
       "      <td>166.490765</td>\n",
       "      <td>440359</td>\n",
       "      <td>436223</td>\n",
       "      <td>4136</td>\n",
       "      <td>56161</td>\n",
       "      <td>0.939234</td>\n",
       "      <td>12.753458</td>\n",
       "      <td>0.229358</td>\n",
       "    </tr>\n",
       "    <tr>\n",
       "      <th>강북구</th>\n",
       "      <td>831</td>\n",
       "      <td>125.203252</td>\n",
       "      <td>328002</td>\n",
       "      <td>324479</td>\n",
       "      <td>3523</td>\n",
       "      <td>56530</td>\n",
       "      <td>1.074079</td>\n",
       "      <td>17.234651</td>\n",
       "      <td>0.253352</td>\n",
       "    </tr>\n",
       "    <tr>\n",
       "      <th>강서구</th>\n",
       "      <td>911</td>\n",
       "      <td>134.793814</td>\n",
       "      <td>608255</td>\n",
       "      <td>601691</td>\n",
       "      <td>6564</td>\n",
       "      <td>76032</td>\n",
       "      <td>1.079153</td>\n",
       "      <td>12.500021</td>\n",
       "      <td>0.149773</td>\n",
       "    </tr>\n",
       "    <tr>\n",
       "      <th>관악구</th>\n",
       "      <td>2109</td>\n",
       "      <td>149.290780</td>\n",
       "      <td>520929</td>\n",
       "      <td>503297</td>\n",
       "      <td>17632</td>\n",
       "      <td>70046</td>\n",
       "      <td>3.384722</td>\n",
       "      <td>13.446362</td>\n",
       "      <td>0.404854</td>\n",
       "    </tr>\n",
       "  </tbody>\n",
       "</table>\n",
       "</div>"
      ],
      "text/plain": [
       "       소계       최근증가율     인구수     한국인    외국인    고령자     외국인비율      고령자비율  \\\n",
       "구별                                                                         \n",
       "강남구  3238  150.619195  561052  556164   4888  65060  0.871220  11.596073   \n",
       "강동구  1010  166.490765  440359  436223   4136  56161  0.939234  12.753458   \n",
       "강북구   831  125.203252  328002  324479   3523  56530  1.074079  17.234651   \n",
       "강서구   911  134.793814  608255  601691   6564  76032  1.079153  12.500021   \n",
       "관악구  2109  149.290780  520929  503297  17632  70046  3.384722  13.446362   \n",
       "\n",
       "       CCTV비율  \n",
       "구별             \n",
       "강남구  0.577130  \n",
       "강동구  0.229358  \n",
       "강북구  0.253352  \n",
       "강서구  0.149773  \n",
       "관악구  0.404854  "
      ]
     },
     "execution_count": 300,
     "metadata": {},
     "output_type": "execute_result"
    }
   ],
   "source": [
    "data_result.head()"
   ]
  },
  {
   "cell_type": "code",
   "execution_count": 301,
   "id": "d832d47e",
   "metadata": {},
   "outputs": [
    {
     "data": {
      "text/html": [
       "<div>\n",
       "<style scoped>\n",
       "    .dataframe tbody tr th:only-of-type {\n",
       "        vertical-align: middle;\n",
       "    }\n",
       "\n",
       "    .dataframe tbody tr th {\n",
       "        vertical-align: top;\n",
       "    }\n",
       "\n",
       "    .dataframe thead th {\n",
       "        text-align: right;\n",
       "    }\n",
       "</style>\n",
       "<table border=\"1\" class=\"dataframe\">\n",
       "  <thead>\n",
       "    <tr style=\"text-align: right;\">\n",
       "      <th></th>\n",
       "      <th>소계</th>\n",
       "      <th>최근증가율</th>\n",
       "      <th>인구수</th>\n",
       "      <th>한국인</th>\n",
       "      <th>외국인</th>\n",
       "      <th>고령자</th>\n",
       "      <th>외국인비율</th>\n",
       "      <th>고령자비율</th>\n",
       "      <th>CCTV비율</th>\n",
       "    </tr>\n",
       "    <tr>\n",
       "      <th>구별</th>\n",
       "      <th></th>\n",
       "      <th></th>\n",
       "      <th></th>\n",
       "      <th></th>\n",
       "      <th></th>\n",
       "      <th></th>\n",
       "      <th></th>\n",
       "      <th></th>\n",
       "      <th></th>\n",
       "    </tr>\n",
       "  </thead>\n",
       "  <tbody>\n",
       "    <tr>\n",
       "      <th>종로구</th>\n",
       "      <td>1619</td>\n",
       "      <td>248.922414</td>\n",
       "      <td>164257</td>\n",
       "      <td>154770</td>\n",
       "      <td>9487</td>\n",
       "      <td>26182</td>\n",
       "      <td>5.775705</td>\n",
       "      <td>15.939656</td>\n",
       "      <td>0.985651</td>\n",
       "    </tr>\n",
       "    <tr>\n",
       "      <th>용산구</th>\n",
       "      <td>2096</td>\n",
       "      <td>53.216374</td>\n",
       "      <td>244444</td>\n",
       "      <td>229161</td>\n",
       "      <td>15283</td>\n",
       "      <td>36882</td>\n",
       "      <td>6.252148</td>\n",
       "      <td>15.088118</td>\n",
       "      <td>0.857456</td>\n",
       "    </tr>\n",
       "    <tr>\n",
       "      <th>중구</th>\n",
       "      <td>1023</td>\n",
       "      <td>147.699758</td>\n",
       "      <td>134593</td>\n",
       "      <td>125709</td>\n",
       "      <td>8884</td>\n",
       "      <td>21384</td>\n",
       "      <td>6.600640</td>\n",
       "      <td>15.887899</td>\n",
       "      <td>0.760069</td>\n",
       "    </tr>\n",
       "    <tr>\n",
       "      <th>강남구</th>\n",
       "      <td>3238</td>\n",
       "      <td>150.619195</td>\n",
       "      <td>561052</td>\n",
       "      <td>556164</td>\n",
       "      <td>4888</td>\n",
       "      <td>65060</td>\n",
       "      <td>0.871220</td>\n",
       "      <td>11.596073</td>\n",
       "      <td>0.577130</td>\n",
       "    </tr>\n",
       "    <tr>\n",
       "      <th>금천구</th>\n",
       "      <td>1348</td>\n",
       "      <td>100.000000</td>\n",
       "      <td>253491</td>\n",
       "      <td>235154</td>\n",
       "      <td>18337</td>\n",
       "      <td>34170</td>\n",
       "      <td>7.233787</td>\n",
       "      <td>13.479769</td>\n",
       "      <td>0.531774</td>\n",
       "    </tr>\n",
       "  </tbody>\n",
       "</table>\n",
       "</div>"
      ],
      "text/plain": [
       "       소계       최근증가율     인구수     한국인    외국인    고령자     외국인비율      고령자비율  \\\n",
       "구별                                                                         \n",
       "종로구  1619  248.922414  164257  154770   9487  26182  5.775705  15.939656   \n",
       "용산구  2096   53.216374  244444  229161  15283  36882  6.252148  15.088118   \n",
       "중구   1023  147.699758  134593  125709   8884  21384  6.600640  15.887899   \n",
       "강남구  3238  150.619195  561052  556164   4888  65060  0.871220  11.596073   \n",
       "금천구  1348  100.000000  253491  235154  18337  34170  7.233787  13.479769   \n",
       "\n",
       "       CCTV비율  \n",
       "구별             \n",
       "종로구  0.985651  \n",
       "용산구  0.857456  \n",
       "중구   0.760069  \n",
       "강남구  0.577130  \n",
       "금천구  0.531774  "
      ]
     },
     "execution_count": 301,
     "metadata": {},
     "output_type": "execute_result"
    }
   ],
   "source": [
    "data_result.sort_values(by=\"CCTV비율\", ascending=False).head()"
   ]
  },
  {
   "cell_type": "code",
   "execution_count": 302,
   "id": "c2c9d36f",
   "metadata": {},
   "outputs": [
    {
     "data": {
      "text/html": [
       "<div>\n",
       "<style scoped>\n",
       "    .dataframe tbody tr th:only-of-type {\n",
       "        vertical-align: middle;\n",
       "    }\n",
       "\n",
       "    .dataframe tbody tr th {\n",
       "        vertical-align: top;\n",
       "    }\n",
       "\n",
       "    .dataframe thead th {\n",
       "        text-align: right;\n",
       "    }\n",
       "</style>\n",
       "<table border=\"1\" class=\"dataframe\">\n",
       "  <thead>\n",
       "    <tr style=\"text-align: right;\">\n",
       "      <th></th>\n",
       "      <th>소계</th>\n",
       "      <th>최근증가율</th>\n",
       "      <th>인구수</th>\n",
       "      <th>한국인</th>\n",
       "      <th>외국인</th>\n",
       "      <th>고령자</th>\n",
       "      <th>외국인비율</th>\n",
       "      <th>고령자비율</th>\n",
       "      <th>CCTV비율</th>\n",
       "    </tr>\n",
       "    <tr>\n",
       "      <th>구별</th>\n",
       "      <th></th>\n",
       "      <th></th>\n",
       "      <th></th>\n",
       "      <th></th>\n",
       "      <th></th>\n",
       "      <th></th>\n",
       "      <th></th>\n",
       "      <th></th>\n",
       "      <th></th>\n",
       "    </tr>\n",
       "  </thead>\n",
       "  <tbody>\n",
       "    <tr>\n",
       "      <th>강서구</th>\n",
       "      <td>911</td>\n",
       "      <td>134.793814</td>\n",
       "      <td>608255</td>\n",
       "      <td>601691</td>\n",
       "      <td>6564</td>\n",
       "      <td>76032</td>\n",
       "      <td>1.079153</td>\n",
       "      <td>12.500021</td>\n",
       "      <td>0.149773</td>\n",
       "    </tr>\n",
       "    <tr>\n",
       "      <th>송파구</th>\n",
       "      <td>1081</td>\n",
       "      <td>104.347826</td>\n",
       "      <td>671173</td>\n",
       "      <td>664496</td>\n",
       "      <td>6677</td>\n",
       "      <td>76582</td>\n",
       "      <td>0.994825</td>\n",
       "      <td>11.410173</td>\n",
       "      <td>0.161061</td>\n",
       "    </tr>\n",
       "    <tr>\n",
       "      <th>중랑구</th>\n",
       "      <td>916</td>\n",
       "      <td>79.960707</td>\n",
       "      <td>412780</td>\n",
       "      <td>408226</td>\n",
       "      <td>4554</td>\n",
       "      <td>59262</td>\n",
       "      <td>1.103251</td>\n",
       "      <td>14.356800</td>\n",
       "      <td>0.221910</td>\n",
       "    </tr>\n",
       "    <tr>\n",
       "      <th>강동구</th>\n",
       "      <td>1010</td>\n",
       "      <td>166.490765</td>\n",
       "      <td>440359</td>\n",
       "      <td>436223</td>\n",
       "      <td>4136</td>\n",
       "      <td>56161</td>\n",
       "      <td>0.939234</td>\n",
       "      <td>12.753458</td>\n",
       "      <td>0.229358</td>\n",
       "    </tr>\n",
       "    <tr>\n",
       "      <th>광진구</th>\n",
       "      <td>878</td>\n",
       "      <td>53.228621</td>\n",
       "      <td>372298</td>\n",
       "      <td>357703</td>\n",
       "      <td>14595</td>\n",
       "      <td>43953</td>\n",
       "      <td>3.920247</td>\n",
       "      <td>11.805865</td>\n",
       "      <td>0.235833</td>\n",
       "    </tr>\n",
       "  </tbody>\n",
       "</table>\n",
       "</div>"
      ],
      "text/plain": [
       "       소계       최근증가율     인구수     한국인    외국인    고령자     외국인비율      고령자비율  \\\n",
       "구별                                                                         \n",
       "강서구   911  134.793814  608255  601691   6564  76032  1.079153  12.500021   \n",
       "송파구  1081  104.347826  671173  664496   6677  76582  0.994825  11.410173   \n",
       "중랑구   916   79.960707  412780  408226   4554  59262  1.103251  14.356800   \n",
       "강동구  1010  166.490765  440359  436223   4136  56161  0.939234  12.753458   \n",
       "광진구   878   53.228621  372298  357703  14595  43953  3.920247  11.805865   \n",
       "\n",
       "       CCTV비율  \n",
       "구별             \n",
       "강서구  0.149773  \n",
       "송파구  0.161061  \n",
       "중랑구  0.221910  \n",
       "강동구  0.229358  \n",
       "광진구  0.235833  "
      ]
     },
     "execution_count": 302,
     "metadata": {},
     "output_type": "execute_result"
    }
   ],
   "source": [
    "data_result.sort_values(by=\"CCTV비율\", ascending=True).head()"
   ]
  },
  {
   "cell_type": "markdown",
   "id": "bec78f3f",
   "metadata": {},
   "source": [
    "---"
   ]
  },
  {
   "cell_type": "markdown",
   "id": "e26b0e3f",
   "metadata": {},
   "source": [
    "## matplotlib 기초"
   ]
  },
  {
   "cell_type": "code",
   "execution_count": 303,
   "id": "fb92e7c1",
   "metadata": {},
   "outputs": [],
   "source": [
    "import matplotlib.pyplot as plt \n",
    "from matplotlib import rc \n",
    "\n",
    "rc(\"font\", family=\"Malgun Gothic\") # Windows : Malgu Gothic \n",
    "# %matplotlib inline \n",
    "get_ipython().run_line_magic(\"matplotlib\", \"inline\") # 바로 그래프를 보여주는 설정"
   ]
  },
  {
   "cell_type": "markdown",
   "id": "d012fbbe",
   "metadata": {},
   "source": [
    "matplotlib 그래프 기본 형태 \n",
    "\n",
    "\n",
    "```\n",
    "plt.figure(figsize=(10, 6))\n",
    "plt.plot(x, y)\n",
    "plt.show\n",
    "```"
   ]
  },
  {
   "cell_type": "code",
   "execution_count": 304,
   "id": "f201e3a7",
   "metadata": {},
   "outputs": [
    {
     "data": {
      "image/png": "[encoded data removed]",
      "text/plain": [
       "<Figure size 1000x600 with 1 Axes>"
      ]
     },
     "metadata": {},
     "output_type": "display_data"
    }
   ],
   "source": [
    "plt.figure(figsize=(10, 6)) # 데이터 배경 설정\n",
    "plt.plot([0, 1, 2, 3, 4, 5, 6, 7, 8, 9], [1, 1, 2, 3, 4, 2, 3, 5, -1, 3])\n",
    "plt.show()"
   ]
  },
  {
   "cell_type": "markdown",
   "id": "25f505fd",
   "metadata": {},
   "source": [
    "### 예제1: 그래프 기초 "
   ]
  },
  {
   "cell_type": "markdown",
   "id": "a9034f20",
   "metadata": {},
   "source": [
    "#### 삼각함수 그리기\n",
    "- np.arange(a, b, s): a부터 b까지 s의 간격 \n",
    "- np.sin(value)"
   ]
  },
  {
   "cell_type": "code",
   "execution_count": 305,
   "id": "81640336",
   "metadata": {},
   "outputs": [],
   "source": [
    "import numpy as np \n",
    "\n",
    "t = np.arange(0, 12, 0.01)\n",
    "y = np.sin(t)"
   ]
  },
  {
   "cell_type": "code",
   "execution_count": 306,
   "id": "8392874a",
   "metadata": {},
   "outputs": [
    {
     "data": {
      "image/png": "[encoded data removed]",
      "text/plain": [
       "<Figure size 1000x600 with 1 Axes>"
      ]
     },
     "metadata": {},
     "output_type": "display_data"
    }
   ],
   "source": [
    "plt.figure(figsize=(10, 6))\n",
    "plt.plot(t, np.sin(t))\n",
    "plt.plot(t, np.cos(t))\n",
    "plt.show()"
   ]
  },
  {
   "cell_type": "markdown",
   "id": "1f8895fe",
   "metadata": {},
   "source": [
    "### 예제2: 그래프 커스텀"
   ]
  },
  {
   "cell_type": "code",
   "execution_count": 307,
   "id": "a46e555a",
   "metadata": {},
   "outputs": [
    {
     "data": {
      "text/plain": [
       "array([0. , 0.5, 1. , 1.5, 2. , 2.5, 3. , 3.5, 4. , 4.5])"
      ]
     },
     "execution_count": 307,
     "metadata": {},
     "output_type": "execute_result"
    }
   ],
   "source": [
    "t = np.arange(0, 5, 0.5)\n",
    "t"
   ]
  },
  {
   "cell_type": "code",
   "execution_count": 308,
   "id": "71e9413f",
   "metadata": {},
   "outputs": [
    {
     "data": {
      "image/png": "[encoded data removed]",
      "text/plain": [
       "<Figure size 1000x600 with 1 Axes>"
      ]
     },
     "metadata": {},
     "output_type": "display_data"
    }
   ],
   "source": [
    "plt.figure(figsize=(10, 6))\n",
    "plt.plot(t, t, \"r--\") # red ---- \n",
    "plt.plot(t, t ** 2, \"bs\")\n",
    "plt.plot(t, t ** 3, \"g>\")\n",
    "plt.show()"
   ]
  },
  {
   "cell_type": "code",
   "execution_count": 309,
   "id": "6fd073e6",
   "metadata": {},
   "outputs": [],
   "source": [
    "# t = [0, 1, 2, 3, 4, 5, 6]\n",
    "t = list(range(0, 7))\n",
    "y = [1, 4, 5, 8, 9, 5, 3]"
   ]
  },
  {
   "cell_type": "code",
   "execution_count": 310,
   "id": "7a843463",
   "metadata": {},
   "outputs": [
    {
     "data": {
      "image/png": "[encoded data removed]",
      "text/plain": [
       "<Figure size 1000x600 with 1 Axes>"
      ]
     },
     "metadata": {},
     "output_type": "display_data"
    }
   ],
   "source": [
    "def drawGraph():\n",
    "\n",
    "    plt.figure(figsize=(10, 6))\n",
    "    plt.plot(\n",
    "        t,\n",
    "        y,\n",
    "        color=\"red\", \n",
    "        linestyle=\"--\", \n",
    "        marker=\"o\", \n",
    "        markerfacecolor=\"blue\",\n",
    "        markersize=10, \n",
    "    )\n",
    "\n",
    "    plt.xlim([-0.5, 6.5]) \n",
    "    plt.ylim([0.5, 9.5])\n",
    "    plt.show() \n",
    "    \n",
    "drawGraph()"
   ]
  },
  {
   "cell_type": "markdown",
   "id": "3db9676c",
   "metadata": {},
   "source": [
    "### 예제3: scatter plot"
   ]
  },
  {
   "cell_type": "code",
   "execution_count": 311,
   "id": "4c6f62ff",
   "metadata": {},
   "outputs": [],
   "source": [
    "t = np.array(range(0, 10))\n",
    "y = np.array([9, 8, 7, 9, 8, 3, 2, 4, 3, 4])"
   ]
  },
  {
   "cell_type": "code",
   "execution_count": 312,
   "id": "700b5482",
   "metadata": {},
   "outputs": [
    {
     "data": {
      "image/png": "[encoded data removed]",
      "text/plain": [
       "<Figure size 1000x600 with 1 Axes>"
      ]
     },
     "metadata": {},
     "output_type": "display_data"
    }
   ],
   "source": [
    "def drawGraph():\n",
    "\n",
    "    plt.figure(figsize=(10, 6))\n",
    "    plt.scatter(t, y)\n",
    "    plt.show()\n",
    "    \n",
    "drawGraph()"
   ]
  },
  {
   "cell_type": "code",
   "execution_count": 313,
   "id": "c6915b2e",
   "metadata": {},
   "outputs": [
    {
     "data": {
      "image/png": "[encoded data removed]",
      "text/plain": [
       "<Figure size 1000x600 with 2 Axes>"
      ]
     },
     "metadata": {},
     "output_type": "display_data"
    }
   ],
   "source": [
    "colormap = t \n",
    "\n",
    "def drawGraph():\n",
    "\n",
    "    plt.figure(figsize=(10, 6))\n",
    "    plt.scatter(t, y, s=150, c=colormap, marker=\"<\")\n",
    "    plt.colorbar()\n",
    "    plt.show()\n",
    "    \n",
    "drawGraph()"
   ]
  },
  {
   "cell_type": "markdown",
   "id": "010922b6",
   "metadata": {},
   "source": [
    "### 예제4: Pandas에서 plot 그리기 \n",
    "- matplotlib 을 가져와서 사용합니다"
   ]
  },
  {
   "cell_type": "code",
   "execution_count": 314,
   "id": "4f14f3a9",
   "metadata": {},
   "outputs": [
    {
     "data": {
      "text/html": [
       "<div>\n",
       "<style scoped>\n",
       "    .dataframe tbody tr th:only-of-type {\n",
       "        vertical-align: middle;\n",
       "    }\n",
       "\n",
       "    .dataframe tbody tr th {\n",
       "        vertical-align: top;\n",
       "    }\n",
       "\n",
       "    .dataframe thead th {\n",
       "        text-align: right;\n",
       "    }\n",
       "</style>\n",
       "<table border=\"1\" class=\"dataframe\">\n",
       "  <thead>\n",
       "    <tr style=\"text-align: right;\">\n",
       "      <th></th>\n",
       "      <th>소계</th>\n",
       "      <th>최근증가율</th>\n",
       "      <th>인구수</th>\n",
       "      <th>한국인</th>\n",
       "      <th>외국인</th>\n",
       "      <th>고령자</th>\n",
       "      <th>외국인비율</th>\n",
       "      <th>고령자비율</th>\n",
       "      <th>CCTV비율</th>\n",
       "    </tr>\n",
       "    <tr>\n",
       "      <th>구별</th>\n",
       "      <th></th>\n",
       "      <th></th>\n",
       "      <th></th>\n",
       "      <th></th>\n",
       "      <th></th>\n",
       "      <th></th>\n",
       "      <th></th>\n",
       "      <th></th>\n",
       "      <th></th>\n",
       "    </tr>\n",
       "  </thead>\n",
       "  <tbody>\n",
       "    <tr>\n",
       "      <th>강남구</th>\n",
       "      <td>3238</td>\n",
       "      <td>150.619195</td>\n",
       "      <td>561052</td>\n",
       "      <td>556164</td>\n",
       "      <td>4888</td>\n",
       "      <td>65060</td>\n",
       "      <td>0.871220</td>\n",
       "      <td>11.596073</td>\n",
       "      <td>0.577130</td>\n",
       "    </tr>\n",
       "    <tr>\n",
       "      <th>강동구</th>\n",
       "      <td>1010</td>\n",
       "      <td>166.490765</td>\n",
       "      <td>440359</td>\n",
       "      <td>436223</td>\n",
       "      <td>4136</td>\n",
       "      <td>56161</td>\n",
       "      <td>0.939234</td>\n",
       "      <td>12.753458</td>\n",
       "      <td>0.229358</td>\n",
       "    </tr>\n",
       "    <tr>\n",
       "      <th>강북구</th>\n",
       "      <td>831</td>\n",
       "      <td>125.203252</td>\n",
       "      <td>328002</td>\n",
       "      <td>324479</td>\n",
       "      <td>3523</td>\n",
       "      <td>56530</td>\n",
       "      <td>1.074079</td>\n",
       "      <td>17.234651</td>\n",
       "      <td>0.253352</td>\n",
       "    </tr>\n",
       "    <tr>\n",
       "      <th>강서구</th>\n",
       "      <td>911</td>\n",
       "      <td>134.793814</td>\n",
       "      <td>608255</td>\n",
       "      <td>601691</td>\n",
       "      <td>6564</td>\n",
       "      <td>76032</td>\n",
       "      <td>1.079153</td>\n",
       "      <td>12.500021</td>\n",
       "      <td>0.149773</td>\n",
       "    </tr>\n",
       "    <tr>\n",
       "      <th>관악구</th>\n",
       "      <td>2109</td>\n",
       "      <td>149.290780</td>\n",
       "      <td>520929</td>\n",
       "      <td>503297</td>\n",
       "      <td>17632</td>\n",
       "      <td>70046</td>\n",
       "      <td>3.384722</td>\n",
       "      <td>13.446362</td>\n",
       "      <td>0.404854</td>\n",
       "    </tr>\n",
       "  </tbody>\n",
       "</table>\n",
       "</div>"
      ],
      "text/plain": [
       "       소계       최근증가율     인구수     한국인    외국인    고령자     외국인비율      고령자비율  \\\n",
       "구별                                                                         \n",
       "강남구  3238  150.619195  561052  556164   4888  65060  0.871220  11.596073   \n",
       "강동구  1010  166.490765  440359  436223   4136  56161  0.939234  12.753458   \n",
       "강북구   831  125.203252  328002  324479   3523  56530  1.074079  17.234651   \n",
       "강서구   911  134.793814  608255  601691   6564  76032  1.079153  12.500021   \n",
       "관악구  2109  149.290780  520929  503297  17632  70046  3.384722  13.446362   \n",
       "\n",
       "       CCTV비율  \n",
       "구별             \n",
       "강남구  0.577130  \n",
       "강동구  0.229358  \n",
       "강북구  0.253352  \n",
       "강서구  0.149773  \n",
       "관악구  0.404854  "
      ]
     },
     "execution_count": 314,
     "metadata": {},
     "output_type": "execute_result"
    }
   ],
   "source": [
    "data_result.head()"
   ]
  },
  {
   "cell_type": "code",
   "execution_count": 315,
   "id": "bebc9711",
   "metadata": {},
   "outputs": [
    {
     "data": {
      "image/png": "[encoded data removed]",
      "text/plain": [
       "<Figure size 1000x1000 with 1 Axes>"
      ]
     },
     "metadata": {},
     "output_type": "display_data"
    }
   ],
   "source": [
    "data_result[\"인구수\"].plot(kind=\"bar\", figsize=(10, 10));"
   ]
  },
  {
   "cell_type": "code",
   "execution_count": 316,
   "id": "f0464378",
   "metadata": {},
   "outputs": [
    {
     "data": {
      "image/png": "[encoded data removed]",
      "text/plain": [
       "<Figure size 1000x1000 with 1 Axes>"
      ]
     },
     "metadata": {},
     "output_type": "display_data"
    }
   ],
   "source": [
    "data_result[\"인구수\"].plot(kind=\"barh\", figsize=(10, 10));"
   ]
  },
  {
   "cell_type": "markdown",
   "id": "ce78bfc4",
   "metadata": {},
   "source": [
    "---"
   ]
  },
  {
   "cell_type": "markdown",
   "id": "fbe17b83",
   "metadata": {},
   "source": [
    "## 5. 데이터 시각화"
   ]
  },
  {
   "cell_type": "code",
   "execution_count": 317,
   "id": "7d55b2ce",
   "metadata": {},
   "outputs": [],
   "source": [
    "import matplotlib.pyplot as plt \n",
    "# import matplotlib as mpl \n",
    "from matplotlib import rc\n",
    "\n",
    "plt.rcParams[\"axes.unicode_minus\"] = False # 마이너스 부호 때문에 한글이 깨질 수가 있어 주는 설정\n",
    "rc(\"font\", family=\"Malgun Gothic\") # Windows: Malgun Gothic \n",
    "# %matplotlib inline \n",
    "get_ipython().run_line_magic(\"matplotlib\", \"inline\")"
   ]
  },
  {
   "cell_type": "code",
   "execution_count": 318,
   "id": "e5706888",
   "metadata": {},
   "outputs": [
    {
     "data": {
      "text/html": [
       "<div>\n",
       "<style scoped>\n",
       "    .dataframe tbody tr th:only-of-type {\n",
       "        vertical-align: middle;\n",
       "    }\n",
       "\n",
       "    .dataframe tbody tr th {\n",
       "        vertical-align: top;\n",
       "    }\n",
       "\n",
       "    .dataframe thead th {\n",
       "        text-align: right;\n",
       "    }\n",
       "</style>\n",
       "<table border=\"1\" class=\"dataframe\">\n",
       "  <thead>\n",
       "    <tr style=\"text-align: right;\">\n",
       "      <th></th>\n",
       "      <th>소계</th>\n",
       "      <th>최근증가율</th>\n",
       "      <th>인구수</th>\n",
       "      <th>한국인</th>\n",
       "      <th>외국인</th>\n",
       "      <th>고령자</th>\n",
       "      <th>외국인비율</th>\n",
       "      <th>고령자비율</th>\n",
       "      <th>CCTV비율</th>\n",
       "    </tr>\n",
       "    <tr>\n",
       "      <th>구별</th>\n",
       "      <th></th>\n",
       "      <th></th>\n",
       "      <th></th>\n",
       "      <th></th>\n",
       "      <th></th>\n",
       "      <th></th>\n",
       "      <th></th>\n",
       "      <th></th>\n",
       "      <th></th>\n",
       "    </tr>\n",
       "  </thead>\n",
       "  <tbody>\n",
       "    <tr>\n",
       "      <th>강남구</th>\n",
       "      <td>3238</td>\n",
       "      <td>150.619195</td>\n",
       "      <td>561052</td>\n",
       "      <td>556164</td>\n",
       "      <td>4888</td>\n",
       "      <td>65060</td>\n",
       "      <td>0.871220</td>\n",
       "      <td>11.596073</td>\n",
       "      <td>0.577130</td>\n",
       "    </tr>\n",
       "    <tr>\n",
       "      <th>강동구</th>\n",
       "      <td>1010</td>\n",
       "      <td>166.490765</td>\n",
       "      <td>440359</td>\n",
       "      <td>436223</td>\n",
       "      <td>4136</td>\n",
       "      <td>56161</td>\n",
       "      <td>0.939234</td>\n",
       "      <td>12.753458</td>\n",
       "      <td>0.229358</td>\n",
       "    </tr>\n",
       "    <tr>\n",
       "      <th>강북구</th>\n",
       "      <td>831</td>\n",
       "      <td>125.203252</td>\n",
       "      <td>328002</td>\n",
       "      <td>324479</td>\n",
       "      <td>3523</td>\n",
       "      <td>56530</td>\n",
       "      <td>1.074079</td>\n",
       "      <td>17.234651</td>\n",
       "      <td>0.253352</td>\n",
       "    </tr>\n",
       "    <tr>\n",
       "      <th>강서구</th>\n",
       "      <td>911</td>\n",
       "      <td>134.793814</td>\n",
       "      <td>608255</td>\n",
       "      <td>601691</td>\n",
       "      <td>6564</td>\n",
       "      <td>76032</td>\n",
       "      <td>1.079153</td>\n",
       "      <td>12.500021</td>\n",
       "      <td>0.149773</td>\n",
       "    </tr>\n",
       "    <tr>\n",
       "      <th>관악구</th>\n",
       "      <td>2109</td>\n",
       "      <td>149.290780</td>\n",
       "      <td>520929</td>\n",
       "      <td>503297</td>\n",
       "      <td>17632</td>\n",
       "      <td>70046</td>\n",
       "      <td>3.384722</td>\n",
       "      <td>13.446362</td>\n",
       "      <td>0.404854</td>\n",
       "    </tr>\n",
       "  </tbody>\n",
       "</table>\n",
       "</div>"
      ],
      "text/plain": [
       "       소계       최근증가율     인구수     한국인    외국인    고령자     외국인비율      고령자비율  \\\n",
       "구별                                                                         \n",
       "강남구  3238  150.619195  561052  556164   4888  65060  0.871220  11.596073   \n",
       "강동구  1010  166.490765  440359  436223   4136  56161  0.939234  12.753458   \n",
       "강북구   831  125.203252  328002  324479   3523  56530  1.074079  17.234651   \n",
       "강서구   911  134.793814  608255  601691   6564  76032  1.079153  12.500021   \n",
       "관악구  2109  149.290780  520929  503297  17632  70046  3.384722  13.446362   \n",
       "\n",
       "       CCTV비율  \n",
       "구별             \n",
       "강남구  0.577130  \n",
       "강동구  0.229358  \n",
       "강북구  0.253352  \n",
       "강서구  0.149773  \n",
       "관악구  0.404854  "
      ]
     },
     "execution_count": 318,
     "metadata": {},
     "output_type": "execute_result"
    }
   ],
   "source": [
    "data_result.head()"
   ]
  },
  {
   "cell_type": "markdown",
   "id": "519ebf01",
   "metadata": {},
   "source": [
    "#### 소계 컬럼 시각화"
   ]
  },
  {
   "cell_type": "code",
   "execution_count": 319,
   "id": "3bbc5dce",
   "metadata": {},
   "outputs": [
    {
     "data": {
      "image/png": "[encoded data removed]",
      "text/plain": [
       "<Figure size 1000x1000 with 1 Axes>"
      ]
     },
     "metadata": {},
     "output_type": "display_data"
    }
   ],
   "source": [
    "data_result[\"소계\"].plot(kind=\"barh\", grid=True, figsize=(10, 10));"
   ]
  },
  {
   "cell_type": "code",
   "execution_count": 320,
   "id": "a786b7a4",
   "metadata": {},
   "outputs": [
    {
     "data": {
      "image/png": "[encoded data removed]",
      "text/plain": [
       "<Figure size 1000x1000 with 1 Axes>"
      ]
     },
     "metadata": {},
     "output_type": "display_data"
    }
   ],
   "source": [
    "def drawGraph():\n",
    "    data_result[\"소계\"].sort_values().plot(\n",
    "        kind=\"barh\", grid=True, title=\"가장 CCTV가 많은 구\", figsize=(10, 10));\n",
    "drawGraph()"
   ]
  },
  {
   "cell_type": "code",
   "execution_count": 321,
   "id": "ec7e2d46",
   "metadata": {},
   "outputs": [
    {
     "data": {
      "text/html": [
       "<div>\n",
       "<style scoped>\n",
       "    .dataframe tbody tr th:only-of-type {\n",
       "        vertical-align: middle;\n",
       "    }\n",
       "\n",
       "    .dataframe tbody tr th {\n",
       "        vertical-align: top;\n",
       "    }\n",
       "\n",
       "    .dataframe thead th {\n",
       "        text-align: right;\n",
       "    }\n",
       "</style>\n",
       "<table border=\"1\" class=\"dataframe\">\n",
       "  <thead>\n",
       "    <tr style=\"text-align: right;\">\n",
       "      <th></th>\n",
       "      <th>소계</th>\n",
       "      <th>최근증가율</th>\n",
       "      <th>인구수</th>\n",
       "      <th>한국인</th>\n",
       "      <th>외국인</th>\n",
       "      <th>고령자</th>\n",
       "      <th>외국인비율</th>\n",
       "      <th>고령자비율</th>\n",
       "      <th>CCTV비율</th>\n",
       "    </tr>\n",
       "    <tr>\n",
       "      <th>구별</th>\n",
       "      <th></th>\n",
       "      <th></th>\n",
       "      <th></th>\n",
       "      <th></th>\n",
       "      <th></th>\n",
       "      <th></th>\n",
       "      <th></th>\n",
       "      <th></th>\n",
       "      <th></th>\n",
       "    </tr>\n",
       "  </thead>\n",
       "  <tbody>\n",
       "    <tr>\n",
       "      <th>강남구</th>\n",
       "      <td>3238</td>\n",
       "      <td>150.619195</td>\n",
       "      <td>561052</td>\n",
       "      <td>556164</td>\n",
       "      <td>4888</td>\n",
       "      <td>65060</td>\n",
       "      <td>0.871220</td>\n",
       "      <td>11.596073</td>\n",
       "      <td>0.577130</td>\n",
       "    </tr>\n",
       "    <tr>\n",
       "      <th>강동구</th>\n",
       "      <td>1010</td>\n",
       "      <td>166.490765</td>\n",
       "      <td>440359</td>\n",
       "      <td>436223</td>\n",
       "      <td>4136</td>\n",
       "      <td>56161</td>\n",
       "      <td>0.939234</td>\n",
       "      <td>12.753458</td>\n",
       "      <td>0.229358</td>\n",
       "    </tr>\n",
       "    <tr>\n",
       "      <th>강북구</th>\n",
       "      <td>831</td>\n",
       "      <td>125.203252</td>\n",
       "      <td>328002</td>\n",
       "      <td>324479</td>\n",
       "      <td>3523</td>\n",
       "      <td>56530</td>\n",
       "      <td>1.074079</td>\n",
       "      <td>17.234651</td>\n",
       "      <td>0.253352</td>\n",
       "    </tr>\n",
       "    <tr>\n",
       "      <th>강서구</th>\n",
       "      <td>911</td>\n",
       "      <td>134.793814</td>\n",
       "      <td>608255</td>\n",
       "      <td>601691</td>\n",
       "      <td>6564</td>\n",
       "      <td>76032</td>\n",
       "      <td>1.079153</td>\n",
       "      <td>12.500021</td>\n",
       "      <td>0.149773</td>\n",
       "    </tr>\n",
       "    <tr>\n",
       "      <th>관악구</th>\n",
       "      <td>2109</td>\n",
       "      <td>149.290780</td>\n",
       "      <td>520929</td>\n",
       "      <td>503297</td>\n",
       "      <td>17632</td>\n",
       "      <td>70046</td>\n",
       "      <td>3.384722</td>\n",
       "      <td>13.446362</td>\n",
       "      <td>0.404854</td>\n",
       "    </tr>\n",
       "  </tbody>\n",
       "</table>\n",
       "</div>"
      ],
      "text/plain": [
       "       소계       최근증가율     인구수     한국인    외국인    고령자     외국인비율      고령자비율  \\\n",
       "구별                                                                         \n",
       "강남구  3238  150.619195  561052  556164   4888  65060  0.871220  11.596073   \n",
       "강동구  1010  166.490765  440359  436223   4136  56161  0.939234  12.753458   \n",
       "강북구   831  125.203252  328002  324479   3523  56530  1.074079  17.234651   \n",
       "강서구   911  134.793814  608255  601691   6564  76032  1.079153  12.500021   \n",
       "관악구  2109  149.290780  520929  503297  17632  70046  3.384722  13.446362   \n",
       "\n",
       "       CCTV비율  \n",
       "구별             \n",
       "강남구  0.577130  \n",
       "강동구  0.229358  \n",
       "강북구  0.253352  \n",
       "강서구  0.149773  \n",
       "관악구  0.404854  "
      ]
     },
     "execution_count": 321,
     "metadata": {},
     "output_type": "execute_result"
    }
   ],
   "source": [
    "data_result.head()"
   ]
  },
  {
   "cell_type": "markdown",
   "id": "30a7ac8f",
   "metadata": {},
   "source": [
    "#### CCTV비율 컬럼 시각화"
   ]
  },
  {
   "cell_type": "code",
   "execution_count": 322,
   "id": "bb83d645",
   "metadata": {},
   "outputs": [
    {
     "data": {
      "image/png": "[encoded data removed]",
      "text/plain": [
       "<Figure size 1000x1000 with 1 Axes>"
      ]
     },
     "metadata": {},
     "output_type": "display_data"
    }
   ],
   "source": [
    "def drawGraph():\n",
    "    data_result[\"CCTV비율\"].sort_values().plot(\n",
    "        kind=\"barh\", grid=True, title=\"가장 CCTV가 많은 구\", figsize=(10, 10));\n",
    "drawGraph()"
   ]
  },
  {
   "cell_type": "markdown",
   "id": "b9f54ffe",
   "metadata": {},
   "source": [
    "## 6. 데이터의 경향 표시"
   ]
  },
  {
   "cell_type": "code",
   "execution_count": 323,
   "id": "1b687715",
   "metadata": {},
   "outputs": [
    {
     "data": {
      "text/html": [
       "<div>\n",
       "<style scoped>\n",
       "    .dataframe tbody tr th:only-of-type {\n",
       "        vertical-align: middle;\n",
       "    }\n",
       "\n",
       "    .dataframe tbody tr th {\n",
       "        vertical-align: top;\n",
       "    }\n",
       "\n",
       "    .dataframe thead th {\n",
       "        text-align: right;\n",
       "    }\n",
       "</style>\n",
       "<table border=\"1\" class=\"dataframe\">\n",
       "  <thead>\n",
       "    <tr style=\"text-align: right;\">\n",
       "      <th></th>\n",
       "      <th>소계</th>\n",
       "      <th>최근증가율</th>\n",
       "      <th>인구수</th>\n",
       "      <th>한국인</th>\n",
       "      <th>외국인</th>\n",
       "      <th>고령자</th>\n",
       "      <th>외국인비율</th>\n",
       "      <th>고령자비율</th>\n",
       "      <th>CCTV비율</th>\n",
       "    </tr>\n",
       "    <tr>\n",
       "      <th>구별</th>\n",
       "      <th></th>\n",
       "      <th></th>\n",
       "      <th></th>\n",
       "      <th></th>\n",
       "      <th></th>\n",
       "      <th></th>\n",
       "      <th></th>\n",
       "      <th></th>\n",
       "      <th></th>\n",
       "    </tr>\n",
       "  </thead>\n",
       "  <tbody>\n",
       "    <tr>\n",
       "      <th>강남구</th>\n",
       "      <td>3238</td>\n",
       "      <td>150.619195</td>\n",
       "      <td>561052</td>\n",
       "      <td>556164</td>\n",
       "      <td>4888</td>\n",
       "      <td>65060</td>\n",
       "      <td>0.871220</td>\n",
       "      <td>11.596073</td>\n",
       "      <td>0.577130</td>\n",
       "    </tr>\n",
       "    <tr>\n",
       "      <th>강동구</th>\n",
       "      <td>1010</td>\n",
       "      <td>166.490765</td>\n",
       "      <td>440359</td>\n",
       "      <td>436223</td>\n",
       "      <td>4136</td>\n",
       "      <td>56161</td>\n",
       "      <td>0.939234</td>\n",
       "      <td>12.753458</td>\n",
       "      <td>0.229358</td>\n",
       "    </tr>\n",
       "    <tr>\n",
       "      <th>강북구</th>\n",
       "      <td>831</td>\n",
       "      <td>125.203252</td>\n",
       "      <td>328002</td>\n",
       "      <td>324479</td>\n",
       "      <td>3523</td>\n",
       "      <td>56530</td>\n",
       "      <td>1.074079</td>\n",
       "      <td>17.234651</td>\n",
       "      <td>0.253352</td>\n",
       "    </tr>\n",
       "    <tr>\n",
       "      <th>강서구</th>\n",
       "      <td>911</td>\n",
       "      <td>134.793814</td>\n",
       "      <td>608255</td>\n",
       "      <td>601691</td>\n",
       "      <td>6564</td>\n",
       "      <td>76032</td>\n",
       "      <td>1.079153</td>\n",
       "      <td>12.500021</td>\n",
       "      <td>0.149773</td>\n",
       "    </tr>\n",
       "    <tr>\n",
       "      <th>관악구</th>\n",
       "      <td>2109</td>\n",
       "      <td>149.290780</td>\n",
       "      <td>520929</td>\n",
       "      <td>503297</td>\n",
       "      <td>17632</td>\n",
       "      <td>70046</td>\n",
       "      <td>3.384722</td>\n",
       "      <td>13.446362</td>\n",
       "      <td>0.404854</td>\n",
       "    </tr>\n",
       "  </tbody>\n",
       "</table>\n",
       "</div>"
      ],
      "text/plain": [
       "       소계       최근증가율     인구수     한국인    외국인    고령자     외국인비율      고령자비율  \\\n",
       "구별                                                                         \n",
       "강남구  3238  150.619195  561052  556164   4888  65060  0.871220  11.596073   \n",
       "강동구  1010  166.490765  440359  436223   4136  56161  0.939234  12.753458   \n",
       "강북구   831  125.203252  328002  324479   3523  56530  1.074079  17.234651   \n",
       "강서구   911  134.793814  608255  601691   6564  76032  1.079153  12.500021   \n",
       "관악구  2109  149.290780  520929  503297  17632  70046  3.384722  13.446362   \n",
       "\n",
       "       CCTV비율  \n",
       "구별             \n",
       "강남구  0.577130  \n",
       "강동구  0.229358  \n",
       "강북구  0.253352  \n",
       "강서구  0.149773  \n",
       "관악구  0.404854  "
      ]
     },
     "execution_count": 323,
     "metadata": {},
     "output_type": "execute_result"
    }
   ],
   "source": [
    "data_result.head()"
   ]
  },
  {
   "cell_type": "markdown",
   "id": "ad7b104d",
   "metadata": {},
   "source": [
    "#### 인구수와 소계 컬럼으로 scatter plot 그리기"
   ]
  },
  {
   "cell_type": "code",
   "execution_count": 324,
   "id": "296c4b75",
   "metadata": {},
   "outputs": [
    {
     "data": {
      "image/png": "[encoded data removed]",
      "text/plain": [
       "<Figure size 1400x1000 with 1 Axes>"
      ]
     },
     "metadata": {},
     "output_type": "display_data"
    }
   ],
   "source": [
    "def drawGraph():\n",
    "    \n",
    "    plt.figure(figsize=(14, 10))\n",
    "    plt.scatter(data_result[\"인구수\"], data_result[\"소계\"], s=50)\n",
    "    plt.xlabel(\"인구수\")\n",
    "    plt.ylabel(\"CCTV\")\n",
    "    plt.grid(True)\n",
    "    plt.show() \n",
    "drawGraph()"
   ]
  },
  {
   "cell_type": "markdown",
   "id": "d664a8e8",
   "metadata": {},
   "source": [
    "#### Numpy를 이용한 1차 직선 만들기 \n",
    "- np.polyfit(): 직선을 구성하기 위한 계수를 계산\n",
    "- np.poly1d(): polyfit 으로 찾은 계수로 파이썬에서 사용할 수 있는 함수로 만들어주는 기능 "
   ]
  },
  {
   "cell_type": "code",
   "execution_count": 325,
   "id": "a476fe87",
   "metadata": {},
   "outputs": [],
   "source": [
    "import numpy as np "
   ]
  },
  {
   "cell_type": "code",
   "execution_count": 326,
   "id": "ff05306e",
   "metadata": {},
   "outputs": [
    {
     "data": {
      "text/plain": [
       "array([1.11155868e-03, 1.06515745e+03])"
      ]
     },
     "execution_count": 326,
     "metadata": {},
     "output_type": "execute_result"
    }
   ],
   "source": [
    "fp1 = np.polyfit(data_result[\"인구수\"], data_result[\"소계\"], 1)\n",
    "fp1"
   ]
  },
  {
   "cell_type": "code",
   "execution_count": 327,
   "id": "99d39a87",
   "metadata": {},
   "outputs": [
    {
     "data": {
      "text/plain": [
       "poly1d([1.11155868e-03, 1.06515745e+03])"
      ]
     },
     "execution_count": 327,
     "metadata": {},
     "output_type": "execute_result"
    }
   ],
   "source": [
    "f1 = np.poly1d(fp1)\n",
    "f1"
   ]
  },
  {
   "cell_type": "markdown",
   "id": "218e3bea",
   "metadata": {},
   "source": [
    "- 인구가 40만인 구에서 서울시의 전체 경향에 맞는 적당한 CCTV 수는? "
   ]
  },
  {
   "cell_type": "code",
   "execution_count": 328,
   "id": "172f7fc8",
   "metadata": {},
   "outputs": [],
   "source": [
    "fx = np.linspace(100000, 700000, 100)"
   ]
  },
  {
   "cell_type": "markdown",
   "id": "ab46d344",
   "metadata": {},
   "source": [
    "- 경향선을 그리기 위한 X 데이터 생성 \n",
    "- np.linspace(a, b, n): a부터 b까지 n개의 등간격 데이터 생성 "
   ]
  },
  {
   "cell_type": "code",
   "execution_count": 329,
   "id": "62a502a4",
   "metadata": {},
   "outputs": [
    {
     "data": {
      "image/png": "[encoded data removed]",
      "text/plain": [
       "<Figure size 1400x1000 with 1 Axes>"
      ]
     },
     "metadata": {},
     "output_type": "display_data"
    }
   ],
   "source": [
    "def drawGraph():\n",
    "    \n",
    "    plt.figure(figsize=(14, 10))\n",
    "    plt.scatter(data_result[\"인구수\"], data_result[\"소계\"], s=50)\n",
    "    plt.plot(fx, f1(fx), ls=\"dashed\", lw=3, color=\"g\")\n",
    "    plt.xlabel(\"인구수\")\n",
    "    plt.ylabel(\"CCTV\")\n",
    "    plt.grid(True)\n",
    "    plt.show() \n",
    "drawGraph()"
   ]
  },
  {
   "cell_type": "markdown",
   "id": "24b02157",
   "metadata": {},
   "source": [
    "## 7. 강조하고 싶은 데이터를 시각화해보자"
   ]
  },
  {
   "cell_type": "markdown",
   "id": "9f09e1f4",
   "metadata": {},
   "source": [
    "### 그래프 다듬기 \n",
    "#### 경향과의 오차 만들기 \n",
    "- 경향(trend)과의 오차를 만들자 \n",
    "- 경향은 f1 함수에 해당 인구를 입력 \n",
    "- f1(data_result[\"인구수\"])"
   ]
  },
  {
   "cell_type": "code",
   "execution_count": 330,
   "id": "838644f0",
   "metadata": {},
   "outputs": [],
   "source": [
    "fp1 = np.polyfit(data_result[\"인구수\"], data_result[\"소계\"], 1) \n",
    "f1 = np.poly1d(fp1) \n",
    "fx = np.linspace(100000, 700000, 100) "
   ]
  },
  {
   "cell_type": "code",
   "execution_count": 331,
   "id": "7931c162",
   "metadata": {},
   "outputs": [
    {
     "data": {
      "text/html": [
       "<div>\n",
       "<style scoped>\n",
       "    .dataframe tbody tr th:only-of-type {\n",
       "        vertical-align: middle;\n",
       "    }\n",
       "\n",
       "    .dataframe tbody tr th {\n",
       "        vertical-align: top;\n",
       "    }\n",
       "\n",
       "    .dataframe thead th {\n",
       "        text-align: right;\n",
       "    }\n",
       "</style>\n",
       "<table border=\"1\" class=\"dataframe\">\n",
       "  <thead>\n",
       "    <tr style=\"text-align: right;\">\n",
       "      <th></th>\n",
       "      <th>소계</th>\n",
       "      <th>최근증가율</th>\n",
       "      <th>인구수</th>\n",
       "      <th>한국인</th>\n",
       "      <th>외국인</th>\n",
       "      <th>고령자</th>\n",
       "      <th>외국인비율</th>\n",
       "      <th>고령자비율</th>\n",
       "      <th>CCTV비율</th>\n",
       "    </tr>\n",
       "    <tr>\n",
       "      <th>구별</th>\n",
       "      <th></th>\n",
       "      <th></th>\n",
       "      <th></th>\n",
       "      <th></th>\n",
       "      <th></th>\n",
       "      <th></th>\n",
       "      <th></th>\n",
       "      <th></th>\n",
       "      <th></th>\n",
       "    </tr>\n",
       "  </thead>\n",
       "  <tbody>\n",
       "    <tr>\n",
       "      <th>강남구</th>\n",
       "      <td>3238</td>\n",
       "      <td>150.619195</td>\n",
       "      <td>561052</td>\n",
       "      <td>556164</td>\n",
       "      <td>4888</td>\n",
       "      <td>65060</td>\n",
       "      <td>0.871220</td>\n",
       "      <td>11.596073</td>\n",
       "      <td>0.577130</td>\n",
       "    </tr>\n",
       "    <tr>\n",
       "      <th>강동구</th>\n",
       "      <td>1010</td>\n",
       "      <td>166.490765</td>\n",
       "      <td>440359</td>\n",
       "      <td>436223</td>\n",
       "      <td>4136</td>\n",
       "      <td>56161</td>\n",
       "      <td>0.939234</td>\n",
       "      <td>12.753458</td>\n",
       "      <td>0.229358</td>\n",
       "    </tr>\n",
       "    <tr>\n",
       "      <th>강북구</th>\n",
       "      <td>831</td>\n",
       "      <td>125.203252</td>\n",
       "      <td>328002</td>\n",
       "      <td>324479</td>\n",
       "      <td>3523</td>\n",
       "      <td>56530</td>\n",
       "      <td>1.074079</td>\n",
       "      <td>17.234651</td>\n",
       "      <td>0.253352</td>\n",
       "    </tr>\n",
       "  </tbody>\n",
       "</table>\n",
       "</div>"
      ],
      "text/plain": [
       "       소계       최근증가율     인구수     한국인   외국인    고령자     외국인비율      고령자비율  \\\n",
       "구별                                                                        \n",
       "강남구  3238  150.619195  561052  556164  4888  65060  0.871220  11.596073   \n",
       "강동구  1010  166.490765  440359  436223  4136  56161  0.939234  12.753458   \n",
       "강북구   831  125.203252  328002  324479  3523  56530  1.074079  17.234651   \n",
       "\n",
       "       CCTV비율  \n",
       "구별             \n",
       "강남구  0.577130  \n",
       "강동구  0.229358  \n",
       "강북구  0.253352  "
      ]
     },
     "execution_count": 331,
     "metadata": {},
     "output_type": "execute_result"
    }
   ],
   "source": [
    "data_result.head(3)"
   ]
  },
  {
   "cell_type": "code",
   "execution_count": 332,
   "id": "3e7f1084",
   "metadata": {},
   "outputs": [],
   "source": [
    "data_result[\"오차\"] = data_result[\"소계\"] - f1(data_result[\"인구수\"])"
   ]
  },
  {
   "cell_type": "code",
   "execution_count": 333,
   "id": "1646f114",
   "metadata": {},
   "outputs": [
    {
     "data": {
      "text/html": [
       "<div>\n",
       "<style scoped>\n",
       "    .dataframe tbody tr th:only-of-type {\n",
       "        vertical-align: middle;\n",
       "    }\n",
       "\n",
       "    .dataframe tbody tr th {\n",
       "        vertical-align: top;\n",
       "    }\n",
       "\n",
       "    .dataframe thead th {\n",
       "        text-align: right;\n",
       "    }\n",
       "</style>\n",
       "<table border=\"1\" class=\"dataframe\">\n",
       "  <thead>\n",
       "    <tr style=\"text-align: right;\">\n",
       "      <th></th>\n",
       "      <th>소계</th>\n",
       "      <th>최근증가율</th>\n",
       "      <th>인구수</th>\n",
       "      <th>한국인</th>\n",
       "      <th>외국인</th>\n",
       "      <th>고령자</th>\n",
       "      <th>외국인비율</th>\n",
       "      <th>고령자비율</th>\n",
       "      <th>CCTV비율</th>\n",
       "      <th>오차</th>\n",
       "    </tr>\n",
       "    <tr>\n",
       "      <th>구별</th>\n",
       "      <th></th>\n",
       "      <th></th>\n",
       "      <th></th>\n",
       "      <th></th>\n",
       "      <th></th>\n",
       "      <th></th>\n",
       "      <th></th>\n",
       "      <th></th>\n",
       "      <th></th>\n",
       "      <th></th>\n",
       "    </tr>\n",
       "  </thead>\n",
       "  <tbody>\n",
       "    <tr>\n",
       "      <th>강남구</th>\n",
       "      <td>3238</td>\n",
       "      <td>150.619195</td>\n",
       "      <td>561052</td>\n",
       "      <td>556164</td>\n",
       "      <td>4888</td>\n",
       "      <td>65060</td>\n",
       "      <td>0.87122</td>\n",
       "      <td>11.596073</td>\n",
       "      <td>0.57713</td>\n",
       "      <td>1549.200326</td>\n",
       "    </tr>\n",
       "  </tbody>\n",
       "</table>\n",
       "</div>"
      ],
      "text/plain": [
       "       소계       최근증가율     인구수     한국인   외국인    고령자    외국인비율      고령자비율  \\\n",
       "구별                                                                       \n",
       "강남구  3238  150.619195  561052  556164  4888  65060  0.87122  11.596073   \n",
       "\n",
       "      CCTV비율           오차  \n",
       "구별                         \n",
       "강남구  0.57713  1549.200326  "
      ]
     },
     "execution_count": 333,
     "metadata": {},
     "output_type": "execute_result"
    }
   ],
   "source": [
    "data_result.head(1)"
   ]
  },
  {
   "cell_type": "code",
   "execution_count": 334,
   "id": "d30a919c",
   "metadata": {},
   "outputs": [],
   "source": [
    "# 경향과 비교해서 데이터의 오차가 너무 나는 데이터를 계산 \n",
    "\n",
    "df_sort_f = data_result.sort_values(by=\"오차\", ascending=False) # 내림차순 \n",
    "df_sort_t = data_result.sort_values(by=\"오차\", ascending=True) # 오름차순   "
   ]
  },
  {
   "cell_type": "code",
   "execution_count": 335,
   "id": "2eed580d",
   "metadata": {},
   "outputs": [
    {
     "data": {
      "text/html": [
       "<div>\n",
       "<style scoped>\n",
       "    .dataframe tbody tr th:only-of-type {\n",
       "        vertical-align: middle;\n",
       "    }\n",
       "\n",
       "    .dataframe tbody tr th {\n",
       "        vertical-align: top;\n",
       "    }\n",
       "\n",
       "    .dataframe thead th {\n",
       "        text-align: right;\n",
       "    }\n",
       "</style>\n",
       "<table border=\"1\" class=\"dataframe\">\n",
       "  <thead>\n",
       "    <tr style=\"text-align: right;\">\n",
       "      <th></th>\n",
       "      <th>소계</th>\n",
       "      <th>최근증가율</th>\n",
       "      <th>인구수</th>\n",
       "      <th>한국인</th>\n",
       "      <th>외국인</th>\n",
       "      <th>고령자</th>\n",
       "      <th>외국인비율</th>\n",
       "      <th>고령자비율</th>\n",
       "      <th>CCTV비율</th>\n",
       "      <th>오차</th>\n",
       "    </tr>\n",
       "    <tr>\n",
       "      <th>구별</th>\n",
       "      <th></th>\n",
       "      <th></th>\n",
       "      <th></th>\n",
       "      <th></th>\n",
       "      <th></th>\n",
       "      <th></th>\n",
       "      <th></th>\n",
       "      <th></th>\n",
       "      <th></th>\n",
       "      <th></th>\n",
       "    </tr>\n",
       "  </thead>\n",
       "  <tbody>\n",
       "    <tr>\n",
       "      <th>강남구</th>\n",
       "      <td>3238</td>\n",
       "      <td>150.619195</td>\n",
       "      <td>561052</td>\n",
       "      <td>556164</td>\n",
       "      <td>4888</td>\n",
       "      <td>65060</td>\n",
       "      <td>0.871220</td>\n",
       "      <td>11.596073</td>\n",
       "      <td>0.577130</td>\n",
       "      <td>1549.200326</td>\n",
       "    </tr>\n",
       "    <tr>\n",
       "      <th>양천구</th>\n",
       "      <td>2482</td>\n",
       "      <td>34.671731</td>\n",
       "      <td>475018</td>\n",
       "      <td>471154</td>\n",
       "      <td>3864</td>\n",
       "      <td>55234</td>\n",
       "      <td>0.813443</td>\n",
       "      <td>11.627770</td>\n",
       "      <td>0.522507</td>\n",
       "      <td>888.832166</td>\n",
       "    </tr>\n",
       "    <tr>\n",
       "      <th>용산구</th>\n",
       "      <td>2096</td>\n",
       "      <td>53.216374</td>\n",
       "      <td>244444</td>\n",
       "      <td>229161</td>\n",
       "      <td>15283</td>\n",
       "      <td>36882</td>\n",
       "      <td>6.252148</td>\n",
       "      <td>15.088118</td>\n",
       "      <td>0.857456</td>\n",
       "      <td>759.128697</td>\n",
       "    </tr>\n",
       "    <tr>\n",
       "      <th>서초구</th>\n",
       "      <td>2297</td>\n",
       "      <td>63.371266</td>\n",
       "      <td>445401</td>\n",
       "      <td>441102</td>\n",
       "      <td>4299</td>\n",
       "      <td>53205</td>\n",
       "      <td>0.965198</td>\n",
       "      <td>11.945415</td>\n",
       "      <td>0.515715</td>\n",
       "      <td>736.753199</td>\n",
       "    </tr>\n",
       "    <tr>\n",
       "      <th>은평구</th>\n",
       "      <td>2108</td>\n",
       "      <td>85.237258</td>\n",
       "      <td>491202</td>\n",
       "      <td>486794</td>\n",
       "      <td>4408</td>\n",
       "      <td>74559</td>\n",
       "      <td>0.897390</td>\n",
       "      <td>15.178888</td>\n",
       "      <td>0.429151</td>\n",
       "      <td>496.842700</td>\n",
       "    </tr>\n",
       "  </tbody>\n",
       "</table>\n",
       "</div>"
      ],
      "text/plain": [
       "       소계       최근증가율     인구수     한국인    외국인    고령자     외국인비율      고령자비율  \\\n",
       "구별                                                                         \n",
       "강남구  3238  150.619195  561052  556164   4888  65060  0.871220  11.596073   \n",
       "양천구  2482   34.671731  475018  471154   3864  55234  0.813443  11.627770   \n",
       "용산구  2096   53.216374  244444  229161  15283  36882  6.252148  15.088118   \n",
       "서초구  2297   63.371266  445401  441102   4299  53205  0.965198  11.945415   \n",
       "은평구  2108   85.237258  491202  486794   4408  74559  0.897390  15.178888   \n",
       "\n",
       "       CCTV비율           오차  \n",
       "구별                          \n",
       "강남구  0.577130  1549.200326  \n",
       "양천구  0.522507   888.832166  \n",
       "용산구  0.857456   759.128697  \n",
       "서초구  0.515715   736.753199  \n",
       "은평구  0.429151   496.842700  "
      ]
     },
     "execution_count": 335,
     "metadata": {},
     "output_type": "execute_result"
    }
   ],
   "source": [
    "# 경향 대비 CCTV를 많이 가진 구 \n",
    "df_sort_f.head()"
   ]
  },
  {
   "cell_type": "code",
   "execution_count": 336,
   "id": "ad1802f7",
   "metadata": {},
   "outputs": [
    {
     "data": {
      "text/html": [
       "<div>\n",
       "<style scoped>\n",
       "    .dataframe tbody tr th:only-of-type {\n",
       "        vertical-align: middle;\n",
       "    }\n",
       "\n",
       "    .dataframe tbody tr th {\n",
       "        vertical-align: top;\n",
       "    }\n",
       "\n",
       "    .dataframe thead th {\n",
       "        text-align: right;\n",
       "    }\n",
       "</style>\n",
       "<table border=\"1\" class=\"dataframe\">\n",
       "  <thead>\n",
       "    <tr style=\"text-align: right;\">\n",
       "      <th></th>\n",
       "      <th>소계</th>\n",
       "      <th>최근증가율</th>\n",
       "      <th>인구수</th>\n",
       "      <th>한국인</th>\n",
       "      <th>외국인</th>\n",
       "      <th>고령자</th>\n",
       "      <th>외국인비율</th>\n",
       "      <th>고령자비율</th>\n",
       "      <th>CCTV비율</th>\n",
       "      <th>오차</th>\n",
       "    </tr>\n",
       "    <tr>\n",
       "      <th>구별</th>\n",
       "      <th></th>\n",
       "      <th></th>\n",
       "      <th></th>\n",
       "      <th></th>\n",
       "      <th></th>\n",
       "      <th></th>\n",
       "      <th></th>\n",
       "      <th></th>\n",
       "      <th></th>\n",
       "      <th></th>\n",
       "    </tr>\n",
       "  </thead>\n",
       "  <tbody>\n",
       "    <tr>\n",
       "      <th>강서구</th>\n",
       "      <td>911</td>\n",
       "      <td>134.793814</td>\n",
       "      <td>608255</td>\n",
       "      <td>601691</td>\n",
       "      <td>6564</td>\n",
       "      <td>76032</td>\n",
       "      <td>1.079153</td>\n",
       "      <td>12.500021</td>\n",
       "      <td>0.149773</td>\n",
       "      <td>-830.268578</td>\n",
       "    </tr>\n",
       "    <tr>\n",
       "      <th>송파구</th>\n",
       "      <td>1081</td>\n",
       "      <td>104.347826</td>\n",
       "      <td>671173</td>\n",
       "      <td>664496</td>\n",
       "      <td>6677</td>\n",
       "      <td>76582</td>\n",
       "      <td>0.994825</td>\n",
       "      <td>11.410173</td>\n",
       "      <td>0.161061</td>\n",
       "      <td>-730.205628</td>\n",
       "    </tr>\n",
       "    <tr>\n",
       "      <th>도봉구</th>\n",
       "      <td>825</td>\n",
       "      <td>246.638655</td>\n",
       "      <td>346234</td>\n",
       "      <td>344166</td>\n",
       "      <td>2068</td>\n",
       "      <td>53488</td>\n",
       "      <td>0.597284</td>\n",
       "      <td>15.448512</td>\n",
       "      <td>0.238278</td>\n",
       "      <td>-625.016861</td>\n",
       "    </tr>\n",
       "    <tr>\n",
       "      <th>중랑구</th>\n",
       "      <td>916</td>\n",
       "      <td>79.960707</td>\n",
       "      <td>412780</td>\n",
       "      <td>408226</td>\n",
       "      <td>4554</td>\n",
       "      <td>59262</td>\n",
       "      <td>1.103251</td>\n",
       "      <td>14.356800</td>\n",
       "      <td>0.221910</td>\n",
       "      <td>-607.986645</td>\n",
       "    </tr>\n",
       "    <tr>\n",
       "      <th>광진구</th>\n",
       "      <td>878</td>\n",
       "      <td>53.228621</td>\n",
       "      <td>372298</td>\n",
       "      <td>357703</td>\n",
       "      <td>14595</td>\n",
       "      <td>43953</td>\n",
       "      <td>3.920247</td>\n",
       "      <td>11.805865</td>\n",
       "      <td>0.235833</td>\n",
       "      <td>-600.988527</td>\n",
       "    </tr>\n",
       "  </tbody>\n",
       "</table>\n",
       "</div>"
      ],
      "text/plain": [
       "       소계       최근증가율     인구수     한국인    외국인    고령자     외국인비율      고령자비율  \\\n",
       "구별                                                                         \n",
       "강서구   911  134.793814  608255  601691   6564  76032  1.079153  12.500021   \n",
       "송파구  1081  104.347826  671173  664496   6677  76582  0.994825  11.410173   \n",
       "도봉구   825  246.638655  346234  344166   2068  53488  0.597284  15.448512   \n",
       "중랑구   916   79.960707  412780  408226   4554  59262  1.103251  14.356800   \n",
       "광진구   878   53.228621  372298  357703  14595  43953  3.920247  11.805865   \n",
       "\n",
       "       CCTV비율          오차  \n",
       "구별                         \n",
       "강서구  0.149773 -830.268578  \n",
       "송파구  0.161061 -730.205628  \n",
       "도봉구  0.238278 -625.016861  \n",
       "중랑구  0.221910 -607.986645  \n",
       "광진구  0.235833 -600.988527  "
      ]
     },
     "execution_count": 336,
     "metadata": {},
     "output_type": "execute_result"
    }
   ],
   "source": [
    "# 경향 대비 CCTV를 적게 가진 구 \n",
    "df_sort_t.head()"
   ]
  },
  {
   "cell_type": "code",
   "execution_count": 337,
   "id": "998a46db",
   "metadata": {},
   "outputs": [],
   "source": [
    "from matplotlib.colors import ListedColormap\n",
    "\n",
    "# colormap 을 사용자 정의(user define)로 세팅 \n",
    "color_step = [\"#e74c3c\", \"#2ecc71\", \"#95a9a6\", \"#2ecc71\", \"#3498db\", \"#3498db\"]\n",
    "my_cmap = ListedColormap(color_step)"
   ]
  },
  {
   "cell_type": "code",
   "execution_count": 338,
   "id": "1af4ef8c",
   "metadata": {},
   "outputs": [
    {
     "data": {
      "image/png": "[encoded data removed]",
      "text/plain": [
       "<Figure size 1400x1000 with 2 Axes>"
      ]
     },
     "metadata": {},
     "output_type": "display_data"
    }
   ],
   "source": [
    "def drawGraph():\n",
    "    \n",
    "    plt.figure(figsize=(14, 10))\n",
    "    plt.scatter(data_result[\"인구수\"], data_result[\"소계\"], s=50, c=data_result[\"오차\"], cmap=my_cmap)\n",
    "    plt.plot(fx, f1(fx), ls=\"dashed\", lw=3, color=\"g\")\n",
    "\n",
    "    for n in range(5):\n",
    "        # 상위 5개 \n",
    "        plt.text(\n",
    "            df_sort_f[\"인구수\"][n] * 1.02, # x 좌표\n",
    "            df_sort_f[\"소계\"][n] * 0.98,  # y 좌표\n",
    "            df_sort_f.index[n], # title \n",
    "            fontsize=15,\n",
    "        )\n",
    "    \n",
    "        # 하위 5개 \n",
    "        plt.text(\n",
    "            df_sort_t[\"인구수\"][n] * 1.02, \n",
    "            df_sort_t[\"소계\"][n] * 0.98,\n",
    "            df_sort_t.index[n],\n",
    "            fontsize=15\n",
    "        )\n",
    "        \n",
    "    \n",
    "    plt.xlabel(\"인구수\")\n",
    "    plt.ylabel(\"CCTV\")\n",
    "    plt.colorbar()\n",
    "    plt.grid(True)\n",
    "    plt.show() \n",
    "drawGraph()"
   ]
  },
  {
   "cell_type": "code",
   "execution_count": 339,
   "id": "166d7879",
   "metadata": {},
   "outputs": [],
   "source": [
    "# 데이터 저장\n",
    "data_result.to_csv(\"../data/01. CCTV_result.csv\", sep=\",\", encoding=\"utf-8\")"
   ]
  },
  {
   "cell_type": "code",
   "execution_count": null,
   "id": "171b92a1",
   "metadata": {},
   "outputs": [],
   "source": []
  }
 ],
 "metadata": {
  "kernelspec": {
   "display_name": "Python 3 (ipykernel)",
   "language": "python",
   "name": "python3"
  },
  "language_info": {
   "codemirror_mode": {
    "name": "ipython",
    "version": 3
   },
   "file_extension": ".py",
   "mimetype": "text/x-python",
   "name": "python",
   "nbconvert_exporter": "python",
   "pygments_lexer": "ipython3",
   "version": "3.8.16"
  }
 },
 "nbformat": 4,
 "nbformat_minor": 5
}
